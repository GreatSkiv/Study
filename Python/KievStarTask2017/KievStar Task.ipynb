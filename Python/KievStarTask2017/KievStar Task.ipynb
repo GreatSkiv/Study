{
 "cells": [
  {
   "cell_type": "markdown",
   "metadata": {},
   "source": [
    "###  Task KyivStar Data School 2017 (c) Денис Замятин"
   ]
  },
  {
   "cell_type": "code",
   "execution_count": 1,
   "metadata": {},
   "outputs": [],
   "source": [
    "import pandas as pd\n"
   ]
  },
  {
   "cell_type": "markdown",
   "metadata": {},
   "source": [
    "#### Читаем файл с тренировочными данными  не забываем указать разделитель так как файл не csv, а tsc"
   ]
  },
  {
   "cell_type": "code",
   "execution_count": 2,
   "metadata": {},
   "outputs": [],
   "source": [
    "target = pd.read_csv('./train.txt',sep='\\t')"
   ]
  },
  {
   "cell_type": "code",
   "execution_count": 3,
   "metadata": {},
   "outputs": [
    {
     "name": "stdout",
     "output_type": "stream",
     "text": [
      "<class 'pandas.core.frame.DataFrame'>\n",
      "RangeIndex: 6229 entries, 0 to 6228\n",
      "Data columns (total 2 columns):\n",
      "ID        6229 non-null int64\n",
      "TARGET    6229 non-null int64\n",
      "dtypes: int64(2)\n",
      "memory usage: 97.4 KB\n"
     ]
    }
   ],
   "source": [
    "target.info()"
   ]
  },
  {
   "cell_type": "code",
   "execution_count": 4,
   "metadata": {},
   "outputs": [
    {
     "data": {
      "text/html": [
       "<div>\n",
       "<style scoped>\n",
       "    .dataframe tbody tr th:only-of-type {\n",
       "        vertical-align: middle;\n",
       "    }\n",
       "\n",
       "    .dataframe tbody tr th {\n",
       "        vertical-align: top;\n",
       "    }\n",
       "\n",
       "    .dataframe thead th {\n",
       "        text-align: right;\n",
       "    }\n",
       "</style>\n",
       "<table border=\"1\" class=\"dataframe\">\n",
       "  <thead>\n",
       "    <tr style=\"text-align: right;\">\n",
       "      <th></th>\n",
       "      <th>ID</th>\n",
       "      <th>TARGET</th>\n",
       "    </tr>\n",
       "  </thead>\n",
       "  <tbody>\n",
       "    <tr>\n",
       "      <th>0</th>\n",
       "      <td>3983</td>\n",
       "      <td>3</td>\n",
       "    </tr>\n",
       "    <tr>\n",
       "      <th>1</th>\n",
       "      <td>8810</td>\n",
       "      <td>1</td>\n",
       "    </tr>\n",
       "    <tr>\n",
       "      <th>2</th>\n",
       "      <td>3898</td>\n",
       "      <td>1</td>\n",
       "    </tr>\n",
       "    <tr>\n",
       "      <th>3</th>\n",
       "      <td>4590</td>\n",
       "      <td>3</td>\n",
       "    </tr>\n",
       "    <tr>\n",
       "      <th>4</th>\n",
       "      <td>8539</td>\n",
       "      <td>1</td>\n",
       "    </tr>\n",
       "  </tbody>\n",
       "</table>\n",
       "</div>"
      ],
      "text/plain": [
       "     ID  TARGET\n",
       "0  3983       3\n",
       "1  8810       1\n",
       "2  3898       1\n",
       "3  4590       3\n",
       "4  8539       1"
      ]
     },
     "execution_count": 4,
     "metadata": {},
     "output_type": "execute_result"
    }
   ],
   "source": [
    "target.head()"
   ]
  },
  {
   "cell_type": "markdown",
   "metadata": {},
   "source": [
    "#### Проверяем  все ли  идентификаторы(ID) уникальные "
   ]
  },
  {
   "cell_type": "code",
   "execution_count": 5,
   "metadata": {},
   "outputs": [
    {
     "data": {
      "text/plain": [
       "6229"
      ]
     },
     "execution_count": 5,
     "metadata": {},
     "output_type": "execute_result"
    }
   ],
   "source": [
    "len(target.ID.unique())"
   ]
  },
  {
   "cell_type": "code",
   "execution_count": 6,
   "metadata": {},
   "outputs": [],
   "source": [
    "b1 = pd.read_csv('./Base1.txt', sep='\\t')\n",
    "b2 = pd.read_csv('./Base2.txt', sep='\\t')"
   ]
  },
  {
   "cell_type": "code",
   "execution_count": 7,
   "metadata": {},
   "outputs": [
    {
     "name": "stdout",
     "output_type": "stream",
     "text": [
      "<class 'pandas.core.frame.DataFrame'>\n",
      "RangeIndex: 9267 entries, 0 to 9266\n",
      "Data columns (total 5 columns):\n",
      "ID    9267 non-null int64\n",
      "T1    9267 non-null object\n",
      "T2    9267 non-null object\n",
      "T3    9267 non-null object\n",
      "T4    9267 non-null object\n",
      "dtypes: int64(1), object(4)\n",
      "memory usage: 362.1+ KB\n"
     ]
    }
   ],
   "source": [
    "b2.info()"
   ]
  },
  {
   "cell_type": "code",
   "execution_count": 8,
   "metadata": {},
   "outputs": [
    {
     "data": {
      "text/plain": [
       "9267"
      ]
     },
     "execution_count": 8,
     "metadata": {},
     "output_type": "execute_result"
    }
   ],
   "source": [
    "len(b2.ID.unique())"
   ]
  },
  {
   "cell_type": "markdown",
   "metadata": {},
   "source": [
    "#### как видим  в дата сете b2 данных по ID больше  чем  файле train.txt, возможно это для данных из файла  test.txt"
   ]
  },
  {
   "cell_type": "code",
   "execution_count": 9,
   "metadata": {},
   "outputs": [],
   "source": [
    "#### Суммарная статистика по полям Т1-Т4 не имеет смыла, так как это  не числа. Статистика есть только по ID"
   ]
  },
  {
   "cell_type": "code",
   "execution_count": 10,
   "metadata": {},
   "outputs": [
    {
     "data": {
      "text/html": [
       "<div>\n",
       "<style scoped>\n",
       "    .dataframe tbody tr th:only-of-type {\n",
       "        vertical-align: middle;\n",
       "    }\n",
       "\n",
       "    .dataframe tbody tr th {\n",
       "        vertical-align: top;\n",
       "    }\n",
       "\n",
       "    .dataframe thead th {\n",
       "        text-align: right;\n",
       "    }\n",
       "</style>\n",
       "<table border=\"1\" class=\"dataframe\">\n",
       "  <thead>\n",
       "    <tr style=\"text-align: right;\">\n",
       "      <th></th>\n",
       "      <th>ID</th>\n",
       "    </tr>\n",
       "  </thead>\n",
       "  <tbody>\n",
       "    <tr>\n",
       "      <th>count</th>\n",
       "      <td>9267.000000</td>\n",
       "    </tr>\n",
       "    <tr>\n",
       "      <th>mean</th>\n",
       "      <td>4634.000000</td>\n",
       "    </tr>\n",
       "    <tr>\n",
       "      <th>std</th>\n",
       "      <td>2675.296806</td>\n",
       "    </tr>\n",
       "    <tr>\n",
       "      <th>min</th>\n",
       "      <td>1.000000</td>\n",
       "    </tr>\n",
       "    <tr>\n",
       "      <th>25%</th>\n",
       "      <td>2317.500000</td>\n",
       "    </tr>\n",
       "    <tr>\n",
       "      <th>50%</th>\n",
       "      <td>4634.000000</td>\n",
       "    </tr>\n",
       "    <tr>\n",
       "      <th>75%</th>\n",
       "      <td>6950.500000</td>\n",
       "    </tr>\n",
       "    <tr>\n",
       "      <th>max</th>\n",
       "      <td>9267.000000</td>\n",
       "    </tr>\n",
       "  </tbody>\n",
       "</table>\n",
       "</div>"
      ],
      "text/plain": [
       "                ID\n",
       "count  9267.000000\n",
       "mean   4634.000000\n",
       "std    2675.296806\n",
       "min       1.000000\n",
       "25%    2317.500000\n",
       "50%    4634.000000\n",
       "75%    6950.500000\n",
       "max    9267.000000"
      ]
     },
     "execution_count": 10,
     "metadata": {},
     "output_type": "execute_result"
    }
   ],
   "source": [
    "b2.describe()"
   ]
  },
  {
   "cell_type": "code",
   "execution_count": 11,
   "metadata": {},
   "outputs": [
    {
     "data": {
      "text/html": [
       "<div>\n",
       "<style scoped>\n",
       "    .dataframe tbody tr th:only-of-type {\n",
       "        vertical-align: middle;\n",
       "    }\n",
       "\n",
       "    .dataframe tbody tr th {\n",
       "        vertical-align: top;\n",
       "    }\n",
       "\n",
       "    .dataframe thead th {\n",
       "        text-align: right;\n",
       "    }\n",
       "</style>\n",
       "<table border=\"1\" class=\"dataframe\">\n",
       "  <thead>\n",
       "    <tr style=\"text-align: right;\">\n",
       "      <th></th>\n",
       "      <th>ID</th>\n",
       "      <th>T1</th>\n",
       "      <th>T2</th>\n",
       "      <th>T3</th>\n",
       "      <th>T4</th>\n",
       "    </tr>\n",
       "  </thead>\n",
       "  <tbody>\n",
       "    <tr>\n",
       "      <th>0</th>\n",
       "      <td>1299</td>\n",
       "      <td>525ab75c928c6fac98a0f62e4da5316b7247ccd704c967...</td>\n",
       "      <td>b23c8d629d037531707dbb83e27932d879cb9f2a57c960...</td>\n",
       "      <td>68c03829c28a08159e587ba32f165c445276f7ca972481...</td>\n",
       "      <td>1dc161f26f37ac639bf14c645a4b9c24f0da5f96a83643...</td>\n",
       "    </tr>\n",
       "    <tr>\n",
       "      <th>1</th>\n",
       "      <td>4621</td>\n",
       "      <td>271f93f45e9b4067327ed5c8cd30a034730aaace438280...</td>\n",
       "      <td>a4b709af5eb19e6494158f9e3a67696411d8a7cd7e0b5d...</td>\n",
       "      <td>c0ce54b6e4c805bfb735491cfcffe9d846683fe764e974...</td>\n",
       "      <td>1af3d6dcce2a230337ff5bbf4e1065307ccbe923a41ba0...</td>\n",
       "    </tr>\n",
       "    <tr>\n",
       "      <th>2</th>\n",
       "      <td>4775</td>\n",
       "      <td>271f93f45e9b4067327ed5c8cd30a034730aaace438280...</td>\n",
       "      <td>a4b709af5eb19e6494158f9e3a67696411d8a7cd7e0b5d...</td>\n",
       "      <td>d0b8d1d417a45c7c58202f55cbb617865f1ef72c606f9b...</td>\n",
       "      <td>891199ade0cf46baaaeae0397521944517df106bf10410...</td>\n",
       "    </tr>\n",
       "    <tr>\n",
       "      <th>3</th>\n",
       "      <td>5860</td>\n",
       "      <td>525ab75c928c6fac98a0f62e4da5316b7247ccd704c967...</td>\n",
       "      <td>a4b709af5eb19e6494158f9e3a67696411d8a7cd7e0b5d...</td>\n",
       "      <td>d0b8d1d417a45c7c58202f55cbb617865f1ef72c606f9b...</td>\n",
       "      <td>7cf41b2f4c3426118b7e9a6117ebd7effced7f75d3dc9b...</td>\n",
       "    </tr>\n",
       "    <tr>\n",
       "      <th>4</th>\n",
       "      <td>8500</td>\n",
       "      <td>1c18a39e0bd33685c5684a50010cf67a80f2524417f0a2...</td>\n",
       "      <td>6834100708ea13d5f4d662c26e1e3a2786201f9f9da7be...</td>\n",
       "      <td>6722cc364817dd7f866a20b09f5040464cb847e1ee5b34...</td>\n",
       "      <td>5283565b4d1a49f1e59392f95b44256172e0e44fea2f4c...</td>\n",
       "    </tr>\n",
       "  </tbody>\n",
       "</table>\n",
       "</div>"
      ],
      "text/plain": [
       "     ID                                                 T1  \\\n",
       "0  1299  525ab75c928c6fac98a0f62e4da5316b7247ccd704c967...   \n",
       "1  4621  271f93f45e9b4067327ed5c8cd30a034730aaace438280...   \n",
       "2  4775  271f93f45e9b4067327ed5c8cd30a034730aaace438280...   \n",
       "3  5860  525ab75c928c6fac98a0f62e4da5316b7247ccd704c967...   \n",
       "4  8500  1c18a39e0bd33685c5684a50010cf67a80f2524417f0a2...   \n",
       "\n",
       "                                                  T2  \\\n",
       "0  b23c8d629d037531707dbb83e27932d879cb9f2a57c960...   \n",
       "1  a4b709af5eb19e6494158f9e3a67696411d8a7cd7e0b5d...   \n",
       "2  a4b709af5eb19e6494158f9e3a67696411d8a7cd7e0b5d...   \n",
       "3  a4b709af5eb19e6494158f9e3a67696411d8a7cd7e0b5d...   \n",
       "4  6834100708ea13d5f4d662c26e1e3a2786201f9f9da7be...   \n",
       "\n",
       "                                                  T3  \\\n",
       "0  68c03829c28a08159e587ba32f165c445276f7ca972481...   \n",
       "1  c0ce54b6e4c805bfb735491cfcffe9d846683fe764e974...   \n",
       "2  d0b8d1d417a45c7c58202f55cbb617865f1ef72c606f9b...   \n",
       "3  d0b8d1d417a45c7c58202f55cbb617865f1ef72c606f9b...   \n",
       "4  6722cc364817dd7f866a20b09f5040464cb847e1ee5b34...   \n",
       "\n",
       "                                                  T4  \n",
       "0  1dc161f26f37ac639bf14c645a4b9c24f0da5f96a83643...  \n",
       "1  1af3d6dcce2a230337ff5bbf4e1065307ccbe923a41ba0...  \n",
       "2  891199ade0cf46baaaeae0397521944517df106bf10410...  \n",
       "3  7cf41b2f4c3426118b7e9a6117ebd7effced7f75d3dc9b...  \n",
       "4  5283565b4d1a49f1e59392f95b44256172e0e44fea2f4c...  "
      ]
     },
     "execution_count": 11,
     "metadata": {},
     "output_type": "execute_result"
    }
   ],
   "source": [
    "b2.head()"
   ]
  },
  {
   "cell_type": "markdown",
   "metadata": {},
   "source": [
    "#### Видно даже  по хешам что  значения  переменных Т1-Т4 повторяются - вероятней  всего они категориальные "
   ]
  },
  {
   "cell_type": "code",
   "execution_count": 12,
   "metadata": {},
   "outputs": [
    {
     "data": {
      "text/plain": [
       "25"
      ]
     },
     "execution_count": 12,
     "metadata": {},
     "output_type": "execute_result"
    }
   ],
   "source": [
    "len(b2.T1.unique())"
   ]
  },
  {
   "cell_type": "markdown",
   "metadata": {},
   "source": [
    "#### видно что действительно в Т1 25  повторяющихся  значений (категорий) и похоже что это 25  областей"
   ]
  },
  {
   "cell_type": "code",
   "execution_count": 13,
   "metadata": {
    "scrolled": true
   },
   "outputs": [
    {
     "data": {
      "text/plain": [
       "7"
      ]
     },
     "execution_count": 13,
     "metadata": {},
     "output_type": "execute_result"
    }
   ],
   "source": [
    "len(b2.T2.unique())"
   ]
  },
  {
   "cell_type": "markdown",
   "metadata": {},
   "source": [
    " #### Т2 - похоже регионы"
   ]
  },
  {
   "cell_type": "code",
   "execution_count": 14,
   "metadata": {},
   "outputs": [
    {
     "data": {
      "text/plain": [
       "152"
      ]
     },
     "execution_count": 14,
     "metadata": {},
     "output_type": "execute_result"
    }
   ],
   "source": [
    "len(b2.T3.unique())"
   ]
  },
  {
   "cell_type": "markdown",
   "metadata": {},
   "source": [
    " #### T3 это похоже на районы"
   ]
  },
  {
   "cell_type": "code",
   "execution_count": 15,
   "metadata": {},
   "outputs": [
    {
     "data": {
      "text/plain": [
       "1394"
      ]
     },
     "execution_count": 15,
     "metadata": {},
     "output_type": "execute_result"
    }
   ],
   "source": [
    "len(b2.T4.unique())"
   ]
  },
  {
   "cell_type": "markdown",
   "metadata": {},
   "source": [
    "#### T4 а это  на населенные пункты"
   ]
  },
  {
   "cell_type": "code",
   "execution_count": 16,
   "metadata": {},
   "outputs": [],
   "source": [
    "import matplotlib.pyplot as plt"
   ]
  },
  {
   "cell_type": "code",
   "execution_count": 17,
   "metadata": {
    "scrolled": true
   },
   "outputs": [
    {
     "data": {
      "text/plain": [
       "T1\n",
       "112a6cfa3ed398a5248c479ed6a061d397633a3fb4d5b9ecca274695     192\n",
       "161a68601ec1d8ca45250557cff3ffb98eca53fbcf86bbdb8e8bb6e7     230\n",
       "192f56eb9bd894a72b30c303247b107be2c4591f310dd69a67927f48     325\n",
       "1c18a39e0bd33685c5684a50010cf67a80f2524417f0a2cfde03810d     318\n",
       "271f93f45e9b4067327ed5c8cd30a034730aaace4382803c3e1d6c2f     927\n",
       "31da1a042dc910775ed8b487afbdafd929a7afdeaadc660cb963bd26     405\n",
       "31e37d936439ee86e5496116c51ebf72018be157ed61a638dd510046     170\n",
       "3aac67cd73162d439f9947d61357a1b62432f0ca84b7f435f4177a8c    1093\n",
       "3c794f0c67bd561ce841fc6a5999bf0df298a0f0ae3487efda9d0ef4      76\n",
       "46e8e7eef892970f8f372779731916e5349d9c82a65227374303299e       2\n",
       "4cfc3a1811fe40afa401b25ef7fa0379f1f7c1930a04f8755d678474     233\n",
       "525ab75c928c6fac98a0f62e4da5316b7247ccd704c967ef9142925c     416\n",
       "56929c1607626a1edbdaafb9c7f10c247e54fcbb20f1e3260f783011     174\n",
       "58b2aaa0bfae7acc021b3260e941117b529b2e69de878fd7d45c61a9     545\n",
       "6d81d201ee3527b82cf59f3bface88fd2ddbffd3d58fcda4d4b5c4ec     299\n",
       "751267062c92e398c3942214b58136f73a4b9e1ca9a214d72d6d5805     475\n",
       "76b8d44676fed57eb0e3627eff69165c9ea9788ad0e832560d48a146     248\n",
       "86730f0dd6381286d3b5f0dfb897ce4895480ce97564c6be4f1543b8     591\n",
       "87592c38e2b36a1d35437714ecedee4d6fad7a1a0b1bf5d7a2ab68ef     566\n",
       "958d155f6746e8f18d32a710f206d83f272919fdba3df5c5ad4bc4fd     222\n",
       "a210f3351c013fe54d4d7d3ee0d33b76036c62324909b3ef458401c3     385\n",
       "a29662a4f922a60411ca84c145bf83b76ec59210be23d995e30934d2     474\n",
       "b51d18b551043c1f145f22dbde6f8531faeaf68c54ed9dd79ce24d17     260\n",
       "bd1a1bdf6eae5ee14c3fee371cca975a5e052009bc67ce8f11cb7271     386\n",
       "e356f7a3e975871b64a30ec2390d130d5ff859054935857598fe3414     255\n",
       "Name: T1, dtype: int64"
      ]
     },
     "execution_count": 17,
     "metadata": {},
     "output_type": "execute_result"
    }
   ],
   "source": [
    "b2.groupby('T1')['T1'].count()"
   ]
  },
  {
   "cell_type": "markdown",
   "metadata": {},
   "source": [
    "#### посмотрели распределение  по значениям категории Т1(области)"
   ]
  },
  {
   "cell_type": "code",
   "execution_count": 18,
   "metadata": {},
   "outputs": [
    {
     "data": {
      "text/plain": [
       "(array([2., 3., 9., 4., 3., 2., 0., 0., 1., 1.]),\n",
       " array([   2. ,  111.1,  220.2,  329.3,  438.4,  547.5,  656.6,  765.7,\n",
       "         874.8,  983.9, 1093. ]),\n",
       " <a list of 10 Patch objects>)"
      ]
     },
     "execution_count": 18,
     "metadata": {},
     "output_type": "execute_result"
    },
    {
     "data": {
      "image/png": "[encoded data removed]",
      "text/plain": [
       "<Figure size 432x288 with 1 Axes>"
      ]
     },
     "metadata": {
      "needs_background": "light"
     },
     "output_type": "display_data"
    }
   ],
   "source": [
    "plt.hist(b2.groupby('T1')['T1'].count())"
   ]
  },
  {
   "cell_type": "markdown",
   "metadata": {},
   "source": [
    "#### по ходу данная гистограмма ни о чем не говорит... ну раз ве что о том  что существует например 9 областей\n",
    "#### 220,2 до 329,3(включительно) значений ID"
   ]
  },
  {
   "cell_type": "code",
   "execution_count": 19,
   "metadata": {},
   "outputs": [],
   "source": [
    "from sklearn.preprocessing import LabelEncoder\n",
    "import numpy  as np"
   ]
  },
  {
   "cell_type": "code",
   "execution_count": 20,
   "metadata": {},
   "outputs": [],
   "source": [
    "for feature in b2.drop('ID',axis=1).columns:\n",
    "    b2[feature]=LabelEncoder().fit_transform(b2[feature])"
   ]
  },
  {
   "cell_type": "code",
   "execution_count": 21,
   "metadata": {},
   "outputs": [
    {
     "data": {
      "text/html": [
       "<div>\n",
       "<style scoped>\n",
       "    .dataframe tbody tr th:only-of-type {\n",
       "        vertical-align: middle;\n",
       "    }\n",
       "\n",
       "    .dataframe tbody tr th {\n",
       "        vertical-align: top;\n",
       "    }\n",
       "\n",
       "    .dataframe thead th {\n",
       "        text-align: right;\n",
       "    }\n",
       "</style>\n",
       "<table border=\"1\" class=\"dataframe\">\n",
       "  <thead>\n",
       "    <tr style=\"text-align: right;\">\n",
       "      <th></th>\n",
       "      <th>ID</th>\n",
       "      <th>T1</th>\n",
       "      <th>T2</th>\n",
       "      <th>T3</th>\n",
       "      <th>T4</th>\n",
       "    </tr>\n",
       "  </thead>\n",
       "  <tbody>\n",
       "    <tr>\n",
       "      <th>0</th>\n",
       "      <td>1299</td>\n",
       "      <td>11</td>\n",
       "      <td>6</td>\n",
       "      <td>63</td>\n",
       "      <td>170</td>\n",
       "    </tr>\n",
       "    <tr>\n",
       "      <th>1</th>\n",
       "      <td>4621</td>\n",
       "      <td>4</td>\n",
       "      <td>4</td>\n",
       "      <td>114</td>\n",
       "      <td>152</td>\n",
       "    </tr>\n",
       "    <tr>\n",
       "      <th>2</th>\n",
       "      <td>4775</td>\n",
       "      <td>4</td>\n",
       "      <td>4</td>\n",
       "      <td>123</td>\n",
       "      <td>750</td>\n",
       "    </tr>\n",
       "    <tr>\n",
       "      <th>3</th>\n",
       "      <td>5860</td>\n",
       "      <td>11</td>\n",
       "      <td>4</td>\n",
       "      <td>123</td>\n",
       "      <td>688</td>\n",
       "    </tr>\n",
       "    <tr>\n",
       "      <th>4</th>\n",
       "      <td>8500</td>\n",
       "      <td>3</td>\n",
       "      <td>1</td>\n",
       "      <td>60</td>\n",
       "      <td>453</td>\n",
       "    </tr>\n",
       "  </tbody>\n",
       "</table>\n",
       "</div>"
      ],
      "text/plain": [
       "     ID  T1  T2   T3   T4\n",
       "0  1299  11   6   63  170\n",
       "1  4621   4   4  114  152\n",
       "2  4775   4   4  123  750\n",
       "3  5860  11   4  123  688\n",
       "4  8500   3   1   60  453"
      ]
     },
     "execution_count": 21,
     "metadata": {},
     "output_type": "execute_result"
    }
   ],
   "source": [
    "b2.head()\n"
   ]
  },
  {
   "cell_type": "markdown",
   "metadata": {},
   "source": [
    "#####  привели категории к нормальному цифровому виду для дальнейшей работы\n",
    "##### переходим к базе b1"
   ]
  },
  {
   "cell_type": "code",
   "execution_count": 22,
   "metadata": {},
   "outputs": [
    {
     "name": "stdout",
     "output_type": "stream",
     "text": [
      "<class 'pandas.core.frame.DataFrame'>\n",
      "RangeIndex: 54327 entries, 0 to 54326\n",
      "Data columns (total 44 columns):\n",
      "ID       54327 non-null int64\n",
      "MONTH    54327 non-null int64\n",
      "V1       51092 non-null float64\n",
      "V2       51134 non-null float64\n",
      "V3       51203 non-null float64\n",
      "V4       51112 non-null float64\n",
      "V5       51137 non-null float64\n",
      "V6       51055 non-null float64\n",
      "V7       51093 non-null float64\n",
      "V8       51054 non-null float64\n",
      "V9       51022 non-null float64\n",
      "V10      51034 non-null float64\n",
      "V11      51037 non-null float64\n",
      "V12      51095 non-null float64\n",
      "V13      51024 non-null float64\n",
      "V14      51042 non-null float64\n",
      "V15      51096 non-null float64\n",
      "V16      51019 non-null float64\n",
      "V17      51017 non-null float64\n",
      "V18      51049 non-null float64\n",
      "V19      51061 non-null float64\n",
      "V20      51104 non-null float64\n",
      "V21      51008 non-null float64\n",
      "V22      51070 non-null float64\n",
      "V23      51064 non-null float64\n",
      "V24      51143 non-null float64\n",
      "V25      51073 non-null float64\n",
      "V26      51135 non-null float64\n",
      "V27      51060 non-null float64\n",
      "V28      51026 non-null float64\n",
      "V29      51084 non-null float64\n",
      "V30      51140 non-null float64\n",
      "V31      51109 non-null float64\n",
      "V32      51163 non-null float64\n",
      "V33      51077 non-null float64\n",
      "V34      51079 non-null float64\n",
      "V35      51065 non-null float64\n",
      "V36      51022 non-null float64\n",
      "V37      51037 non-null float64\n",
      "V38      50984 non-null float64\n",
      "V39      51001 non-null float64\n",
      "V40      50986 non-null float64\n",
      "V41      51019 non-null float64\n",
      "V42      51032 non-null float64\n",
      "dtypes: float64(42), int64(2)\n",
      "memory usage: 18.2 MB\n"
     ]
    }
   ],
   "source": [
    "b1.info()"
   ]
  },
  {
   "cell_type": "markdown",
   "metadata": {},
   "source": [
    "#### предположительно(в b1  9267 уникальных ID) и у нас 54327 записей по 6 записей на абонента(ID)\n",
    "#### проверим это на уникальных значениях месяца"
   ]
  },
  {
   "cell_type": "code",
   "execution_count": 23,
   "metadata": {},
   "outputs": [
    {
     "data": {
      "text/plain": [
       "array([6, 5, 4, 3, 2, 1])"
      ]
     },
     "execution_count": 23,
     "metadata": {},
     "output_type": "execute_result"
    }
   ],
   "source": [
    "b1.MONTH.unique()"
   ]
  },
  {
   "cell_type": "markdown",
   "metadata": {},
   "source": [
    "#### действительно  месяцы от 1-го до 6-го "
   ]
  },
  {
   "cell_type": "code",
   "execution_count": 24,
   "metadata": {},
   "outputs": [
    {
     "data": {
      "text/plain": [
       "pandas.core.frame.DataFrame"
      ]
     },
     "execution_count": 24,
     "metadata": {},
     "output_type": "execute_result"
    }
   ],
   "source": [
    "type(b1)"
   ]
  },
  {
   "cell_type": "markdown",
   "metadata": {},
   "source": [
    "#### Заполняем  все значения NaN значениями медианы"
   ]
  },
  {
   "cell_type": "code",
   "execution_count": 25,
   "metadata": {},
   "outputs": [],
   "source": [
    "for i in range(1,43):\n",
    "    b1['V'+str(i)]=b1['V'+str(i)].fillna( np.nanmedian(b1['V'+str(i)]))"
   ]
  },
  {
   "cell_type": "code",
   "execution_count": 26,
   "metadata": {},
   "outputs": [
    {
     "name": "stdout",
     "output_type": "stream",
     "text": [
      "<class 'pandas.core.frame.DataFrame'>\n",
      "RangeIndex: 54327 entries, 0 to 54326\n",
      "Data columns (total 44 columns):\n",
      "ID       54327 non-null int64\n",
      "MONTH    54327 non-null int64\n",
      "V1       54327 non-null float64\n",
      "V2       54327 non-null float64\n",
      "V3       54327 non-null float64\n",
      "V4       54327 non-null float64\n",
      "V5       54327 non-null float64\n",
      "V6       54327 non-null float64\n",
      "V7       54327 non-null float64\n",
      "V8       54327 non-null float64\n",
      "V9       54327 non-null float64\n",
      "V10      54327 non-null float64\n",
      "V11      54327 non-null float64\n",
      "V12      54327 non-null float64\n",
      "V13      54327 non-null float64\n",
      "V14      54327 non-null float64\n",
      "V15      54327 non-null float64\n",
      "V16      54327 non-null float64\n",
      "V17      54327 non-null float64\n",
      "V18      54327 non-null float64\n",
      "V19      54327 non-null float64\n",
      "V20      54327 non-null float64\n",
      "V21      54327 non-null float64\n",
      "V22      54327 non-null float64\n",
      "V23      54327 non-null float64\n",
      "V24      54327 non-null float64\n",
      "V25      54327 non-null float64\n",
      "V26      54327 non-null float64\n",
      "V27      54327 non-null float64\n",
      "V28      54327 non-null float64\n",
      "V29      54327 non-null float64\n",
      "V30      54327 non-null float64\n",
      "V31      54327 non-null float64\n",
      "V32      54327 non-null float64\n",
      "V33      54327 non-null float64\n",
      "V34      54327 non-null float64\n",
      "V35      54327 non-null float64\n",
      "V36      54327 non-null float64\n",
      "V37      54327 non-null float64\n",
      "V38      54327 non-null float64\n",
      "V39      54327 non-null float64\n",
      "V40      54327 non-null float64\n",
      "V41      54327 non-null float64\n",
      "V42      54327 non-null float64\n",
      "dtypes: float64(42), int64(2)\n",
      "memory usage: 18.2 MB\n"
     ]
    }
   ],
   "source": [
    "b1.info()"
   ]
  },
  {
   "cell_type": "code",
   "execution_count": 27,
   "metadata": {},
   "outputs": [],
   "source": [
    "####27:47"
   ]
  },
  {
   "cell_type": "markdown",
   "metadata": {},
   "source": [
    "### группирем по ID и выводим покаждому столбцу медианное значение"
   ]
  },
  {
   "cell_type": "code",
   "execution_count": 28,
   "metadata": {},
   "outputs": [],
   "source": [
    "b1=b1.groupby(['ID']).median()"
   ]
  },
  {
   "cell_type": "code",
   "execution_count": 29,
   "metadata": {},
   "outputs": [],
   "source": [
    "del b1['MONTH']"
   ]
  },
  {
   "cell_type": "code",
   "execution_count": 30,
   "metadata": {
    "scrolled": true
   },
   "outputs": [
    {
     "data": {
      "text/html": [
       "<div>\n",
       "<style scoped>\n",
       "    .dataframe tbody tr th:only-of-type {\n",
       "        vertical-align: middle;\n",
       "    }\n",
       "\n",
       "    .dataframe tbody tr th {\n",
       "        vertical-align: top;\n",
       "    }\n",
       "\n",
       "    .dataframe thead th {\n",
       "        text-align: right;\n",
       "    }\n",
       "</style>\n",
       "<table border=\"1\" class=\"dataframe\">\n",
       "  <thead>\n",
       "    <tr style=\"text-align: right;\">\n",
       "      <th></th>\n",
       "      <th>V1</th>\n",
       "      <th>V2</th>\n",
       "      <th>V3</th>\n",
       "      <th>V4</th>\n",
       "      <th>V5</th>\n",
       "      <th>V6</th>\n",
       "      <th>V7</th>\n",
       "      <th>V8</th>\n",
       "      <th>V9</th>\n",
       "      <th>V10</th>\n",
       "      <th>...</th>\n",
       "      <th>V33</th>\n",
       "      <th>V34</th>\n",
       "      <th>V35</th>\n",
       "      <th>V36</th>\n",
       "      <th>V37</th>\n",
       "      <th>V38</th>\n",
       "      <th>V39</th>\n",
       "      <th>V40</th>\n",
       "      <th>V41</th>\n",
       "      <th>V42</th>\n",
       "    </tr>\n",
       "    <tr>\n",
       "      <th>ID</th>\n",
       "      <th></th>\n",
       "      <th></th>\n",
       "      <th></th>\n",
       "      <th></th>\n",
       "      <th></th>\n",
       "      <th></th>\n",
       "      <th></th>\n",
       "      <th></th>\n",
       "      <th></th>\n",
       "      <th></th>\n",
       "      <th></th>\n",
       "      <th></th>\n",
       "      <th></th>\n",
       "      <th></th>\n",
       "      <th></th>\n",
       "      <th></th>\n",
       "      <th></th>\n",
       "      <th></th>\n",
       "      <th></th>\n",
       "      <th></th>\n",
       "      <th></th>\n",
       "    </tr>\n",
       "  </thead>\n",
       "  <tbody>\n",
       "    <tr>\n",
       "      <th>1</th>\n",
       "      <td>36.335798</td>\n",
       "      <td>0.0</td>\n",
       "      <td>0.0</td>\n",
       "      <td>0.0</td>\n",
       "      <td>0.0</td>\n",
       "      <td>0.0</td>\n",
       "      <td>0.00000</td>\n",
       "      <td>0.000000</td>\n",
       "      <td>0.0</td>\n",
       "      <td>0.00000</td>\n",
       "      <td>...</td>\n",
       "      <td>0.0</td>\n",
       "      <td>0.000</td>\n",
       "      <td>653.910509</td>\n",
       "      <td>7.248508</td>\n",
       "      <td>6.210913</td>\n",
       "      <td>276.0</td>\n",
       "      <td>2.5</td>\n",
       "      <td>172.0</td>\n",
       "      <td>3.0</td>\n",
       "      <td>88252.0</td>\n",
       "    </tr>\n",
       "    <tr>\n",
       "      <th>2</th>\n",
       "      <td>46.131072</td>\n",
       "      <td>0.0</td>\n",
       "      <td>0.0</td>\n",
       "      <td>0.0</td>\n",
       "      <td>0.0</td>\n",
       "      <td>0.0</td>\n",
       "      <td>0.00000</td>\n",
       "      <td>0.000000</td>\n",
       "      <td>0.0</td>\n",
       "      <td>0.00000</td>\n",
       "      <td>...</td>\n",
       "      <td>0.0</td>\n",
       "      <td>0.000</td>\n",
       "      <td>938.978920</td>\n",
       "      <td>13.428450</td>\n",
       "      <td>5.869967</td>\n",
       "      <td>252.0</td>\n",
       "      <td>27.5</td>\n",
       "      <td>230.0</td>\n",
       "      <td>11.5</td>\n",
       "      <td>29702.0</td>\n",
       "    </tr>\n",
       "    <tr>\n",
       "      <th>3</th>\n",
       "      <td>64.008600</td>\n",
       "      <td>0.0</td>\n",
       "      <td>0.0</td>\n",
       "      <td>0.0</td>\n",
       "      <td>0.0</td>\n",
       "      <td>0.0</td>\n",
       "      <td>0.00000</td>\n",
       "      <td>0.000000</td>\n",
       "      <td>0.0</td>\n",
       "      <td>0.00000</td>\n",
       "      <td>...</td>\n",
       "      <td>0.0</td>\n",
       "      <td>0.000</td>\n",
       "      <td>50.268274</td>\n",
       "      <td>0.000000</td>\n",
       "      <td>0.000000</td>\n",
       "      <td>71.0</td>\n",
       "      <td>0.0</td>\n",
       "      <td>46.0</td>\n",
       "      <td>0.0</td>\n",
       "      <td>25857.0</td>\n",
       "    </tr>\n",
       "    <tr>\n",
       "      <th>4</th>\n",
       "      <td>37.537999</td>\n",
       "      <td>0.0</td>\n",
       "      <td>0.0</td>\n",
       "      <td>0.0</td>\n",
       "      <td>0.0</td>\n",
       "      <td>0.0</td>\n",
       "      <td>0.00000</td>\n",
       "      <td>1.232401</td>\n",
       "      <td>0.0</td>\n",
       "      <td>0.00000</td>\n",
       "      <td>...</td>\n",
       "      <td>0.0</td>\n",
       "      <td>0.000</td>\n",
       "      <td>467.769584</td>\n",
       "      <td>6.400178</td>\n",
       "      <td>15.894519</td>\n",
       "      <td>280.0</td>\n",
       "      <td>2.5</td>\n",
       "      <td>71.5</td>\n",
       "      <td>3.5</td>\n",
       "      <td>647727.0</td>\n",
       "    </tr>\n",
       "    <tr>\n",
       "      <th>5</th>\n",
       "      <td>44.626190</td>\n",
       "      <td>0.0</td>\n",
       "      <td>0.0</td>\n",
       "      <td>0.0</td>\n",
       "      <td>0.0</td>\n",
       "      <td>0.0</td>\n",
       "      <td>1.04841</td>\n",
       "      <td>0.000000</td>\n",
       "      <td>0.0</td>\n",
       "      <td>4.69955</td>\n",
       "      <td>...</td>\n",
       "      <td>2.5</td>\n",
       "      <td>20.409</td>\n",
       "      <td>352.523699</td>\n",
       "      <td>2.369862</td>\n",
       "      <td>23.260390</td>\n",
       "      <td>316.0</td>\n",
       "      <td>9.5</td>\n",
       "      <td>387.5</td>\n",
       "      <td>22.0</td>\n",
       "      <td>24175.0</td>\n",
       "    </tr>\n",
       "  </tbody>\n",
       "</table>\n",
       "<p>5 rows × 42 columns</p>\n",
       "</div>"
      ],
      "text/plain": [
       "           V1   V2   V3   V4   V5   V6       V7        V8   V9      V10  \\\n",
       "ID                                                                        \n",
       "1   36.335798  0.0  0.0  0.0  0.0  0.0  0.00000  0.000000  0.0  0.00000   \n",
       "2   46.131072  0.0  0.0  0.0  0.0  0.0  0.00000  0.000000  0.0  0.00000   \n",
       "3   64.008600  0.0  0.0  0.0  0.0  0.0  0.00000  0.000000  0.0  0.00000   \n",
       "4   37.537999  0.0  0.0  0.0  0.0  0.0  0.00000  1.232401  0.0  0.00000   \n",
       "5   44.626190  0.0  0.0  0.0  0.0  0.0  1.04841  0.000000  0.0  4.69955   \n",
       "\n",
       "      ...     V33     V34         V35        V36        V37    V38   V39  \\\n",
       "ID    ...                                                                  \n",
       "1     ...     0.0   0.000  653.910509   7.248508   6.210913  276.0   2.5   \n",
       "2     ...     0.0   0.000  938.978920  13.428450   5.869967  252.0  27.5   \n",
       "3     ...     0.0   0.000   50.268274   0.000000   0.000000   71.0   0.0   \n",
       "4     ...     0.0   0.000  467.769584   6.400178  15.894519  280.0   2.5   \n",
       "5     ...     2.5  20.409  352.523699   2.369862  23.260390  316.0   9.5   \n",
       "\n",
       "      V40   V41       V42  \n",
       "ID                         \n",
       "1   172.0   3.0   88252.0  \n",
       "2   230.0  11.5   29702.0  \n",
       "3    46.0   0.0   25857.0  \n",
       "4    71.5   3.5  647727.0  \n",
       "5   387.5  22.0   24175.0  \n",
       "\n",
       "[5 rows x 42 columns]"
      ]
     },
     "execution_count": 30,
     "metadata": {},
     "output_type": "execute_result"
    }
   ],
   "source": [
    "b1.head()"
   ]
  },
  {
   "cell_type": "markdown",
   "metadata": {},
   "source": [
    "#### Сначала пробуем нестандартизизовать значения . Соединяем таблицы"
   ]
  },
  {
   "cell_type": "code",
   "execution_count": 31,
   "metadata": {},
   "outputs": [],
   "source": [
    "b1=b1.reset_index()"
   ]
  },
  {
   "cell_type": "code",
   "execution_count": 32,
   "metadata": {},
   "outputs": [
    {
     "data": {
      "text/plain": [
       "6229"
      ]
     },
     "execution_count": 32,
     "metadata": {},
     "output_type": "execute_result"
    }
   ],
   "source": [
    "len(target.merge(b1,left_on='ID',right_on='ID'))"
   ]
  },
  {
   "cell_type": "code",
   "execution_count": 33,
   "metadata": {},
   "outputs": [],
   "source": [
    "r =target.merge(b1,left_on='ID',right_on='ID')"
   ]
  },
  {
   "cell_type": "code",
   "execution_count": 34,
   "metadata": {},
   "outputs": [],
   "source": [
    "r =r.merge(b2,left_on='ID',right_on='ID')"
   ]
  },
  {
   "cell_type": "code",
   "execution_count": 35,
   "metadata": {},
   "outputs": [
    {
     "data": {
      "text/html": [
       "<div>\n",
       "<style scoped>\n",
       "    .dataframe tbody tr th:only-of-type {\n",
       "        vertical-align: middle;\n",
       "    }\n",
       "\n",
       "    .dataframe tbody tr th {\n",
       "        vertical-align: top;\n",
       "    }\n",
       "\n",
       "    .dataframe thead th {\n",
       "        text-align: right;\n",
       "    }\n",
       "</style>\n",
       "<table border=\"1\" class=\"dataframe\">\n",
       "  <thead>\n",
       "    <tr style=\"text-align: right;\">\n",
       "      <th></th>\n",
       "      <th>ID</th>\n",
       "      <th>TARGET</th>\n",
       "      <th>V1</th>\n",
       "      <th>V2</th>\n",
       "      <th>V3</th>\n",
       "      <th>V4</th>\n",
       "      <th>V5</th>\n",
       "      <th>V6</th>\n",
       "      <th>V7</th>\n",
       "      <th>V8</th>\n",
       "      <th>...</th>\n",
       "      <th>V37</th>\n",
       "      <th>V38</th>\n",
       "      <th>V39</th>\n",
       "      <th>V40</th>\n",
       "      <th>V41</th>\n",
       "      <th>V42</th>\n",
       "      <th>T1</th>\n",
       "      <th>T2</th>\n",
       "      <th>T3</th>\n",
       "      <th>T4</th>\n",
       "    </tr>\n",
       "  </thead>\n",
       "  <tbody>\n",
       "    <tr>\n",
       "      <th>0</th>\n",
       "      <td>3983</td>\n",
       "      <td>3</td>\n",
       "      <td>211.849314</td>\n",
       "      <td>0.0</td>\n",
       "      <td>0.00000</td>\n",
       "      <td>0.000000</td>\n",
       "      <td>0.0</td>\n",
       "      <td>0.000000</td>\n",
       "      <td>0.00000</td>\n",
       "      <td>0.000000</td>\n",
       "      <td>...</td>\n",
       "      <td>46.173950</td>\n",
       "      <td>202.5</td>\n",
       "      <td>72.5</td>\n",
       "      <td>137.0</td>\n",
       "      <td>41.5</td>\n",
       "      <td>1016515.0</td>\n",
       "      <td>18</td>\n",
       "      <td>4</td>\n",
       "      <td>48</td>\n",
       "      <td>82</td>\n",
       "    </tr>\n",
       "    <tr>\n",
       "      <th>1</th>\n",
       "      <td>8810</td>\n",
       "      <td>1</td>\n",
       "      <td>252.571342</td>\n",
       "      <td>0.0</td>\n",
       "      <td>4.81024</td>\n",
       "      <td>0.495445</td>\n",
       "      <td>0.0</td>\n",
       "      <td>44.717697</td>\n",
       "      <td>9.20239</td>\n",
       "      <td>37.425344</td>\n",
       "      <td>...</td>\n",
       "      <td>116.837359</td>\n",
       "      <td>192.5</td>\n",
       "      <td>46.0</td>\n",
       "      <td>58.0</td>\n",
       "      <td>91.0</td>\n",
       "      <td>15763.0</td>\n",
       "      <td>13</td>\n",
       "      <td>4</td>\n",
       "      <td>117</td>\n",
       "      <td>886</td>\n",
       "    </tr>\n",
       "    <tr>\n",
       "      <th>2</th>\n",
       "      <td>3898</td>\n",
       "      <td>1</td>\n",
       "      <td>34.463683</td>\n",
       "      <td>0.0</td>\n",
       "      <td>0.00000</td>\n",
       "      <td>0.000000</td>\n",
       "      <td>0.0</td>\n",
       "      <td>0.000000</td>\n",
       "      <td>0.00000</td>\n",
       "      <td>17.124165</td>\n",
       "      <td>...</td>\n",
       "      <td>0.000000</td>\n",
       "      <td>101.0</td>\n",
       "      <td>1.0</td>\n",
       "      <td>78.5</td>\n",
       "      <td>0.0</td>\n",
       "      <td>9482.0</td>\n",
       "      <td>6</td>\n",
       "      <td>6</td>\n",
       "      <td>63</td>\n",
       "      <td>232</td>\n",
       "    </tr>\n",
       "    <tr>\n",
       "      <th>3</th>\n",
       "      <td>4590</td>\n",
       "      <td>3</td>\n",
       "      <td>51.667089</td>\n",
       "      <td>0.0</td>\n",
       "      <td>0.00000</td>\n",
       "      <td>0.000000</td>\n",
       "      <td>0.0</td>\n",
       "      <td>0.000000</td>\n",
       "      <td>0.00000</td>\n",
       "      <td>0.000000</td>\n",
       "      <td>...</td>\n",
       "      <td>0.374576</td>\n",
       "      <td>342.0</td>\n",
       "      <td>5.0</td>\n",
       "      <td>332.0</td>\n",
       "      <td>2.5</td>\n",
       "      <td>2674.0</td>\n",
       "      <td>6</td>\n",
       "      <td>6</td>\n",
       "      <td>114</td>\n",
       "      <td>360</td>\n",
       "    </tr>\n",
       "    <tr>\n",
       "      <th>4</th>\n",
       "      <td>8539</td>\n",
       "      <td>1</td>\n",
       "      <td>88.789107</td>\n",
       "      <td>0.0</td>\n",
       "      <td>0.00000</td>\n",
       "      <td>0.000000</td>\n",
       "      <td>0.0</td>\n",
       "      <td>0.000000</td>\n",
       "      <td>0.00000</td>\n",
       "      <td>7.414130</td>\n",
       "      <td>...</td>\n",
       "      <td>5.046586</td>\n",
       "      <td>415.5</td>\n",
       "      <td>4.5</td>\n",
       "      <td>289.5</td>\n",
       "      <td>2.0</td>\n",
       "      <td>559.0</td>\n",
       "      <td>21</td>\n",
       "      <td>6</td>\n",
       "      <td>63</td>\n",
       "      <td>771</td>\n",
       "    </tr>\n",
       "  </tbody>\n",
       "</table>\n",
       "<p>5 rows × 48 columns</p>\n",
       "</div>"
      ],
      "text/plain": [
       "     ID  TARGET          V1   V2       V3        V4   V5         V6       V7  \\\n",
       "0  3983       3  211.849314  0.0  0.00000  0.000000  0.0   0.000000  0.00000   \n",
       "1  8810       1  252.571342  0.0  4.81024  0.495445  0.0  44.717697  9.20239   \n",
       "2  3898       1   34.463683  0.0  0.00000  0.000000  0.0   0.000000  0.00000   \n",
       "3  4590       3   51.667089  0.0  0.00000  0.000000  0.0   0.000000  0.00000   \n",
       "4  8539       1   88.789107  0.0  0.00000  0.000000  0.0   0.000000  0.00000   \n",
       "\n",
       "          V8 ...          V37    V38   V39    V40   V41        V42  T1  T2  \\\n",
       "0   0.000000 ...    46.173950  202.5  72.5  137.0  41.5  1016515.0  18   4   \n",
       "1  37.425344 ...   116.837359  192.5  46.0   58.0  91.0    15763.0  13   4   \n",
       "2  17.124165 ...     0.000000  101.0   1.0   78.5   0.0     9482.0   6   6   \n",
       "3   0.000000 ...     0.374576  342.0   5.0  332.0   2.5     2674.0   6   6   \n",
       "4   7.414130 ...     5.046586  415.5   4.5  289.5   2.0      559.0  21   6   \n",
       "\n",
       "    T3   T4  \n",
       "0   48   82  \n",
       "1  117  886  \n",
       "2   63  232  \n",
       "3  114  360  \n",
       "4   63  771  \n",
       "\n",
       "[5 rows x 48 columns]"
      ]
     },
     "execution_count": 35,
     "metadata": {},
     "output_type": "execute_result"
    }
   ],
   "source": [
    "r.head()"
   ]
  },
  {
   "cell_type": "markdown",
   "metadata": {},
   "source": [
    "#### Random forest («случайный лес») "
   ]
  },
  {
   "cell_type": "code",
   "execution_count": 36,
   "metadata": {
    "scrolled": true
   },
   "outputs": [],
   "source": [
    "target =r['TARGET']\n",
    "data = r.drop(['TARGET','ID'],axis=1)"
   ]
  },
  {
   "cell_type": "code",
   "execution_count": 37,
   "metadata": {},
   "outputs": [
    {
     "data": {
      "text/html": [
       "<div>\n",
       "<style scoped>\n",
       "    .dataframe tbody tr th:only-of-type {\n",
       "        vertical-align: middle;\n",
       "    }\n",
       "\n",
       "    .dataframe tbody tr th {\n",
       "        vertical-align: top;\n",
       "    }\n",
       "\n",
       "    .dataframe thead th {\n",
       "        text-align: right;\n",
       "    }\n",
       "</style>\n",
       "<table border=\"1\" class=\"dataframe\">\n",
       "  <thead>\n",
       "    <tr style=\"text-align: right;\">\n",
       "      <th></th>\n",
       "      <th>V1</th>\n",
       "      <th>V2</th>\n",
       "      <th>V3</th>\n",
       "      <th>V4</th>\n",
       "      <th>V5</th>\n",
       "      <th>V6</th>\n",
       "      <th>V7</th>\n",
       "      <th>V8</th>\n",
       "      <th>V9</th>\n",
       "      <th>V10</th>\n",
       "      <th>...</th>\n",
       "      <th>V37</th>\n",
       "      <th>V38</th>\n",
       "      <th>V39</th>\n",
       "      <th>V40</th>\n",
       "      <th>V41</th>\n",
       "      <th>V42</th>\n",
       "      <th>T1</th>\n",
       "      <th>T2</th>\n",
       "      <th>T3</th>\n",
       "      <th>T4</th>\n",
       "    </tr>\n",
       "  </thead>\n",
       "  <tbody>\n",
       "    <tr>\n",
       "      <th>0</th>\n",
       "      <td>211.849314</td>\n",
       "      <td>0.0</td>\n",
       "      <td>0.00000</td>\n",
       "      <td>0.000000</td>\n",
       "      <td>0.0</td>\n",
       "      <td>0.000000</td>\n",
       "      <td>0.00000</td>\n",
       "      <td>0.000000</td>\n",
       "      <td>0.0</td>\n",
       "      <td>25.88845</td>\n",
       "      <td>...</td>\n",
       "      <td>46.173950</td>\n",
       "      <td>202.5</td>\n",
       "      <td>72.5</td>\n",
       "      <td>137.0</td>\n",
       "      <td>41.5</td>\n",
       "      <td>1016515.0</td>\n",
       "      <td>18</td>\n",
       "      <td>4</td>\n",
       "      <td>48</td>\n",
       "      <td>82</td>\n",
       "    </tr>\n",
       "    <tr>\n",
       "      <th>1</th>\n",
       "      <td>252.571342</td>\n",
       "      <td>0.0</td>\n",
       "      <td>4.81024</td>\n",
       "      <td>0.495445</td>\n",
       "      <td>0.0</td>\n",
       "      <td>44.717697</td>\n",
       "      <td>9.20239</td>\n",
       "      <td>37.425344</td>\n",
       "      <td>0.0</td>\n",
       "      <td>57.83085</td>\n",
       "      <td>...</td>\n",
       "      <td>116.837359</td>\n",
       "      <td>192.5</td>\n",
       "      <td>46.0</td>\n",
       "      <td>58.0</td>\n",
       "      <td>91.0</td>\n",
       "      <td>15763.0</td>\n",
       "      <td>13</td>\n",
       "      <td>4</td>\n",
       "      <td>117</td>\n",
       "      <td>886</td>\n",
       "    </tr>\n",
       "    <tr>\n",
       "      <th>2</th>\n",
       "      <td>34.463683</td>\n",
       "      <td>0.0</td>\n",
       "      <td>0.00000</td>\n",
       "      <td>0.000000</td>\n",
       "      <td>0.0</td>\n",
       "      <td>0.000000</td>\n",
       "      <td>0.00000</td>\n",
       "      <td>17.124165</td>\n",
       "      <td>0.0</td>\n",
       "      <td>0.00000</td>\n",
       "      <td>...</td>\n",
       "      <td>0.000000</td>\n",
       "      <td>101.0</td>\n",
       "      <td>1.0</td>\n",
       "      <td>78.5</td>\n",
       "      <td>0.0</td>\n",
       "      <td>9482.0</td>\n",
       "      <td>6</td>\n",
       "      <td>6</td>\n",
       "      <td>63</td>\n",
       "      <td>232</td>\n",
       "    </tr>\n",
       "    <tr>\n",
       "      <th>3</th>\n",
       "      <td>51.667089</td>\n",
       "      <td>0.0</td>\n",
       "      <td>0.00000</td>\n",
       "      <td>0.000000</td>\n",
       "      <td>0.0</td>\n",
       "      <td>0.000000</td>\n",
       "      <td>0.00000</td>\n",
       "      <td>0.000000</td>\n",
       "      <td>0.0</td>\n",
       "      <td>0.00000</td>\n",
       "      <td>...</td>\n",
       "      <td>0.374576</td>\n",
       "      <td>342.0</td>\n",
       "      <td>5.0</td>\n",
       "      <td>332.0</td>\n",
       "      <td>2.5</td>\n",
       "      <td>2674.0</td>\n",
       "      <td>6</td>\n",
       "      <td>6</td>\n",
       "      <td>114</td>\n",
       "      <td>360</td>\n",
       "    </tr>\n",
       "    <tr>\n",
       "      <th>4</th>\n",
       "      <td>88.789107</td>\n",
       "      <td>0.0</td>\n",
       "      <td>0.00000</td>\n",
       "      <td>0.000000</td>\n",
       "      <td>0.0</td>\n",
       "      <td>0.000000</td>\n",
       "      <td>0.00000</td>\n",
       "      <td>7.414130</td>\n",
       "      <td>0.0</td>\n",
       "      <td>0.00000</td>\n",
       "      <td>...</td>\n",
       "      <td>5.046586</td>\n",
       "      <td>415.5</td>\n",
       "      <td>4.5</td>\n",
       "      <td>289.5</td>\n",
       "      <td>2.0</td>\n",
       "      <td>559.0</td>\n",
       "      <td>21</td>\n",
       "      <td>6</td>\n",
       "      <td>63</td>\n",
       "      <td>771</td>\n",
       "    </tr>\n",
       "  </tbody>\n",
       "</table>\n",
       "<p>5 rows × 46 columns</p>\n",
       "</div>"
      ],
      "text/plain": [
       "           V1   V2       V3        V4   V5         V6       V7         V8  \\\n",
       "0  211.849314  0.0  0.00000  0.000000  0.0   0.000000  0.00000   0.000000   \n",
       "1  252.571342  0.0  4.81024  0.495445  0.0  44.717697  9.20239  37.425344   \n",
       "2   34.463683  0.0  0.00000  0.000000  0.0   0.000000  0.00000  17.124165   \n",
       "3   51.667089  0.0  0.00000  0.000000  0.0   0.000000  0.00000   0.000000   \n",
       "4   88.789107  0.0  0.00000  0.000000  0.0   0.000000  0.00000   7.414130   \n",
       "\n",
       "    V9       V10 ...          V37    V38   V39    V40   V41        V42  T1  \\\n",
       "0  0.0  25.88845 ...    46.173950  202.5  72.5  137.0  41.5  1016515.0  18   \n",
       "1  0.0  57.83085 ...   116.837359  192.5  46.0   58.0  91.0    15763.0  13   \n",
       "2  0.0   0.00000 ...     0.000000  101.0   1.0   78.5   0.0     9482.0   6   \n",
       "3  0.0   0.00000 ...     0.374576  342.0   5.0  332.0   2.5     2674.0   6   \n",
       "4  0.0   0.00000 ...     5.046586  415.5   4.5  289.5   2.0      559.0  21   \n",
       "\n",
       "   T2   T3   T4  \n",
       "0   4   48   82  \n",
       "1   4  117  886  \n",
       "2   6   63  232  \n",
       "3   6  114  360  \n",
       "4   6   63  771  \n",
       "\n",
       "[5 rows x 46 columns]"
      ]
     },
     "execution_count": 37,
     "metadata": {},
     "output_type": "execute_result"
    }
   ],
   "source": [
    "data.head()"
   ]
  },
  {
   "cell_type": "code",
   "execution_count": 38,
   "metadata": {},
   "outputs": [],
   "source": [
    "from sklearn.ensemble import RandomForestClassifier"
   ]
  },
  {
   "cell_type": "code",
   "execution_count": 39,
   "metadata": {},
   "outputs": [],
   "source": [
    "rf = RandomForestClassifier()"
   ]
  },
  {
   "cell_type": "markdown",
   "metadata": {},
   "source": [
    "#### Разбиваем нашу тренироврчную выборку на тренировочную и тестовую(классика 70/30)"
   ]
  },
  {
   "cell_type": "code",
   "execution_count": 40,
   "metadata": {},
   "outputs": [],
   "source": [
    "from sklearn.model_selection import train_test_split"
   ]
  },
  {
   "cell_type": "code",
   "execution_count": 41,
   "metadata": {},
   "outputs": [],
   "source": [
    "dtr,dts,ttr,tts =train_test_split(data,target)"
   ]
  },
  {
   "cell_type": "markdown",
   "metadata": {},
   "source": [
    "####  Обучаем модель"
   ]
  },
  {
   "cell_type": "code",
   "execution_count": 42,
   "metadata": {
    "scrolled": true
   },
   "outputs": [
    {
     "name": "stderr",
     "output_type": "stream",
     "text": [
      "/home/topic/anaconda3/lib/python3.6/site-packages/sklearn/ensemble/forest.py:248: FutureWarning: The default value of n_estimators will change from 10 in version 0.20 to 100 in 0.22.\n",
      "  \"10 in version 0.20 to 100 in 0.22.\", FutureWarning)\n"
     ]
    },
    {
     "data": {
      "text/plain": [
       "RandomForestClassifier(bootstrap=True, class_weight=None, criterion='gini',\n",
       "            max_depth=None, max_features='auto', max_leaf_nodes=None,\n",
       "            min_impurity_decrease=0.0, min_impurity_split=None,\n",
       "            min_samples_leaf=1, min_samples_split=2,\n",
       "            min_weight_fraction_leaf=0.0, n_estimators=10, n_jobs=None,\n",
       "            oob_score=False, random_state=None, verbose=0,\n",
       "            warm_start=False)"
      ]
     },
     "execution_count": 42,
     "metadata": {},
     "output_type": "execute_result"
    }
   ],
   "source": [
    "rf.fit(dtr,ttr)"
   ]
  },
  {
   "cell_type": "markdown",
   "metadata": {},
   "source": [
    "#### Используем метрики для анализа"
   ]
  },
  {
   "cell_type": "code",
   "execution_count": 43,
   "metadata": {},
   "outputs": [],
   "source": [
    "from sklearn.metrics import accuracy_score"
   ]
  },
  {
   "cell_type": "code",
   "execution_count": 44,
   "metadata": {},
   "outputs": [
    {
     "data": {
      "text/plain": [
       "0.41078305519897307"
      ]
     },
     "execution_count": 44,
     "metadata": {},
     "output_type": "execute_result"
    }
   ],
   "source": [
    "accuracy_score(tts,rf.predict(dts))"
   ]
  },
  {
   "cell_type": "markdown",
   "metadata": {},
   "source": [
    "##### 0.3908857509627728 - плохая точноть. надо что то менять"
   ]
  },
  {
   "cell_type": "code",
   "execution_count": 45,
   "metadata": {},
   "outputs": [],
   "source": [
    "import seaborn as sns"
   ]
  },
  {
   "cell_type": "code",
   "execution_count": 46,
   "metadata": {},
   "outputs": [
    {
     "name": "stderr",
     "output_type": "stream",
     "text": [
      "/home/topic/anaconda3/lib/python3.6/site-packages/scipy/stats/stats.py:1713: FutureWarning: Using a non-tuple sequence for multidimensional indexing is deprecated; use `arr[tuple(seq)]` instead of `arr[seq]`. In the future this will be interpreted as an array index, `arr[np.array(seq)]`, which will result either in an error or a different result.\n",
      "  return np.add.reduce(sorted[indexer] * weights, axis=axis) / sumval\n",
      "/home/topic/anaconda3/lib/python3.6/site-packages/statsmodels/nonparametric/kde.py:488: RuntimeWarning: invalid value encountered in true_divide\n",
      "  binned = fast_linbin(X, a, b, gridsize) / (delta * nobs)\n",
      "/home/topic/anaconda3/lib/python3.6/site-packages/statsmodels/nonparametric/kdetools.py:34: RuntimeWarning: invalid value encountered in double_scalars\n",
      "  FAC1 = 2*(np.pi*bw/RANGE)**2\n",
      "/home/topic/anaconda3/lib/python3.6/site-packages/numpy/core/fromnumeric.py:83: RuntimeWarning: invalid value encountered in reduce\n",
      "  return ufunc.reduce(obj, axis, dtype, out, **passkwargs)\n"
     ]
    },
    {
     "data": {
      "text/plain": [
       "<seaborn.axisgrid.PairGrid at 0x7f13e2745f28>"
      ]
     },
     "execution_count": 46,
     "metadata": {},
     "output_type": "execute_result"
    },
    {
     "data": {
      "image/png": "[encoded data removed]",
      "text/plain": [
       "<Figure size 947.75x900 with 30 Axes>"
      ]
     },
     "metadata": {
      "needs_background": "light"
     },
     "output_type": "display_data"
    }
   ],
   "source": [
    "sns.pairplot(data=r,hue='TARGET',vars=r.columns[2:7])"
   ]
  },
  {
   "cell_type": "markdown",
   "metadata": {},
   "source": [
    "#### Объективно видно что V2 не влияеет TARGET График V1/V2 показывает однообразие значений V2. проверяем"
   ]
  },
  {
   "cell_type": "code",
   "execution_count": 47,
   "metadata": {},
   "outputs": [
    {
     "data": {
      "text/plain": [
       "6227"
      ]
     },
     "execution_count": 47,
     "metadata": {},
     "output_type": "execute_result"
    }
   ],
   "source": [
    "len(r[r.V2==0])"
   ]
  },
  {
   "cell_type": "markdown",
   "metadata": {},
   "source": [
    "#### А всего знаений 6229. Смотрим распределение по знаением TARGET"
   ]
  },
  {
   "cell_type": "code",
   "execution_count": 48,
   "metadata": {},
   "outputs": [
    {
     "data": {
      "text/plain": [
       "TARGET\n",
       "0     534\n",
       "1    2366\n",
       "2    2377\n",
       "3     952\n",
       "Name: TARGET, dtype: int64"
      ]
     },
     "execution_count": 48,
     "metadata": {},
     "output_type": "execute_result"
    }
   ],
   "source": [
    "r.groupby('TARGET')['TARGET'].count()"
   ]
  },
  {
   "cell_type": "markdown",
   "metadata": {},
   "source": [
    "#### 50:28"
   ]
  },
  {
   "cell_type": "markdown",
   "metadata": {},
   "source": [
    "#### Удаляем признак "
   ]
  },
  {
   "cell_type": "code",
   "execution_count": 49,
   "metadata": {},
   "outputs": [],
   "source": [
    "del r['V2']"
   ]
  },
  {
   "cell_type": "markdown",
   "metadata": {},
   "source": [
    "### Просматриваем дальше диапазоны признаков"
   ]
  },
  {
   "cell_type": "code",
   "execution_count": 50,
   "metadata": {},
   "outputs": [
    {
     "data": {
      "text/plain": [
       "<seaborn.axisgrid.PairGrid at 0x7f13e152ccf8>"
      ]
     },
     "execution_count": 50,
     "metadata": {},
     "output_type": "execute_result"
    },
    {
     "data": {
      "image/png": "[encoded data removed]",
      "text/plain": [
       "<Figure size 947.75x900 with 30 Axes>"
      ]
     },
     "metadata": {
      "needs_background": "light"
     },
     "output_type": "display_data"
    }
   ],
   "source": [
    "sns.pairplot(data=r,hue='TARGET',vars=r.columns[2:7])"
   ]
  },
  {
   "cell_type": "code",
   "execution_count": 51,
   "metadata": {},
   "outputs": [
    {
     "data": {
      "text/plain": [
       "<seaborn.axisgrid.PairGrid at 0x7f13db43f7b8>"
      ]
     },
     "execution_count": 51,
     "metadata": {},
     "output_type": "execute_result"
    },
    {
     "data": {
      "image/png": "[encoded data removed]",
      "text/plain": [
       "<Figure size 947.75x900 with 30 Axes>"
      ]
     },
     "metadata": {
      "needs_background": "light"
     },
     "output_type": "display_data"
    }
   ],
   "source": [
    "sns.pairplot(data=r,hue='TARGET',vars=r.columns[7:12])"
   ]
  },
  {
   "cell_type": "markdown",
   "metadata": {},
   "source": [
    "#### видим что подозрительно прохожие на V2  признаки V9 и V11. Проверяем их на нулевые значения"
   ]
  },
  {
   "cell_type": "code",
   "execution_count": 52,
   "metadata": {},
   "outputs": [
    {
     "data": {
      "text/plain": [
       "6228"
      ]
     },
     "execution_count": 52,
     "metadata": {},
     "output_type": "execute_result"
    }
   ],
   "source": [
    "len(r[r.V9==0])"
   ]
  },
  {
   "cell_type": "code",
   "execution_count": 53,
   "metadata": {},
   "outputs": [
    {
     "data": {
      "text/plain": [
       "6228"
      ]
     },
     "execution_count": 53,
     "metadata": {},
     "output_type": "execute_result"
    }
   ],
   "source": [
    "len(r[r.V11==0])"
   ]
  },
  {
   "cell_type": "markdown",
   "metadata": {},
   "source": [
    "#### Видим что у данных признаков только по одному не нулевому значению - удаляем их"
   ]
  },
  {
   "cell_type": "code",
   "execution_count": 54,
   "metadata": {},
   "outputs": [],
   "source": [
    "del r['V9']\n",
    "del r['V11']"
   ]
  },
  {
   "cell_type": "markdown",
   "metadata": {},
   "source": [
    "#### функция get_accuracy(cl) -полльзовались ранее - разделение тестовых данных,обучение модели , получение точности"
   ]
  },
  {
   "cell_type": "code",
   "execution_count": 55,
   "metadata": {},
   "outputs": [],
   "source": [
    "def get_accuracy(cl):\n",
    "    dtr,dts,ttr,tts =train_test_split(data,target)\n",
    "    cl.fit(dtr,ttr)\n",
    "    return accuracy_score(tts,cl.predict(dts))"
   ]
  },
  {
   "cell_type": "markdown",
   "metadata": {},
   "source": [
    "#### Проверяем поменялась ли точность предсказания модели после удаления 3 столбцов и переобучения модели"
   ]
  },
  {
   "cell_type": "code",
   "execution_count": 56,
   "metadata": {},
   "outputs": [
    {
     "data": {
      "text/plain": [
       "0.39730423620025673"
      ]
     },
     "execution_count": 56,
     "metadata": {},
     "output_type": "execute_result"
    }
   ],
   "source": [
    "get_accuracy(rf)"
   ]
  },
  {
   "cell_type": "markdown",
   "metadata": {},
   "source": [
    "#### Гипотеза о замене NaN значений на медианные по всем значениям в столбце-признаке вероятно была ошибочна\n",
    "#### Новая гипотеза - замена NaN значений на медианные по КАЖДОМУ ПОЛЬЗОВАТЕЛЮ  в столбце-признаке"
   ]
  },
  {
   "cell_type": "code",
   "execution_count": 57,
   "metadata": {},
   "outputs": [],
   "source": [
    "b1 = pd.read_csv('./Base1.txt', sep='\\t')"
   ]
  },
  {
   "cell_type": "code",
   "execution_count": 58,
   "metadata": {},
   "outputs": [
    {
     "data": {
      "text/html": [
       "<div>\n",
       "<style scoped>\n",
       "    .dataframe tbody tr th:only-of-type {\n",
       "        vertical-align: middle;\n",
       "    }\n",
       "\n",
       "    .dataframe tbody tr th {\n",
       "        vertical-align: top;\n",
       "    }\n",
       "\n",
       "    .dataframe thead th {\n",
       "        text-align: right;\n",
       "    }\n",
       "</style>\n",
       "<table border=\"1\" class=\"dataframe\">\n",
       "  <thead>\n",
       "    <tr style=\"text-align: right;\">\n",
       "      <th></th>\n",
       "      <th>ID</th>\n",
       "      <th>MONTH</th>\n",
       "      <th>V1</th>\n",
       "      <th>V2</th>\n",
       "      <th>V3</th>\n",
       "      <th>V4</th>\n",
       "      <th>V5</th>\n",
       "      <th>V6</th>\n",
       "      <th>V7</th>\n",
       "      <th>V8</th>\n",
       "      <th>...</th>\n",
       "      <th>V33</th>\n",
       "      <th>V34</th>\n",
       "      <th>V35</th>\n",
       "      <th>V36</th>\n",
       "      <th>V37</th>\n",
       "      <th>V38</th>\n",
       "      <th>V39</th>\n",
       "      <th>V40</th>\n",
       "      <th>V41</th>\n",
       "      <th>V42</th>\n",
       "    </tr>\n",
       "  </thead>\n",
       "  <tbody>\n",
       "    <tr>\n",
       "      <th>0</th>\n",
       "      <td>8145</td>\n",
       "      <td>6</td>\n",
       "      <td>58.109025</td>\n",
       "      <td>0.0</td>\n",
       "      <td>0.0</td>\n",
       "      <td>0.0</td>\n",
       "      <td>0.0</td>\n",
       "      <td>0.0</td>\n",
       "      <td>0.00000</td>\n",
       "      <td>0.0</td>\n",
       "      <td>...</td>\n",
       "      <td>0.0</td>\n",
       "      <td>0.0</td>\n",
       "      <td>380.878742</td>\n",
       "      <td>46.090732</td>\n",
       "      <td>59.619210</td>\n",
       "      <td>156.0</td>\n",
       "      <td>34.0</td>\n",
       "      <td>105.0</td>\n",
       "      <td>NaN</td>\n",
       "      <td>38463.0</td>\n",
       "    </tr>\n",
       "    <tr>\n",
       "      <th>1</th>\n",
       "      <td>8145</td>\n",
       "      <td>5</td>\n",
       "      <td>47.563425</td>\n",
       "      <td>NaN</td>\n",
       "      <td>0.0</td>\n",
       "      <td>0.0</td>\n",
       "      <td>NaN</td>\n",
       "      <td>0.0</td>\n",
       "      <td>1.02209</td>\n",
       "      <td>NaN</td>\n",
       "      <td>...</td>\n",
       "      <td>1.0</td>\n",
       "      <td>0.0</td>\n",
       "      <td>678.515429</td>\n",
       "      <td>9.773232</td>\n",
       "      <td>48.188819</td>\n",
       "      <td>178.0</td>\n",
       "      <td>14.0</td>\n",
       "      <td>69.0</td>\n",
       "      <td>68.0</td>\n",
       "      <td>38463.0</td>\n",
       "    </tr>\n",
       "    <tr>\n",
       "      <th>2</th>\n",
       "      <td>8145</td>\n",
       "      <td>4</td>\n",
       "      <td>56.376320</td>\n",
       "      <td>0.0</td>\n",
       "      <td>0.0</td>\n",
       "      <td>0.0</td>\n",
       "      <td>0.0</td>\n",
       "      <td>0.0</td>\n",
       "      <td>0.00000</td>\n",
       "      <td>0.0</td>\n",
       "      <td>...</td>\n",
       "      <td>0.0</td>\n",
       "      <td>0.0</td>\n",
       "      <td>297.892283</td>\n",
       "      <td>27.439968</td>\n",
       "      <td>62.335039</td>\n",
       "      <td>NaN</td>\n",
       "      <td>54.0</td>\n",
       "      <td>90.0</td>\n",
       "      <td>120.0</td>\n",
       "      <td>38463.0</td>\n",
       "    </tr>\n",
       "    <tr>\n",
       "      <th>3</th>\n",
       "      <td>8145</td>\n",
       "      <td>3</td>\n",
       "      <td>52.973415</td>\n",
       "      <td>0.0</td>\n",
       "      <td>0.0</td>\n",
       "      <td>0.0</td>\n",
       "      <td>0.0</td>\n",
       "      <td>0.0</td>\n",
       "      <td>0.00000</td>\n",
       "      <td>0.0</td>\n",
       "      <td>...</td>\n",
       "      <td>0.0</td>\n",
       "      <td>0.0</td>\n",
       "      <td>1169.362567</td>\n",
       "      <td>43.123166</td>\n",
       "      <td>132.589310</td>\n",
       "      <td>284.0</td>\n",
       "      <td>45.0</td>\n",
       "      <td>123.0</td>\n",
       "      <td>138.0</td>\n",
       "      <td>38463.0</td>\n",
       "    </tr>\n",
       "    <tr>\n",
       "      <th>4</th>\n",
       "      <td>8145</td>\n",
       "      <td>2</td>\n",
       "      <td>53.051500</td>\n",
       "      <td>0.0</td>\n",
       "      <td>0.0</td>\n",
       "      <td>0.0</td>\n",
       "      <td>0.0</td>\n",
       "      <td>0.0</td>\n",
       "      <td>0.00000</td>\n",
       "      <td>0.0</td>\n",
       "      <td>...</td>\n",
       "      <td>0.0</td>\n",
       "      <td>0.0</td>\n",
       "      <td>916.490745</td>\n",
       "      <td>8.738643</td>\n",
       "      <td>97.514241</td>\n",
       "      <td>154.0</td>\n",
       "      <td>15.0</td>\n",
       "      <td>65.0</td>\n",
       "      <td>NaN</td>\n",
       "      <td>38463.0</td>\n",
       "    </tr>\n",
       "  </tbody>\n",
       "</table>\n",
       "<p>5 rows × 44 columns</p>\n",
       "</div>"
      ],
      "text/plain": [
       "     ID  MONTH         V1   V2   V3   V4   V5   V6       V7   V8   ...     \\\n",
       "0  8145      6  58.109025  0.0  0.0  0.0  0.0  0.0  0.00000  0.0   ...      \n",
       "1  8145      5  47.563425  NaN  0.0  0.0  NaN  0.0  1.02209  NaN   ...      \n",
       "2  8145      4  56.376320  0.0  0.0  0.0  0.0  0.0  0.00000  0.0   ...      \n",
       "3  8145      3  52.973415  0.0  0.0  0.0  0.0  0.0  0.00000  0.0   ...      \n",
       "4  8145      2  53.051500  0.0  0.0  0.0  0.0  0.0  0.00000  0.0   ...      \n",
       "\n",
       "   V33  V34          V35        V36         V37    V38   V39    V40    V41  \\\n",
       "0  0.0  0.0   380.878742  46.090732   59.619210  156.0  34.0  105.0    NaN   \n",
       "1  1.0  0.0   678.515429   9.773232   48.188819  178.0  14.0   69.0   68.0   \n",
       "2  0.0  0.0   297.892283  27.439968   62.335039    NaN  54.0   90.0  120.0   \n",
       "3  0.0  0.0  1169.362567  43.123166  132.589310  284.0  45.0  123.0  138.0   \n",
       "4  0.0  0.0   916.490745   8.738643   97.514241  154.0  15.0   65.0    NaN   \n",
       "\n",
       "       V42  \n",
       "0  38463.0  \n",
       "1  38463.0  \n",
       "2  38463.0  \n",
       "3  38463.0  \n",
       "4  38463.0  \n",
       "\n",
       "[5 rows x 44 columns]"
      ]
     },
     "execution_count": 58,
     "metadata": {},
     "output_type": "execute_result"
    }
   ],
   "source": [
    "b1.head()"
   ]
  },
  {
   "cell_type": "markdown",
   "metadata": {},
   "source": [
    "#### Как пример по пользователю с ID 8145"
   ]
  },
  {
   "cell_type": "code",
   "execution_count": 59,
   "metadata": {},
   "outputs": [
    {
     "data": {
      "text/plain": [
       "0    58.109025\n",
       "1    47.563425\n",
       "2    56.376320\n",
       "3    52.973415\n",
       "4    53.051500\n",
       "5    45.916500\n",
       "Name: V1, dtype: float64"
      ]
     },
     "execution_count": 59,
     "metadata": {},
     "output_type": "execute_result"
    }
   ],
   "source": [
    "b1[b1.ID==8145]['V1'].fillna(np.nanmean(b1['V1'][b1.ID==8145]))"
   ]
  },
  {
   "cell_type": "code",
   "execution_count": 60,
   "metadata": {},
   "outputs": [
    {
     "data": {
      "text/plain": [
       "0    0.0\n",
       "1    0.0\n",
       "2    0.0\n",
       "3    0.0\n",
       "4    0.0\n",
       "5    0.0\n",
       "Name: V2, dtype: float64"
      ]
     },
     "execution_count": 60,
     "metadata": {},
     "output_type": "execute_result"
    }
   ],
   "source": [
    "b1[b1.ID==8145]['V2'].fillna(np.nanmean(b1['V2'][b1.ID==8145]))"
   ]
  },
  {
   "cell_type": "markdown",
   "metadata": {},
   "source": [
    "#### Теперь это сделаем в цикле для всех ID, но данный цикл работает ДОЛГО!!! поэтому комментарю его"
   ]
  },
  {
   "cell_type": "code",
   "execution_count": 61,
   "metadata": {},
   "outputs": [],
   "source": [
    "#for aid in b1.ID:\n",
    "#    for i in range(1,43):\n",
    "#        b1[b1.ID==aid]['V%d' % i ] = b1[b1.ID==aid]['V%d' %i ].fillna(np.nanmean(b1['V%d' % i ][b1.ID==aid]))"
   ]
  },
  {
   "cell_type": "markdown",
   "metadata": {},
   "source": [
    "#### Проверим вообще сколько у нас значений  NaN в выборке b1"
   ]
  },
  {
   "cell_type": "code",
   "execution_count": 62,
   "metadata": {},
   "outputs": [
    {
     "name": "stdout",
     "output_type": "stream",
     "text": [
      "1 3235\n",
      "2 3193\n",
      "3 3124\n",
      "4 3215\n",
      "5 3190\n",
      "6 3272\n",
      "7 3234\n",
      "8 3273\n",
      "9 3305\n",
      "10 3293\n",
      "11 3290\n",
      "12 3232\n",
      "13 3303\n",
      "14 3285\n",
      "15 3231\n",
      "16 3308\n",
      "17 3310\n",
      "18 3278\n",
      "19 3266\n",
      "20 3223\n",
      "21 3319\n",
      "22 3257\n",
      "23 3263\n",
      "24 3184\n",
      "25 3254\n",
      "26 3192\n",
      "27 3267\n",
      "28 3301\n",
      "29 3243\n",
      "30 3187\n",
      "31 3218\n",
      "32 3164\n",
      "33 3250\n",
      "34 3248\n",
      "35 3262\n",
      "36 3305\n",
      "37 3290\n",
      "38 3343\n",
      "39 3326\n",
      "40 3341\n",
      "41 3308\n",
      "42 3295\n"
     ]
    }
   ],
   "source": [
    "  for i in range(1,43):\n",
    "        print(i,len(b1[b1['V%d' % i ].isna() == True]))"
   ]
  },
  {
   "cell_type": "markdown",
   "metadata": {},
   "source": [
    "#### перепишим предыдущий цикл,чтобы он отработал быстрее"
   ]
  },
  {
   "cell_type": "code",
   "execution_count": 63,
   "metadata": {},
   "outputs": [],
   "source": [
    "for index, row in b1.iterrows():\n",
    "    for i in range(1,43):\n",
    "        if row['V%d' % i ]==np.nan:\n",
    "            m = np.nanmedian(b1[b1.ID==row.ID]['V%d' % i])\n",
    "            row['V%d' % i ]=m                                  "
   ]
  },
  {
   "cell_type": "code",
   "execution_count": 64,
   "metadata": {},
   "outputs": [
    {
     "data": {
      "text/html": [
       "<div>\n",
       "<style scoped>\n",
       "    .dataframe tbody tr th:only-of-type {\n",
       "        vertical-align: middle;\n",
       "    }\n",
       "\n",
       "    .dataframe tbody tr th {\n",
       "        vertical-align: top;\n",
       "    }\n",
       "\n",
       "    .dataframe thead th {\n",
       "        text-align: right;\n",
       "    }\n",
       "</style>\n",
       "<table border=\"1\" class=\"dataframe\">\n",
       "  <thead>\n",
       "    <tr style=\"text-align: right;\">\n",
       "      <th></th>\n",
       "      <th>ID</th>\n",
       "      <th>MONTH</th>\n",
       "      <th>V1</th>\n",
       "      <th>V2</th>\n",
       "      <th>V3</th>\n",
       "      <th>V4</th>\n",
       "      <th>V5</th>\n",
       "      <th>V6</th>\n",
       "      <th>V7</th>\n",
       "      <th>V8</th>\n",
       "      <th>...</th>\n",
       "      <th>V33</th>\n",
       "      <th>V34</th>\n",
       "      <th>V35</th>\n",
       "      <th>V36</th>\n",
       "      <th>V37</th>\n",
       "      <th>V38</th>\n",
       "      <th>V39</th>\n",
       "      <th>V40</th>\n",
       "      <th>V41</th>\n",
       "      <th>V42</th>\n",
       "    </tr>\n",
       "  </thead>\n",
       "  <tbody>\n",
       "    <tr>\n",
       "      <th>0</th>\n",
       "      <td>8145</td>\n",
       "      <td>6</td>\n",
       "      <td>58.109025</td>\n",
       "      <td>0.0</td>\n",
       "      <td>0.0</td>\n",
       "      <td>0.0</td>\n",
       "      <td>0.0</td>\n",
       "      <td>0.0</td>\n",
       "      <td>0.00000</td>\n",
       "      <td>0.0</td>\n",
       "      <td>...</td>\n",
       "      <td>0.0</td>\n",
       "      <td>0.0</td>\n",
       "      <td>380.878742</td>\n",
       "      <td>46.090732</td>\n",
       "      <td>59.619210</td>\n",
       "      <td>156.0</td>\n",
       "      <td>34.0</td>\n",
       "      <td>105.0</td>\n",
       "      <td>NaN</td>\n",
       "      <td>38463.0</td>\n",
       "    </tr>\n",
       "    <tr>\n",
       "      <th>1</th>\n",
       "      <td>8145</td>\n",
       "      <td>5</td>\n",
       "      <td>47.563425</td>\n",
       "      <td>NaN</td>\n",
       "      <td>0.0</td>\n",
       "      <td>0.0</td>\n",
       "      <td>NaN</td>\n",
       "      <td>0.0</td>\n",
       "      <td>1.02209</td>\n",
       "      <td>NaN</td>\n",
       "      <td>...</td>\n",
       "      <td>1.0</td>\n",
       "      <td>0.0</td>\n",
       "      <td>678.515429</td>\n",
       "      <td>9.773232</td>\n",
       "      <td>48.188819</td>\n",
       "      <td>178.0</td>\n",
       "      <td>14.0</td>\n",
       "      <td>69.0</td>\n",
       "      <td>68.0</td>\n",
       "      <td>38463.0</td>\n",
       "    </tr>\n",
       "    <tr>\n",
       "      <th>2</th>\n",
       "      <td>8145</td>\n",
       "      <td>4</td>\n",
       "      <td>56.376320</td>\n",
       "      <td>0.0</td>\n",
       "      <td>0.0</td>\n",
       "      <td>0.0</td>\n",
       "      <td>0.0</td>\n",
       "      <td>0.0</td>\n",
       "      <td>0.00000</td>\n",
       "      <td>0.0</td>\n",
       "      <td>...</td>\n",
       "      <td>0.0</td>\n",
       "      <td>0.0</td>\n",
       "      <td>297.892283</td>\n",
       "      <td>27.439968</td>\n",
       "      <td>62.335039</td>\n",
       "      <td>NaN</td>\n",
       "      <td>54.0</td>\n",
       "      <td>90.0</td>\n",
       "      <td>120.0</td>\n",
       "      <td>38463.0</td>\n",
       "    </tr>\n",
       "    <tr>\n",
       "      <th>3</th>\n",
       "      <td>8145</td>\n",
       "      <td>3</td>\n",
       "      <td>52.973415</td>\n",
       "      <td>0.0</td>\n",
       "      <td>0.0</td>\n",
       "      <td>0.0</td>\n",
       "      <td>0.0</td>\n",
       "      <td>0.0</td>\n",
       "      <td>0.00000</td>\n",
       "      <td>0.0</td>\n",
       "      <td>...</td>\n",
       "      <td>0.0</td>\n",
       "      <td>0.0</td>\n",
       "      <td>1169.362567</td>\n",
       "      <td>43.123166</td>\n",
       "      <td>132.589310</td>\n",
       "      <td>284.0</td>\n",
       "      <td>45.0</td>\n",
       "      <td>123.0</td>\n",
       "      <td>138.0</td>\n",
       "      <td>38463.0</td>\n",
       "    </tr>\n",
       "    <tr>\n",
       "      <th>4</th>\n",
       "      <td>8145</td>\n",
       "      <td>2</td>\n",
       "      <td>53.051500</td>\n",
       "      <td>0.0</td>\n",
       "      <td>0.0</td>\n",
       "      <td>0.0</td>\n",
       "      <td>0.0</td>\n",
       "      <td>0.0</td>\n",
       "      <td>0.00000</td>\n",
       "      <td>0.0</td>\n",
       "      <td>...</td>\n",
       "      <td>0.0</td>\n",
       "      <td>0.0</td>\n",
       "      <td>916.490745</td>\n",
       "      <td>8.738643</td>\n",
       "      <td>97.514241</td>\n",
       "      <td>154.0</td>\n",
       "      <td>15.0</td>\n",
       "      <td>65.0</td>\n",
       "      <td>NaN</td>\n",
       "      <td>38463.0</td>\n",
       "    </tr>\n",
       "  </tbody>\n",
       "</table>\n",
       "<p>5 rows × 44 columns</p>\n",
       "</div>"
      ],
      "text/plain": [
       "     ID  MONTH         V1   V2   V3   V4   V5   V6       V7   V8   ...     \\\n",
       "0  8145      6  58.109025  0.0  0.0  0.0  0.0  0.0  0.00000  0.0   ...      \n",
       "1  8145      5  47.563425  NaN  0.0  0.0  NaN  0.0  1.02209  NaN   ...      \n",
       "2  8145      4  56.376320  0.0  0.0  0.0  0.0  0.0  0.00000  0.0   ...      \n",
       "3  8145      3  52.973415  0.0  0.0  0.0  0.0  0.0  0.00000  0.0   ...      \n",
       "4  8145      2  53.051500  0.0  0.0  0.0  0.0  0.0  0.00000  0.0   ...      \n",
       "\n",
       "   V33  V34          V35        V36         V37    V38   V39    V40    V41  \\\n",
       "0  0.0  0.0   380.878742  46.090732   59.619210  156.0  34.0  105.0    NaN   \n",
       "1  1.0  0.0   678.515429   9.773232   48.188819  178.0  14.0   69.0   68.0   \n",
       "2  0.0  0.0   297.892283  27.439968   62.335039    NaN  54.0   90.0  120.0   \n",
       "3  0.0  0.0  1169.362567  43.123166  132.589310  284.0  45.0  123.0  138.0   \n",
       "4  0.0  0.0   916.490745   8.738643   97.514241  154.0  15.0   65.0    NaN   \n",
       "\n",
       "       V42  \n",
       "0  38463.0  \n",
       "1  38463.0  \n",
       "2  38463.0  \n",
       "3  38463.0  \n",
       "4  38463.0  \n",
       "\n",
       "[5 rows x 44 columns]"
      ]
     },
     "execution_count": 64,
     "metadata": {},
     "output_type": "execute_result"
    }
   ],
   "source": [
    "b1.head()"
   ]
  },
  {
   "cell_type": "markdown",
   "metadata": {},
   "source": [
    "#### Видим что NaN  остались -цикл отработал неправильно. Пробуем еще один вариант,но он тоже не убрал NaN"
   ]
  },
  {
   "cell_type": "code",
   "execution_count": 65,
   "metadata": {},
   "outputs": [],
   "source": [
    "#b1.groupby(['ID','MONTH'])['V1'].apply(lambda x:x.fillna(x.median()))"
   ]
  },
  {
   "cell_type": "markdown",
   "metadata": {},
   "source": [
    "##### Подправим предыдущий цикл.ошибка с типами и не отрабатывает строка row['V%d' % i ]==np.nan:"
   ]
  },
  {
   "cell_type": "code",
   "execution_count": 66,
   "metadata": {
    "scrolled": true
   },
   "outputs": [],
   "source": [
    "#for index, row in b1.iterrows(): \n",
    "#    for i in range(1,43):\n",
    "#        if np.isnan(row['V%d' % i ]):\n",
    "#           m = np.nanmedian(b1[b1.ID==row.ID]['V%d' % i])\n",
    "#           b1[index:index+1]['V%d' % i ]=m   "
   ]
  },
  {
   "cell_type": "code",
   "execution_count": 67,
   "metadata": {},
   "outputs": [],
   "source": [
    "#### НО работало медленно и все равно не заполнило поля с NaN. Урок закончился на 1:35\n",
    "#### Продолжаем урок №14 1:47"
   ]
  },
  {
   "cell_type": "code",
   "execution_count": 68,
   "metadata": {},
   "outputs": [],
   "source": [
    "t = pd.read_csv('./train.txt',sep='\\t')\n",
    "b1 = pd.read_csv('./Base1.txt', sep='\\t')\n",
    "b2 = pd.read_csv('./Base2.txt', sep='\\t')"
   ]
  },
  {
   "cell_type": "markdown",
   "metadata": {},
   "source": [
    "#### Изменяем не  получившийся цикл по замене NaN значений  на медианные с групировкой по ИД и месяц"
   ]
  },
  {
   "cell_type": "markdown",
   "metadata": {},
   "source": [
    "#### Обратить внимание на изменение  в групперовке и использовании transform вместо apply(дает возможность расчета по каждому сгруппированому значению)\n",
    "#### skipna -значение True  вероятно всего  и  помогло. потому как   без него (False) медиана если находила значение NaN  \n",
    "#### принимала значение NaN"
   ]
  },
  {
   "cell_type": "code",
   "execution_count": 69,
   "metadata": {},
   "outputs": [],
   "source": [
    "for i in range(1, 43):\n",
    "    b1.groupby('ID')['V%d'%i].transform(lambda x: x.fillna(x.median(skipna=True)))"
   ]
  },
  {
   "cell_type": "code",
   "execution_count": 70,
   "metadata": {},
   "outputs": [
    {
     "data": {
      "text/html": [
       "<div>\n",
       "<style scoped>\n",
       "    .dataframe tbody tr th:only-of-type {\n",
       "        vertical-align: middle;\n",
       "    }\n",
       "\n",
       "    .dataframe tbody tr th {\n",
       "        vertical-align: top;\n",
       "    }\n",
       "\n",
       "    .dataframe thead th {\n",
       "        text-align: right;\n",
       "    }\n",
       "</style>\n",
       "<table border=\"1\" class=\"dataframe\">\n",
       "  <thead>\n",
       "    <tr style=\"text-align: right;\">\n",
       "      <th></th>\n",
       "      <th>ID</th>\n",
       "      <th>MONTH</th>\n",
       "      <th>V1</th>\n",
       "      <th>V2</th>\n",
       "      <th>V3</th>\n",
       "      <th>V4</th>\n",
       "      <th>V5</th>\n",
       "      <th>V6</th>\n",
       "      <th>V7</th>\n",
       "      <th>V8</th>\n",
       "      <th>...</th>\n",
       "      <th>V33</th>\n",
       "      <th>V34</th>\n",
       "      <th>V35</th>\n",
       "      <th>V36</th>\n",
       "      <th>V37</th>\n",
       "      <th>V38</th>\n",
       "      <th>V39</th>\n",
       "      <th>V40</th>\n",
       "      <th>V41</th>\n",
       "      <th>V42</th>\n",
       "    </tr>\n",
       "  </thead>\n",
       "  <tbody>\n",
       "    <tr>\n",
       "      <th>0</th>\n",
       "      <td>8145</td>\n",
       "      <td>6</td>\n",
       "      <td>58.109025</td>\n",
       "      <td>0.0</td>\n",
       "      <td>0.0</td>\n",
       "      <td>0.0</td>\n",
       "      <td>0.0</td>\n",
       "      <td>0.0</td>\n",
       "      <td>0.00000</td>\n",
       "      <td>0.0</td>\n",
       "      <td>...</td>\n",
       "      <td>0.0</td>\n",
       "      <td>0.0</td>\n",
       "      <td>380.878742</td>\n",
       "      <td>46.090732</td>\n",
       "      <td>59.619210</td>\n",
       "      <td>156.0</td>\n",
       "      <td>34.0</td>\n",
       "      <td>105.0</td>\n",
       "      <td>NaN</td>\n",
       "      <td>38463.0</td>\n",
       "    </tr>\n",
       "    <tr>\n",
       "      <th>1</th>\n",
       "      <td>8145</td>\n",
       "      <td>5</td>\n",
       "      <td>47.563425</td>\n",
       "      <td>NaN</td>\n",
       "      <td>0.0</td>\n",
       "      <td>0.0</td>\n",
       "      <td>NaN</td>\n",
       "      <td>0.0</td>\n",
       "      <td>1.02209</td>\n",
       "      <td>NaN</td>\n",
       "      <td>...</td>\n",
       "      <td>1.0</td>\n",
       "      <td>0.0</td>\n",
       "      <td>678.515429</td>\n",
       "      <td>9.773232</td>\n",
       "      <td>48.188819</td>\n",
       "      <td>178.0</td>\n",
       "      <td>14.0</td>\n",
       "      <td>69.0</td>\n",
       "      <td>68.0</td>\n",
       "      <td>38463.0</td>\n",
       "    </tr>\n",
       "    <tr>\n",
       "      <th>2</th>\n",
       "      <td>8145</td>\n",
       "      <td>4</td>\n",
       "      <td>56.376320</td>\n",
       "      <td>0.0</td>\n",
       "      <td>0.0</td>\n",
       "      <td>0.0</td>\n",
       "      <td>0.0</td>\n",
       "      <td>0.0</td>\n",
       "      <td>0.00000</td>\n",
       "      <td>0.0</td>\n",
       "      <td>...</td>\n",
       "      <td>0.0</td>\n",
       "      <td>0.0</td>\n",
       "      <td>297.892283</td>\n",
       "      <td>27.439968</td>\n",
       "      <td>62.335039</td>\n",
       "      <td>NaN</td>\n",
       "      <td>54.0</td>\n",
       "      <td>90.0</td>\n",
       "      <td>120.0</td>\n",
       "      <td>38463.0</td>\n",
       "    </tr>\n",
       "    <tr>\n",
       "      <th>3</th>\n",
       "      <td>8145</td>\n",
       "      <td>3</td>\n",
       "      <td>52.973415</td>\n",
       "      <td>0.0</td>\n",
       "      <td>0.0</td>\n",
       "      <td>0.0</td>\n",
       "      <td>0.0</td>\n",
       "      <td>0.0</td>\n",
       "      <td>0.00000</td>\n",
       "      <td>0.0</td>\n",
       "      <td>...</td>\n",
       "      <td>0.0</td>\n",
       "      <td>0.0</td>\n",
       "      <td>1169.362567</td>\n",
       "      <td>43.123166</td>\n",
       "      <td>132.589310</td>\n",
       "      <td>284.0</td>\n",
       "      <td>45.0</td>\n",
       "      <td>123.0</td>\n",
       "      <td>138.0</td>\n",
       "      <td>38463.0</td>\n",
       "    </tr>\n",
       "    <tr>\n",
       "      <th>4</th>\n",
       "      <td>8145</td>\n",
       "      <td>2</td>\n",
       "      <td>53.051500</td>\n",
       "      <td>0.0</td>\n",
       "      <td>0.0</td>\n",
       "      <td>0.0</td>\n",
       "      <td>0.0</td>\n",
       "      <td>0.0</td>\n",
       "      <td>0.00000</td>\n",
       "      <td>0.0</td>\n",
       "      <td>...</td>\n",
       "      <td>0.0</td>\n",
       "      <td>0.0</td>\n",
       "      <td>916.490745</td>\n",
       "      <td>8.738643</td>\n",
       "      <td>97.514241</td>\n",
       "      <td>154.0</td>\n",
       "      <td>15.0</td>\n",
       "      <td>65.0</td>\n",
       "      <td>NaN</td>\n",
       "      <td>38463.0</td>\n",
       "    </tr>\n",
       "  </tbody>\n",
       "</table>\n",
       "<p>5 rows × 44 columns</p>\n",
       "</div>"
      ],
      "text/plain": [
       "     ID  MONTH         V1   V2   V3   V4   V5   V6       V7   V8   ...     \\\n",
       "0  8145      6  58.109025  0.0  0.0  0.0  0.0  0.0  0.00000  0.0   ...      \n",
       "1  8145      5  47.563425  NaN  0.0  0.0  NaN  0.0  1.02209  NaN   ...      \n",
       "2  8145      4  56.376320  0.0  0.0  0.0  0.0  0.0  0.00000  0.0   ...      \n",
       "3  8145      3  52.973415  0.0  0.0  0.0  0.0  0.0  0.00000  0.0   ...      \n",
       "4  8145      2  53.051500  0.0  0.0  0.0  0.0  0.0  0.00000  0.0   ...      \n",
       "\n",
       "   V33  V34          V35        V36         V37    V38   V39    V40    V41  \\\n",
       "0  0.0  0.0   380.878742  46.090732   59.619210  156.0  34.0  105.0    NaN   \n",
       "1  1.0  0.0   678.515429   9.773232   48.188819  178.0  14.0   69.0   68.0   \n",
       "2  0.0  0.0   297.892283  27.439968   62.335039    NaN  54.0   90.0  120.0   \n",
       "3  0.0  0.0  1169.362567  43.123166  132.589310  284.0  45.0  123.0  138.0   \n",
       "4  0.0  0.0   916.490745   8.738643   97.514241  154.0  15.0   65.0    NaN   \n",
       "\n",
       "       V42  \n",
       "0  38463.0  \n",
       "1  38463.0  \n",
       "2  38463.0  \n",
       "3  38463.0  \n",
       "4  38463.0  \n",
       "\n",
       "[5 rows x 44 columns]"
      ]
     },
     "execution_count": 70,
     "metadata": {},
     "output_type": "execute_result"
    }
   ],
   "source": [
    "b1.head()"
   ]
  },
  {
   "cell_type": "markdown",
   "metadata": {},
   "source": [
    "#### NaN  остались у клиентов - у которых нет других данных в месяце для которого считалась медиана. \n",
    "#### Тоесть посчитать было не из чего и замена не произошла "
   ]
  },
  {
   "cell_type": "code",
   "execution_count": 71,
   "metadata": {},
   "outputs": [
    {
     "data": {
      "text/plain": [
       "54327"
      ]
     },
     "execution_count": 71,
     "metadata": {},
     "output_type": "execute_result"
    }
   ],
   "source": [
    "len(b1)"
   ]
  },
  {
   "cell_type": "code",
   "execution_count": 72,
   "metadata": {
    "scrolled": true
   },
   "outputs": [
    {
     "data": {
      "text/plain": [
       "4045"
      ]
     },
     "execution_count": 72,
     "metadata": {},
     "output_type": "execute_result"
    }
   ],
   "source": [
    "len(b1.dropna())"
   ]
  },
  {
   "cell_type": "markdown",
   "metadata": {},
   "source": [
    "#### Идем другим путем. Группируем по ID и счтаем мединанные значения считаются для КАЖДОГО ID с учетом skipna=True"
   ]
  },
  {
   "cell_type": "code",
   "execution_count": 73,
   "metadata": {},
   "outputs": [],
   "source": [
    "b11 = b1.groupby('ID').median(skipna=True)"
   ]
  },
  {
   "cell_type": "code",
   "execution_count": 74,
   "metadata": {
    "scrolled": false
   },
   "outputs": [
    {
     "data": {
      "text/html": [
       "<div>\n",
       "<style scoped>\n",
       "    .dataframe tbody tr th:only-of-type {\n",
       "        vertical-align: middle;\n",
       "    }\n",
       "\n",
       "    .dataframe tbody tr th {\n",
       "        vertical-align: top;\n",
       "    }\n",
       "\n",
       "    .dataframe thead th {\n",
       "        text-align: right;\n",
       "    }\n",
       "</style>\n",
       "<table border=\"1\" class=\"dataframe\">\n",
       "  <thead>\n",
       "    <tr style=\"text-align: right;\">\n",
       "      <th></th>\n",
       "      <th>MONTH</th>\n",
       "      <th>V1</th>\n",
       "      <th>V2</th>\n",
       "      <th>V3</th>\n",
       "      <th>V4</th>\n",
       "      <th>V5</th>\n",
       "      <th>V6</th>\n",
       "      <th>V7</th>\n",
       "      <th>V8</th>\n",
       "      <th>V9</th>\n",
       "      <th>...</th>\n",
       "      <th>V33</th>\n",
       "      <th>V34</th>\n",
       "      <th>V35</th>\n",
       "      <th>V36</th>\n",
       "      <th>V37</th>\n",
       "      <th>V38</th>\n",
       "      <th>V39</th>\n",
       "      <th>V40</th>\n",
       "      <th>V41</th>\n",
       "      <th>V42</th>\n",
       "    </tr>\n",
       "    <tr>\n",
       "      <th>ID</th>\n",
       "      <th></th>\n",
       "      <th></th>\n",
       "      <th></th>\n",
       "      <th></th>\n",
       "      <th></th>\n",
       "      <th></th>\n",
       "      <th></th>\n",
       "      <th></th>\n",
       "      <th></th>\n",
       "      <th></th>\n",
       "      <th></th>\n",
       "      <th></th>\n",
       "      <th></th>\n",
       "      <th></th>\n",
       "      <th></th>\n",
       "      <th></th>\n",
       "      <th></th>\n",
       "      <th></th>\n",
       "      <th></th>\n",
       "      <th></th>\n",
       "      <th></th>\n",
       "    </tr>\n",
       "  </thead>\n",
       "  <tbody>\n",
       "    <tr>\n",
       "      <th>1</th>\n",
       "      <td>3.5</td>\n",
       "      <td>38.186688</td>\n",
       "      <td>0.0</td>\n",
       "      <td>0.0</td>\n",
       "      <td>0.0</td>\n",
       "      <td>0.0</td>\n",
       "      <td>0.0</td>\n",
       "      <td>0.00000</td>\n",
       "      <td>0.000000</td>\n",
       "      <td>0.0</td>\n",
       "      <td>...</td>\n",
       "      <td>0.0</td>\n",
       "      <td>0.000000</td>\n",
       "      <td>653.910509</td>\n",
       "      <td>7.248508</td>\n",
       "      <td>6.210913</td>\n",
       "      <td>276.0</td>\n",
       "      <td>3.0</td>\n",
       "      <td>321.0</td>\n",
       "      <td>4.0</td>\n",
       "      <td>88252.0</td>\n",
       "    </tr>\n",
       "    <tr>\n",
       "      <th>2</th>\n",
       "      <td>3.5</td>\n",
       "      <td>52.967070</td>\n",
       "      <td>0.0</td>\n",
       "      <td>0.0</td>\n",
       "      <td>0.0</td>\n",
       "      <td>0.0</td>\n",
       "      <td>0.0</td>\n",
       "      <td>0.00000</td>\n",
       "      <td>0.000000</td>\n",
       "      <td>0.0</td>\n",
       "      <td>...</td>\n",
       "      <td>0.0</td>\n",
       "      <td>0.000000</td>\n",
       "      <td>938.978920</td>\n",
       "      <td>15.210562</td>\n",
       "      <td>8.116336</td>\n",
       "      <td>252.0</td>\n",
       "      <td>30.0</td>\n",
       "      <td>230.0</td>\n",
       "      <td>11.5</td>\n",
       "      <td>29702.0</td>\n",
       "    </tr>\n",
       "    <tr>\n",
       "      <th>3</th>\n",
       "      <td>5.0</td>\n",
       "      <td>64.008600</td>\n",
       "      <td>0.0</td>\n",
       "      <td>0.0</td>\n",
       "      <td>0.0</td>\n",
       "      <td>0.0</td>\n",
       "      <td>0.0</td>\n",
       "      <td>0.00000</td>\n",
       "      <td>0.000000</td>\n",
       "      <td>0.0</td>\n",
       "      <td>...</td>\n",
       "      <td>0.0</td>\n",
       "      <td>0.000000</td>\n",
       "      <td>50.268274</td>\n",
       "      <td>0.000000</td>\n",
       "      <td>0.000000</td>\n",
       "      <td>71.0</td>\n",
       "      <td>0.0</td>\n",
       "      <td>46.0</td>\n",
       "      <td>0.0</td>\n",
       "      <td>25857.0</td>\n",
       "    </tr>\n",
       "    <tr>\n",
       "      <th>4</th>\n",
       "      <td>3.5</td>\n",
       "      <td>40.591090</td>\n",
       "      <td>0.0</td>\n",
       "      <td>0.0</td>\n",
       "      <td>0.0</td>\n",
       "      <td>0.0</td>\n",
       "      <td>0.0</td>\n",
       "      <td>0.00000</td>\n",
       "      <td>1.232401</td>\n",
       "      <td>0.0</td>\n",
       "      <td>...</td>\n",
       "      <td>0.0</td>\n",
       "      <td>0.000000</td>\n",
       "      <td>475.668787</td>\n",
       "      <td>9.282582</td>\n",
       "      <td>15.894519</td>\n",
       "      <td>280.0</td>\n",
       "      <td>2.5</td>\n",
       "      <td>71.5</td>\n",
       "      <td>3.5</td>\n",
       "      <td>647727.0</td>\n",
       "    </tr>\n",
       "    <tr>\n",
       "      <th>5</th>\n",
       "      <td>3.5</td>\n",
       "      <td>44.626190</td>\n",
       "      <td>0.0</td>\n",
       "      <td>0.0</td>\n",
       "      <td>0.0</td>\n",
       "      <td>0.0</td>\n",
       "      <td>0.0</td>\n",
       "      <td>1.04841</td>\n",
       "      <td>0.000000</td>\n",
       "      <td>0.0</td>\n",
       "      <td>...</td>\n",
       "      <td>2.5</td>\n",
       "      <td>27.167021</td>\n",
       "      <td>352.523699</td>\n",
       "      <td>5.476712</td>\n",
       "      <td>23.260390</td>\n",
       "      <td>316.0</td>\n",
       "      <td>9.5</td>\n",
       "      <td>387.5</td>\n",
       "      <td>22.0</td>\n",
       "      <td>24175.0</td>\n",
       "    </tr>\n",
       "  </tbody>\n",
       "</table>\n",
       "<p>5 rows × 43 columns</p>\n",
       "</div>"
      ],
      "text/plain": [
       "    MONTH         V1   V2   V3   V4   V5   V6       V7        V8   V9  \\\n",
       "ID                                                                      \n",
       "1     3.5  38.186688  0.0  0.0  0.0  0.0  0.0  0.00000  0.000000  0.0   \n",
       "2     3.5  52.967070  0.0  0.0  0.0  0.0  0.0  0.00000  0.000000  0.0   \n",
       "3     5.0  64.008600  0.0  0.0  0.0  0.0  0.0  0.00000  0.000000  0.0   \n",
       "4     3.5  40.591090  0.0  0.0  0.0  0.0  0.0  0.00000  1.232401  0.0   \n",
       "5     3.5  44.626190  0.0  0.0  0.0  0.0  0.0  1.04841  0.000000  0.0   \n",
       "\n",
       "      ...     V33        V34         V35        V36        V37    V38   V39  \\\n",
       "ID    ...                                                                     \n",
       "1     ...     0.0   0.000000  653.910509   7.248508   6.210913  276.0   3.0   \n",
       "2     ...     0.0   0.000000  938.978920  15.210562   8.116336  252.0  30.0   \n",
       "3     ...     0.0   0.000000   50.268274   0.000000   0.000000   71.0   0.0   \n",
       "4     ...     0.0   0.000000  475.668787   9.282582  15.894519  280.0   2.5   \n",
       "5     ...     2.5  27.167021  352.523699   5.476712  23.260390  316.0   9.5   \n",
       "\n",
       "      V40   V41       V42  \n",
       "ID                         \n",
       "1   321.0   4.0   88252.0  \n",
       "2   230.0  11.5   29702.0  \n",
       "3    46.0   0.0   25857.0  \n",
       "4    71.5   3.5  647727.0  \n",
       "5   387.5  22.0   24175.0  \n",
       "\n",
       "[5 rows x 43 columns]"
      ]
     },
     "execution_count": 74,
     "metadata": {},
     "output_type": "execute_result"
    }
   ],
   "source": [
    "b11.head()"
   ]
  },
  {
   "cell_type": "code",
   "execution_count": 75,
   "metadata": {},
   "outputs": [],
   "source": [
    "#### Немного моих єксперементов -попытка определить столбцы с одими нулями. Судя по всему таких нет"
   ]
  },
  {
   "cell_type": "code",
   "execution_count": 76,
   "metadata": {},
   "outputs": [],
   "source": [
    "for i in range(1, 43):\n",
    "    if len(b11[b11['V%d'%i]==0])== len(b11['V%d'%i]):\n",
    "        print('V%d'%i)"
   ]
  },
  {
   "cell_type": "code",
   "execution_count": 77,
   "metadata": {},
   "outputs": [
    {
     "data": {
      "text/plain": [
       "9258"
      ]
     },
     "execution_count": 77,
     "metadata": {},
     "output_type": "execute_result"
    }
   ],
   "source": [
    "len(b11[b11['V2']==0])"
   ]
  },
  {
   "cell_type": "code",
   "execution_count": 78,
   "metadata": {},
   "outputs": [
    {
     "data": {
      "text/plain": [
       "9267"
      ]
     },
     "execution_count": 78,
     "metadata": {},
     "output_type": "execute_result"
    }
   ],
   "source": [
    "len(b11['V2'])"
   ]
  },
  {
   "cell_type": "code",
   "execution_count": 79,
   "metadata": {},
   "outputs": [
    {
     "data": {
      "text/plain": [
       "9"
      ]
     },
     "execution_count": 79,
     "metadata": {},
     "output_type": "execute_result"
    }
   ],
   "source": [
    "len(b11[b11['V2']!=0])"
   ]
  },
  {
   "cell_type": "code",
   "execution_count": 80,
   "metadata": {},
   "outputs": [
    {
     "data": {
      "text/plain": [
       "3254"
      ]
     },
     "execution_count": 80,
     "metadata": {},
     "output_type": "execute_result"
    }
   ],
   "source": [
    "len(b1[b1['V2']!=0])"
   ]
  },
  {
   "cell_type": "code",
   "execution_count": 81,
   "metadata": {},
   "outputs": [
    {
     "data": {
      "text/plain": [
       "51073"
      ]
     },
     "execution_count": 81,
     "metadata": {},
     "output_type": "execute_result"
    }
   ],
   "source": [
    "len(b1[b1['V2']==0])"
   ]
  },
  {
   "cell_type": "markdown",
   "metadata": {},
   "source": [
    "#### Конец эксперементов"
   ]
  },
  {
   "cell_type": "code",
   "execution_count": 82,
   "metadata": {},
   "outputs": [
    {
     "data": {
      "text/plain": [
       "9267"
      ]
     },
     "execution_count": 82,
     "metadata": {},
     "output_type": "execute_result"
    }
   ],
   "source": [
    "len(b11) "
   ]
  },
  {
   "cell_type": "code",
   "execution_count": 83,
   "metadata": {},
   "outputs": [
    {
     "data": {
      "text/html": [
       "<div>\n",
       "<style scoped>\n",
       "    .dataframe tbody tr th:only-of-type {\n",
       "        vertical-align: middle;\n",
       "    }\n",
       "\n",
       "    .dataframe tbody tr th {\n",
       "        vertical-align: top;\n",
       "    }\n",
       "\n",
       "    .dataframe thead th {\n",
       "        text-align: right;\n",
       "    }\n",
       "</style>\n",
       "<table border=\"1\" class=\"dataframe\">\n",
       "  <thead>\n",
       "    <tr style=\"text-align: right;\">\n",
       "      <th></th>\n",
       "      <th>MONTH</th>\n",
       "      <th>V1</th>\n",
       "      <th>V2</th>\n",
       "      <th>V3</th>\n",
       "      <th>V4</th>\n",
       "      <th>V5</th>\n",
       "      <th>V6</th>\n",
       "      <th>V7</th>\n",
       "      <th>V8</th>\n",
       "      <th>V9</th>\n",
       "      <th>...</th>\n",
       "      <th>V33</th>\n",
       "      <th>V34</th>\n",
       "      <th>V35</th>\n",
       "      <th>V36</th>\n",
       "      <th>V37</th>\n",
       "      <th>V38</th>\n",
       "      <th>V39</th>\n",
       "      <th>V40</th>\n",
       "      <th>V41</th>\n",
       "      <th>V42</th>\n",
       "    </tr>\n",
       "    <tr>\n",
       "      <th>ID</th>\n",
       "      <th></th>\n",
       "      <th></th>\n",
       "      <th></th>\n",
       "      <th></th>\n",
       "      <th></th>\n",
       "      <th></th>\n",
       "      <th></th>\n",
       "      <th></th>\n",
       "      <th></th>\n",
       "      <th></th>\n",
       "      <th></th>\n",
       "      <th></th>\n",
       "      <th></th>\n",
       "      <th></th>\n",
       "      <th></th>\n",
       "      <th></th>\n",
       "      <th></th>\n",
       "      <th></th>\n",
       "      <th></th>\n",
       "      <th></th>\n",
       "      <th></th>\n",
       "    </tr>\n",
       "  </thead>\n",
       "  <tbody>\n",
       "    <tr>\n",
       "      <th>9263</th>\n",
       "      <td>6.0</td>\n",
       "      <td>NaN</td>\n",
       "      <td>0.000000</td>\n",
       "      <td>0.0</td>\n",
       "      <td>0.0</td>\n",
       "      <td>0.000000</td>\n",
       "      <td>0.000000</td>\n",
       "      <td>1.976800</td>\n",
       "      <td>0.000000</td>\n",
       "      <td>0.0</td>\n",
       "      <td>...</td>\n",
       "      <td>2.0</td>\n",
       "      <td>44.099711</td>\n",
       "      <td>755.583220</td>\n",
       "      <td>0.000000</td>\n",
       "      <td>0.000000</td>\n",
       "      <td>290.0</td>\n",
       "      <td>NaN</td>\n",
       "      <td>NaN</td>\n",
       "      <td>0.0</td>\n",
       "      <td>1333.0</td>\n",
       "    </tr>\n",
       "    <tr>\n",
       "      <th>9264</th>\n",
       "      <td>6.0</td>\n",
       "      <td>NaN</td>\n",
       "      <td>0.000000</td>\n",
       "      <td>0.0</td>\n",
       "      <td>0.0</td>\n",
       "      <td>4.623080</td>\n",
       "      <td>0.000000</td>\n",
       "      <td>0.993630</td>\n",
       "      <td>0.000000</td>\n",
       "      <td>0.0</td>\n",
       "      <td>...</td>\n",
       "      <td>3.0</td>\n",
       "      <td>1093.926720</td>\n",
       "      <td>56.964542</td>\n",
       "      <td>6.204420</td>\n",
       "      <td>0.000000</td>\n",
       "      <td>15.0</td>\n",
       "      <td>2.0</td>\n",
       "      <td>6.0</td>\n",
       "      <td>0.0</td>\n",
       "      <td>12570.0</td>\n",
       "    </tr>\n",
       "    <tr>\n",
       "      <th>9265</th>\n",
       "      <td>5.5</td>\n",
       "      <td>55.162043</td>\n",
       "      <td>2.648775</td>\n",
       "      <td>0.0</td>\n",
       "      <td>0.0</td>\n",
       "      <td>2.361986</td>\n",
       "      <td>0.000000</td>\n",
       "      <td>2.515465</td>\n",
       "      <td>0.000000</td>\n",
       "      <td>0.0</td>\n",
       "      <td>...</td>\n",
       "      <td>4.5</td>\n",
       "      <td>283.035639</td>\n",
       "      <td>34.137074</td>\n",
       "      <td>5.392035</td>\n",
       "      <td>9.718526</td>\n",
       "      <td>7.0</td>\n",
       "      <td>3.0</td>\n",
       "      <td>28.5</td>\n",
       "      <td>2.0</td>\n",
       "      <td>729429.0</td>\n",
       "    </tr>\n",
       "    <tr>\n",
       "      <th>9266</th>\n",
       "      <td>5.5</td>\n",
       "      <td>48.749010</td>\n",
       "      <td>0.000000</td>\n",
       "      <td>0.0</td>\n",
       "      <td>0.0</td>\n",
       "      <td>0.000000</td>\n",
       "      <td>3.258665</td>\n",
       "      <td>3.650190</td>\n",
       "      <td>0.575507</td>\n",
       "      <td>0.0</td>\n",
       "      <td>...</td>\n",
       "      <td>12.0</td>\n",
       "      <td>114.751354</td>\n",
       "      <td>44.250076</td>\n",
       "      <td>19.648597</td>\n",
       "      <td>19.020935</td>\n",
       "      <td>56.5</td>\n",
       "      <td>12.0</td>\n",
       "      <td>37.5</td>\n",
       "      <td>10.5</td>\n",
       "      <td>33305.0</td>\n",
       "    </tr>\n",
       "    <tr>\n",
       "      <th>9267</th>\n",
       "      <td>6.0</td>\n",
       "      <td>0.000000</td>\n",
       "      <td>0.000000</td>\n",
       "      <td>0.0</td>\n",
       "      <td>0.0</td>\n",
       "      <td>0.000000</td>\n",
       "      <td>0.000000</td>\n",
       "      <td>0.000000</td>\n",
       "      <td>0.000000</td>\n",
       "      <td>0.0</td>\n",
       "      <td>...</td>\n",
       "      <td>0.0</td>\n",
       "      <td>0.000000</td>\n",
       "      <td>0.000000</td>\n",
       "      <td>0.000000</td>\n",
       "      <td>0.000000</td>\n",
       "      <td>0.0</td>\n",
       "      <td>0.0</td>\n",
       "      <td>0.0</td>\n",
       "      <td>0.0</td>\n",
       "      <td>0.0</td>\n",
       "    </tr>\n",
       "  </tbody>\n",
       "</table>\n",
       "<p>5 rows × 43 columns</p>\n",
       "</div>"
      ],
      "text/plain": [
       "      MONTH         V1        V2   V3   V4        V5        V6        V7  \\\n",
       "ID                                                                         \n",
       "9263    6.0        NaN  0.000000  0.0  0.0  0.000000  0.000000  1.976800   \n",
       "9264    6.0        NaN  0.000000  0.0  0.0  4.623080  0.000000  0.993630   \n",
       "9265    5.5  55.162043  2.648775  0.0  0.0  2.361986  0.000000  2.515465   \n",
       "9266    5.5  48.749010  0.000000  0.0  0.0  0.000000  3.258665  3.650190   \n",
       "9267    6.0   0.000000  0.000000  0.0  0.0  0.000000  0.000000  0.000000   \n",
       "\n",
       "            V8   V9    ...      V33          V34         V35        V36  \\\n",
       "ID                     ...                                                \n",
       "9263  0.000000  0.0    ...      2.0    44.099711  755.583220   0.000000   \n",
       "9264  0.000000  0.0    ...      3.0  1093.926720   56.964542   6.204420   \n",
       "9265  0.000000  0.0    ...      4.5   283.035639   34.137074   5.392035   \n",
       "9266  0.575507  0.0    ...     12.0   114.751354   44.250076  19.648597   \n",
       "9267  0.000000  0.0    ...      0.0     0.000000    0.000000   0.000000   \n",
       "\n",
       "            V37    V38   V39   V40   V41       V42  \n",
       "ID                                                  \n",
       "9263   0.000000  290.0   NaN   NaN   0.0    1333.0  \n",
       "9264   0.000000   15.0   2.0   6.0   0.0   12570.0  \n",
       "9265   9.718526    7.0   3.0  28.5   2.0  729429.0  \n",
       "9266  19.020935   56.5  12.0  37.5  10.5   33305.0  \n",
       "9267   0.000000    0.0   0.0   0.0   0.0       0.0  \n",
       "\n",
       "[5 rows x 43 columns]"
      ]
     },
     "execution_count": 83,
     "metadata": {},
     "output_type": "execute_result"
    }
   ],
   "source": [
    "b11.tail() # some NaN could not be filled"
   ]
  },
  {
   "cell_type": "markdown",
   "metadata": {},
   "source": [
    "#### NaN  остались по причине отсутсвия других данных кроме NaN у конкретного клиента в конкретном параметре"
   ]
  },
  {
   "cell_type": "code",
   "execution_count": 84,
   "metadata": {},
   "outputs": [
    {
     "data": {
      "text/plain": [
       "9184"
      ]
     },
     "execution_count": 84,
     "metadata": {},
     "output_type": "execute_result"
    }
   ],
   "source": [
    "len(b11.dropna())"
   ]
  },
  {
   "cell_type": "code",
   "execution_count": 85,
   "metadata": {},
   "outputs": [
    {
     "data": {
      "text/plain": [
       "83"
      ]
     },
     "execution_count": 85,
     "metadata": {},
     "output_type": "execute_result"
    }
   ],
   "source": [
    "len(b11) -len(b11.dropna())"
   ]
  },
  {
   "cell_type": "code",
   "execution_count": 86,
   "metadata": {},
   "outputs": [],
   "source": [
    "#### Удаляем все строки с NaN"
   ]
  },
  {
   "cell_type": "code",
   "execution_count": 87,
   "metadata": {},
   "outputs": [],
   "source": [
    "b11 = b11.dropna()"
   ]
  },
  {
   "cell_type": "code",
   "execution_count": 88,
   "metadata": {},
   "outputs": [
    {
     "name": "stdout",
     "output_type": "stream",
     "text": [
      "<class 'pandas.core.frame.DataFrame'>\n",
      "Int64Index: 9184 entries, 1 to 9266\n",
      "Data columns (total 43 columns):\n",
      "MONTH    9184 non-null float64\n",
      "V1       9184 non-null float64\n",
      "V2       9184 non-null float64\n",
      "V3       9184 non-null float64\n",
      "V4       9184 non-null float64\n",
      "V5       9184 non-null float64\n",
      "V6       9184 non-null float64\n",
      "V7       9184 non-null float64\n",
      "V8       9184 non-null float64\n",
      "V9       9184 non-null float64\n",
      "V10      9184 non-null float64\n",
      "V11      9184 non-null float64\n",
      "V12      9184 non-null float64\n",
      "V13      9184 non-null float64\n",
      "V14      9184 non-null float64\n",
      "V15      9184 non-null float64\n",
      "V16      9184 non-null float64\n",
      "V17      9184 non-null float64\n",
      "V18      9184 non-null float64\n",
      "V19      9184 non-null float64\n",
      "V20      9184 non-null float64\n",
      "V21      9184 non-null float64\n",
      "V22      9184 non-null float64\n",
      "V23      9184 non-null float64\n",
      "V24      9184 non-null float64\n",
      "V25      9184 non-null float64\n",
      "V26      9184 non-null float64\n",
      "V27      9184 non-null float64\n",
      "V28      9184 non-null float64\n",
      "V29      9184 non-null float64\n",
      "V30      9184 non-null float64\n",
      "V31      9184 non-null float64\n",
      "V32      9184 non-null float64\n",
      "V33      9184 non-null float64\n",
      "V34      9184 non-null float64\n",
      "V35      9184 non-null float64\n",
      "V36      9184 non-null float64\n",
      "V37      9184 non-null float64\n",
      "V38      9184 non-null float64\n",
      "V39      9184 non-null float64\n",
      "V40      9184 non-null float64\n",
      "V41      9184 non-null float64\n",
      "V42      9184 non-null float64\n",
      "dtypes: float64(43)\n",
      "memory usage: 3.1 MB\n"
     ]
    }
   ],
   "source": [
    "b11.info()"
   ]
  },
  {
   "cell_type": "markdown",
   "metadata": {},
   "source": [
    "#### нет ID надо сделать b11 = b11.reset_index() так как поле ID стало индексом"
   ]
  },
  {
   "cell_type": "code",
   "execution_count": 89,
   "metadata": {},
   "outputs": [],
   "source": [
    "b11 = b11.reset_index()"
   ]
  },
  {
   "cell_type": "code",
   "execution_count": 90,
   "metadata": {},
   "outputs": [],
   "source": [
    "data = b11.merge(t, on='ID')"
   ]
  },
  {
   "cell_type": "code",
   "execution_count": 91,
   "metadata": {},
   "outputs": [
    {
     "data": {
      "text/html": [
       "<div>\n",
       "<style scoped>\n",
       "    .dataframe tbody tr th:only-of-type {\n",
       "        vertical-align: middle;\n",
       "    }\n",
       "\n",
       "    .dataframe tbody tr th {\n",
       "        vertical-align: top;\n",
       "    }\n",
       "\n",
       "    .dataframe thead th {\n",
       "        text-align: right;\n",
       "    }\n",
       "</style>\n",
       "<table border=\"1\" class=\"dataframe\">\n",
       "  <thead>\n",
       "    <tr style=\"text-align: right;\">\n",
       "      <th></th>\n",
       "      <th>ID</th>\n",
       "      <th>MONTH</th>\n",
       "      <th>V1</th>\n",
       "      <th>V2</th>\n",
       "      <th>V3</th>\n",
       "      <th>V4</th>\n",
       "      <th>V5</th>\n",
       "      <th>V6</th>\n",
       "      <th>V7</th>\n",
       "      <th>V8</th>\n",
       "      <th>...</th>\n",
       "      <th>V34</th>\n",
       "      <th>V35</th>\n",
       "      <th>V36</th>\n",
       "      <th>V37</th>\n",
       "      <th>V38</th>\n",
       "      <th>V39</th>\n",
       "      <th>V40</th>\n",
       "      <th>V41</th>\n",
       "      <th>V42</th>\n",
       "      <th>TARGET</th>\n",
       "    </tr>\n",
       "  </thead>\n",
       "  <tbody>\n",
       "    <tr>\n",
       "      <th>0</th>\n",
       "      <td>1</td>\n",
       "      <td>3.5</td>\n",
       "      <td>38.186688</td>\n",
       "      <td>0.0</td>\n",
       "      <td>0.0</td>\n",
       "      <td>0.0</td>\n",
       "      <td>0.0</td>\n",
       "      <td>0.0</td>\n",
       "      <td>0.00000</td>\n",
       "      <td>0.000000</td>\n",
       "      <td>...</td>\n",
       "      <td>0.000000</td>\n",
       "      <td>653.910509</td>\n",
       "      <td>7.248508</td>\n",
       "      <td>6.210913</td>\n",
       "      <td>276.0</td>\n",
       "      <td>3.0</td>\n",
       "      <td>321.0</td>\n",
       "      <td>4.0</td>\n",
       "      <td>88252.0</td>\n",
       "      <td>2</td>\n",
       "    </tr>\n",
       "    <tr>\n",
       "      <th>1</th>\n",
       "      <td>2</td>\n",
       "      <td>3.5</td>\n",
       "      <td>52.967070</td>\n",
       "      <td>0.0</td>\n",
       "      <td>0.0</td>\n",
       "      <td>0.0</td>\n",
       "      <td>0.0</td>\n",
       "      <td>0.0</td>\n",
       "      <td>0.00000</td>\n",
       "      <td>0.000000</td>\n",
       "      <td>...</td>\n",
       "      <td>0.000000</td>\n",
       "      <td>938.978920</td>\n",
       "      <td>15.210562</td>\n",
       "      <td>8.116336</td>\n",
       "      <td>252.0</td>\n",
       "      <td>30.0</td>\n",
       "      <td>230.0</td>\n",
       "      <td>11.5</td>\n",
       "      <td>29702.0</td>\n",
       "      <td>2</td>\n",
       "    </tr>\n",
       "    <tr>\n",
       "      <th>2</th>\n",
       "      <td>3</td>\n",
       "      <td>5.0</td>\n",
       "      <td>64.008600</td>\n",
       "      <td>0.0</td>\n",
       "      <td>0.0</td>\n",
       "      <td>0.0</td>\n",
       "      <td>0.0</td>\n",
       "      <td>0.0</td>\n",
       "      <td>0.00000</td>\n",
       "      <td>0.000000</td>\n",
       "      <td>...</td>\n",
       "      <td>0.000000</td>\n",
       "      <td>50.268274</td>\n",
       "      <td>0.000000</td>\n",
       "      <td>0.000000</td>\n",
       "      <td>71.0</td>\n",
       "      <td>0.0</td>\n",
       "      <td>46.0</td>\n",
       "      <td>0.0</td>\n",
       "      <td>25857.0</td>\n",
       "      <td>1</td>\n",
       "    </tr>\n",
       "    <tr>\n",
       "      <th>3</th>\n",
       "      <td>4</td>\n",
       "      <td>3.5</td>\n",
       "      <td>40.591090</td>\n",
       "      <td>0.0</td>\n",
       "      <td>0.0</td>\n",
       "      <td>0.0</td>\n",
       "      <td>0.0</td>\n",
       "      <td>0.0</td>\n",
       "      <td>0.00000</td>\n",
       "      <td>1.232401</td>\n",
       "      <td>...</td>\n",
       "      <td>0.000000</td>\n",
       "      <td>475.668787</td>\n",
       "      <td>9.282582</td>\n",
       "      <td>15.894519</td>\n",
       "      <td>280.0</td>\n",
       "      <td>2.5</td>\n",
       "      <td>71.5</td>\n",
       "      <td>3.5</td>\n",
       "      <td>647727.0</td>\n",
       "      <td>3</td>\n",
       "    </tr>\n",
       "    <tr>\n",
       "      <th>4</th>\n",
       "      <td>5</td>\n",
       "      <td>3.5</td>\n",
       "      <td>44.626190</td>\n",
       "      <td>0.0</td>\n",
       "      <td>0.0</td>\n",
       "      <td>0.0</td>\n",
       "      <td>0.0</td>\n",
       "      <td>0.0</td>\n",
       "      <td>1.04841</td>\n",
       "      <td>0.000000</td>\n",
       "      <td>...</td>\n",
       "      <td>27.167021</td>\n",
       "      <td>352.523699</td>\n",
       "      <td>5.476712</td>\n",
       "      <td>23.260390</td>\n",
       "      <td>316.0</td>\n",
       "      <td>9.5</td>\n",
       "      <td>387.5</td>\n",
       "      <td>22.0</td>\n",
       "      <td>24175.0</td>\n",
       "      <td>3</td>\n",
       "    </tr>\n",
       "  </tbody>\n",
       "</table>\n",
       "<p>5 rows × 45 columns</p>\n",
       "</div>"
      ],
      "text/plain": [
       "   ID  MONTH         V1   V2   V3   V4   V5   V6       V7        V8   ...    \\\n",
       "0   1    3.5  38.186688  0.0  0.0  0.0  0.0  0.0  0.00000  0.000000   ...     \n",
       "1   2    3.5  52.967070  0.0  0.0  0.0  0.0  0.0  0.00000  0.000000   ...     \n",
       "2   3    5.0  64.008600  0.0  0.0  0.0  0.0  0.0  0.00000  0.000000   ...     \n",
       "3   4    3.5  40.591090  0.0  0.0  0.0  0.0  0.0  0.00000  1.232401   ...     \n",
       "4   5    3.5  44.626190  0.0  0.0  0.0  0.0  0.0  1.04841  0.000000   ...     \n",
       "\n",
       "         V34         V35        V36        V37    V38   V39    V40   V41  \\\n",
       "0   0.000000  653.910509   7.248508   6.210913  276.0   3.0  321.0   4.0   \n",
       "1   0.000000  938.978920  15.210562   8.116336  252.0  30.0  230.0  11.5   \n",
       "2   0.000000   50.268274   0.000000   0.000000   71.0   0.0   46.0   0.0   \n",
       "3   0.000000  475.668787   9.282582  15.894519  280.0   2.5   71.5   3.5   \n",
       "4  27.167021  352.523699   5.476712  23.260390  316.0   9.5  387.5  22.0   \n",
       "\n",
       "        V42  TARGET  \n",
       "0   88252.0       2  \n",
       "1   29702.0       2  \n",
       "2   25857.0       1  \n",
       "3  647727.0       3  \n",
       "4   24175.0       3  \n",
       "\n",
       "[5 rows x 45 columns]"
      ]
     },
     "execution_count": 91,
     "metadata": {},
     "output_type": "execute_result"
    }
   ],
   "source": [
    "data.head()"
   ]
  },
  {
   "cell_type": "markdown",
   "metadata": {},
   "source": [
    "#### Прорбуем классифицировать"
   ]
  },
  {
   "cell_type": "code",
   "execution_count": 92,
   "metadata": {},
   "outputs": [],
   "source": [
    "target = data.TARGET\n",
    "data1 = data.drop(['MONTH', 'ID', 'TARGET'], axis=1)"
   ]
  },
  {
   "cell_type": "markdown",
   "metadata": {},
   "source": [
    "##### Новый вариант функции get_accuracy"
   ]
  },
  {
   "cell_type": "code",
   "execution_count": 93,
   "metadata": {},
   "outputs": [],
   "source": [
    "from sklearn.model_selection import KFold\n",
    "kf = KFold(n_splits=5, shuffle=True)\n"
   ]
  },
  {
   "cell_type": "code",
   "execution_count": 94,
   "metadata": {},
   "outputs": [],
   "source": [
    "def get_accuracy(cl, data, target):\n",
    "        pr = np.zeros_like(target, dtype=np.float)\n",
    "        for tr, ts in kf.split(data):\n",
    "            cl.fit(data[tr], target[tr])\n",
    "            pr[ts] = cl.predict(data[ts])\n",
    "        return accuracy_score(target, pr)"
   ]
  },
  {
   "cell_type": "code",
   "execution_count": 95,
   "metadata": {},
   "outputs": [
    {
     "data": {
      "text/plain": [
       "0.40064777327935225"
      ]
     },
     "execution_count": 95,
     "metadata": {},
     "output_type": "execute_result"
    }
   ],
   "source": [
    "get_accuracy(rf, data1.values, target.values) "
   ]
  },
  {
   "cell_type": "markdown",
   "metadata": {},
   "source": [
    "#### Ничего не  изменилось точность все равно низкая\n",
    "#### добавляем b2   предварительно опять декодировав(классифицировав) значения"
   ]
  },
  {
   "cell_type": "code",
   "execution_count": 96,
   "metadata": {},
   "outputs": [],
   "source": [
    "for feature in b2.columns:\n",
    "    if feature != 'ID':\n",
    "        b2[feature] = LabelEncoder().fit_transform(b2[feature])"
   ]
  },
  {
   "cell_type": "code",
   "execution_count": 97,
   "metadata": {},
   "outputs": [
    {
     "data": {
      "text/html": [
       "<div>\n",
       "<style scoped>\n",
       "    .dataframe tbody tr th:only-of-type {\n",
       "        vertical-align: middle;\n",
       "    }\n",
       "\n",
       "    .dataframe tbody tr th {\n",
       "        vertical-align: top;\n",
       "    }\n",
       "\n",
       "    .dataframe thead th {\n",
       "        text-align: right;\n",
       "    }\n",
       "</style>\n",
       "<table border=\"1\" class=\"dataframe\">\n",
       "  <thead>\n",
       "    <tr style=\"text-align: right;\">\n",
       "      <th></th>\n",
       "      <th>ID</th>\n",
       "      <th>T1</th>\n",
       "      <th>T2</th>\n",
       "      <th>T3</th>\n",
       "      <th>T4</th>\n",
       "    </tr>\n",
       "  </thead>\n",
       "  <tbody>\n",
       "    <tr>\n",
       "      <th>0</th>\n",
       "      <td>1299</td>\n",
       "      <td>11</td>\n",
       "      <td>6</td>\n",
       "      <td>63</td>\n",
       "      <td>170</td>\n",
       "    </tr>\n",
       "    <tr>\n",
       "      <th>1</th>\n",
       "      <td>4621</td>\n",
       "      <td>4</td>\n",
       "      <td>4</td>\n",
       "      <td>114</td>\n",
       "      <td>152</td>\n",
       "    </tr>\n",
       "    <tr>\n",
       "      <th>2</th>\n",
       "      <td>4775</td>\n",
       "      <td>4</td>\n",
       "      <td>4</td>\n",
       "      <td>123</td>\n",
       "      <td>750</td>\n",
       "    </tr>\n",
       "    <tr>\n",
       "      <th>3</th>\n",
       "      <td>5860</td>\n",
       "      <td>11</td>\n",
       "      <td>4</td>\n",
       "      <td>123</td>\n",
       "      <td>688</td>\n",
       "    </tr>\n",
       "    <tr>\n",
       "      <th>4</th>\n",
       "      <td>8500</td>\n",
       "      <td>3</td>\n",
       "      <td>1</td>\n",
       "      <td>60</td>\n",
       "      <td>453</td>\n",
       "    </tr>\n",
       "  </tbody>\n",
       "</table>\n",
       "</div>"
      ],
      "text/plain": [
       "     ID  T1  T2   T3   T4\n",
       "0  1299  11   6   63  170\n",
       "1  4621   4   4  114  152\n",
       "2  4775   4   4  123  750\n",
       "3  5860  11   4  123  688\n",
       "4  8500   3   1   60  453"
      ]
     },
     "execution_count": 97,
     "metadata": {},
     "output_type": "execute_result"
    }
   ],
   "source": [
    "b2.head()"
   ]
  },
  {
   "cell_type": "code",
   "execution_count": 98,
   "metadata": {},
   "outputs": [],
   "source": [
    "data = data.merge(b2, on='ID')"
   ]
  },
  {
   "cell_type": "code",
   "execution_count": 99,
   "metadata": {},
   "outputs": [
    {
     "data": {
      "text/html": [
       "<div>\n",
       "<style scoped>\n",
       "    .dataframe tbody tr th:only-of-type {\n",
       "        vertical-align: middle;\n",
       "    }\n",
       "\n",
       "    .dataframe tbody tr th {\n",
       "        vertical-align: top;\n",
       "    }\n",
       "\n",
       "    .dataframe thead th {\n",
       "        text-align: right;\n",
       "    }\n",
       "</style>\n",
       "<table border=\"1\" class=\"dataframe\">\n",
       "  <thead>\n",
       "    <tr style=\"text-align: right;\">\n",
       "      <th></th>\n",
       "      <th>ID</th>\n",
       "      <th>MONTH</th>\n",
       "      <th>V1</th>\n",
       "      <th>V2</th>\n",
       "      <th>V3</th>\n",
       "      <th>V4</th>\n",
       "      <th>V5</th>\n",
       "      <th>V6</th>\n",
       "      <th>V7</th>\n",
       "      <th>V8</th>\n",
       "      <th>...</th>\n",
       "      <th>V38</th>\n",
       "      <th>V39</th>\n",
       "      <th>V40</th>\n",
       "      <th>V41</th>\n",
       "      <th>V42</th>\n",
       "      <th>TARGET</th>\n",
       "      <th>T1</th>\n",
       "      <th>T2</th>\n",
       "      <th>T3</th>\n",
       "      <th>T4</th>\n",
       "    </tr>\n",
       "  </thead>\n",
       "  <tbody>\n",
       "    <tr>\n",
       "      <th>0</th>\n",
       "      <td>1</td>\n",
       "      <td>3.5</td>\n",
       "      <td>38.186688</td>\n",
       "      <td>0.0</td>\n",
       "      <td>0.0</td>\n",
       "      <td>0.0</td>\n",
       "      <td>0.0</td>\n",
       "      <td>0.0</td>\n",
       "      <td>0.00000</td>\n",
       "      <td>0.000000</td>\n",
       "      <td>...</td>\n",
       "      <td>276.0</td>\n",
       "      <td>3.0</td>\n",
       "      <td>321.0</td>\n",
       "      <td>4.0</td>\n",
       "      <td>88252.0</td>\n",
       "      <td>2</td>\n",
       "      <td>19</td>\n",
       "      <td>1</td>\n",
       "      <td>63</td>\n",
       "      <td>669</td>\n",
       "    </tr>\n",
       "    <tr>\n",
       "      <th>1</th>\n",
       "      <td>2</td>\n",
       "      <td>3.5</td>\n",
       "      <td>52.967070</td>\n",
       "      <td>0.0</td>\n",
       "      <td>0.0</td>\n",
       "      <td>0.0</td>\n",
       "      <td>0.0</td>\n",
       "      <td>0.0</td>\n",
       "      <td>0.00000</td>\n",
       "      <td>0.000000</td>\n",
       "      <td>...</td>\n",
       "      <td>252.0</td>\n",
       "      <td>30.0</td>\n",
       "      <td>230.0</td>\n",
       "      <td>11.5</td>\n",
       "      <td>29702.0</td>\n",
       "      <td>2</td>\n",
       "      <td>14</td>\n",
       "      <td>6</td>\n",
       "      <td>114</td>\n",
       "      <td>98</td>\n",
       "    </tr>\n",
       "    <tr>\n",
       "      <th>2</th>\n",
       "      <td>3</td>\n",
       "      <td>5.0</td>\n",
       "      <td>64.008600</td>\n",
       "      <td>0.0</td>\n",
       "      <td>0.0</td>\n",
       "      <td>0.0</td>\n",
       "      <td>0.0</td>\n",
       "      <td>0.0</td>\n",
       "      <td>0.00000</td>\n",
       "      <td>0.000000</td>\n",
       "      <td>...</td>\n",
       "      <td>71.0</td>\n",
       "      <td>0.0</td>\n",
       "      <td>46.0</td>\n",
       "      <td>0.0</td>\n",
       "      <td>25857.0</td>\n",
       "      <td>1</td>\n",
       "      <td>5</td>\n",
       "      <td>1</td>\n",
       "      <td>63</td>\n",
       "      <td>669</td>\n",
       "    </tr>\n",
       "    <tr>\n",
       "      <th>3</th>\n",
       "      <td>4</td>\n",
       "      <td>3.5</td>\n",
       "      <td>40.591090</td>\n",
       "      <td>0.0</td>\n",
       "      <td>0.0</td>\n",
       "      <td>0.0</td>\n",
       "      <td>0.0</td>\n",
       "      <td>0.0</td>\n",
       "      <td>0.00000</td>\n",
       "      <td>1.232401</td>\n",
       "      <td>...</td>\n",
       "      <td>280.0</td>\n",
       "      <td>2.5</td>\n",
       "      <td>71.5</td>\n",
       "      <td>3.5</td>\n",
       "      <td>647727.0</td>\n",
       "      <td>3</td>\n",
       "      <td>4</td>\n",
       "      <td>1</td>\n",
       "      <td>134</td>\n",
       "      <td>819</td>\n",
       "    </tr>\n",
       "    <tr>\n",
       "      <th>4</th>\n",
       "      <td>5</td>\n",
       "      <td>3.5</td>\n",
       "      <td>44.626190</td>\n",
       "      <td>0.0</td>\n",
       "      <td>0.0</td>\n",
       "      <td>0.0</td>\n",
       "      <td>0.0</td>\n",
       "      <td>0.0</td>\n",
       "      <td>1.04841</td>\n",
       "      <td>0.000000</td>\n",
       "      <td>...</td>\n",
       "      <td>316.0</td>\n",
       "      <td>9.5</td>\n",
       "      <td>387.5</td>\n",
       "      <td>22.0</td>\n",
       "      <td>24175.0</td>\n",
       "      <td>3</td>\n",
       "      <td>13</td>\n",
       "      <td>4</td>\n",
       "      <td>101</td>\n",
       "      <td>427</td>\n",
       "    </tr>\n",
       "  </tbody>\n",
       "</table>\n",
       "<p>5 rows × 49 columns</p>\n",
       "</div>"
      ],
      "text/plain": [
       "   ID  MONTH         V1   V2   V3   V4   V5   V6       V7        V8 ...   \\\n",
       "0   1    3.5  38.186688  0.0  0.0  0.0  0.0  0.0  0.00000  0.000000 ...    \n",
       "1   2    3.5  52.967070  0.0  0.0  0.0  0.0  0.0  0.00000  0.000000 ...    \n",
       "2   3    5.0  64.008600  0.0  0.0  0.0  0.0  0.0  0.00000  0.000000 ...    \n",
       "3   4    3.5  40.591090  0.0  0.0  0.0  0.0  0.0  0.00000  1.232401 ...    \n",
       "4   5    3.5  44.626190  0.0  0.0  0.0  0.0  0.0  1.04841  0.000000 ...    \n",
       "\n",
       "     V38   V39    V40   V41       V42  TARGET  T1  T2   T3   T4  \n",
       "0  276.0   3.0  321.0   4.0   88252.0       2  19   1   63  669  \n",
       "1  252.0  30.0  230.0  11.5   29702.0       2  14   6  114   98  \n",
       "2   71.0   0.0   46.0   0.0   25857.0       1   5   1   63  669  \n",
       "3  280.0   2.5   71.5   3.5  647727.0       3   4   1  134  819  \n",
       "4  316.0   9.5  387.5  22.0   24175.0       3  13   4  101  427  \n",
       "\n",
       "[5 rows x 49 columns]"
      ]
     },
     "execution_count": 99,
     "metadata": {},
     "output_type": "execute_result"
    }
   ],
   "source": [
    "data.head()"
   ]
  },
  {
   "cell_type": "markdown",
   "metadata": {},
   "source": [
    "#### Промежуточное сохранение данных в файл"
   ]
  },
  {
   "cell_type": "code",
   "execution_count": 100,
   "metadata": {},
   "outputs": [],
   "source": [
    "data.to_csv('Kyivstar.csv')"
   ]
  },
  {
   "cell_type": "markdown",
   "metadata": {},
   "source": [
    "#### Опять обучаем модель но уже  у нас в данных и b1 и b2"
   ]
  },
  {
   "cell_type": "code",
   "execution_count": 101,
   "metadata": {},
   "outputs": [],
   "source": [
    "data1 = data.drop(['MONTH', 'ID', 'TARGET'], axis=1)"
   ]
  },
  {
   "cell_type": "code",
   "execution_count": 102,
   "metadata": {},
   "outputs": [
    {
     "data": {
      "text/plain": [
       "0.4038866396761134"
      ]
     },
     "execution_count": 102,
     "metadata": {},
     "output_type": "execute_result"
    }
   ],
   "source": [
    "get_accuracy(rf, data1.values, target.values) "
   ]
  },
  {
   "cell_type": "markdown",
   "metadata": {},
   "source": [
    "#### Опять точность невысокая\n",
    "#### Пробуем другие алгоритмы"
   ]
  },
  {
   "cell_type": "markdown",
   "metadata": {},
   "source": [
    "#### using feature selection: стандартизируем значения"
   ]
  },
  {
   "cell_type": "code",
   "execution_count": 103,
   "metadata": {},
   "outputs": [],
   "source": [
    "from sklearn.preprocessing import StandardScaler"
   ]
  },
  {
   "cell_type": "code",
   "execution_count": 104,
   "metadata": {},
   "outputs": [
    {
     "name": "stderr",
     "output_type": "stream",
     "text": [
      "/home/topic/anaconda3/lib/python3.6/site-packages/sklearn/preprocessing/data.py:617: DataConversionWarning: Data with input dtype int64, float64 were all converted to float64 by StandardScaler.\n",
      "  return self.partial_fit(X, y)\n",
      "/home/topic/anaconda3/lib/python3.6/site-packages/sklearn/base.py:462: DataConversionWarning: Data with input dtype int64, float64 were all converted to float64 by StandardScaler.\n",
      "  return self.fit(X, **fit_params).transform(X)\n"
     ]
    }
   ],
   "source": [
    "data1 = StandardScaler().fit_transform(data1)"
   ]
  },
  {
   "cell_type": "markdown",
   "metadata": {},
   "source": [
    "##### Следующий метод обработки признаков, который будет удалять значения(столбцы) со стандартным отклонением  меньшим чем treshold, поэксперементируем с разными значениями treshold"
   ]
  },
  {
   "cell_type": "code",
   "execution_count": 105,
   "metadata": {},
   "outputs": [
    {
     "data": {
      "text/plain": [
       "0.4048582995951417"
      ]
     },
     "execution_count": 105,
     "metadata": {},
     "output_type": "execute_result"
    }
   ],
   "source": [
    "get_accuracy(rf, data1, target.values)"
   ]
  },
  {
   "cell_type": "code",
   "execution_count": 106,
   "metadata": {},
   "outputs": [
    {
     "data": {
      "text/plain": [
       "(6175, 46)"
      ]
     },
     "execution_count": 106,
     "metadata": {},
     "output_type": "execute_result"
    }
   ],
   "source": [
    "from sklearn.feature_selection import VarianceThreshold\n",
    "data1.shape"
   ]
  },
  {
   "cell_type": "code",
   "execution_count": 107,
   "metadata": {
    "scrolled": false
   },
   "outputs": [
    {
     "data": {
      "text/plain": [
       "(6175, 45)"
      ]
     },
     "execution_count": 107,
     "metadata": {},
     "output_type": "execute_result"
    }
   ],
   "source": [
    "VarianceThreshold(threshold=0.1).fit_transform(data1).shape"
   ]
  },
  {
   "cell_type": "markdown",
   "metadata": {},
   "source": [
    "#### 2:16"
   ]
  },
  {
   "cell_type": "code",
   "execution_count": 110,
   "metadata": {},
   "outputs": [
    {
     "data": {
      "text/plain": [
       "(6175, 45)"
      ]
     },
     "execution_count": 110,
     "metadata": {},
     "output_type": "execute_result"
    }
   ],
   "source": [
    "VarianceThreshold(threshold=0.5).fit_transform(data1).shape"
   ]
  },
  {
   "cell_type": "code",
   "execution_count": 111,
   "metadata": {},
   "outputs": [
    {
     "data": {
      "text/plain": [
       "(6175, 15)"
      ]
     },
     "execution_count": 111,
     "metadata": {},
     "output_type": "execute_result"
    }
   ],
   "source": [
    "VarianceThreshold(threshold=1).fit_transform(data1).shape"
   ]
  },
  {
   "cell_type": "markdown",
   "metadata": {},
   "source": [
    "#### Вроде бы хорошо, удалились вроде бы незначимые столбцы, но надо проверить помогло ли это"
   ]
  },
  {
   "cell_type": "code",
   "execution_count": 115,
   "metadata": {},
   "outputs": [],
   "source": [
    "data2=VarianceThreshold(threshold=1).fit_transform(data1)"
   ]
  },
  {
   "cell_type": "code",
   "execution_count": 125,
   "metadata": {},
   "outputs": [
    {
     "data": {
      "text/plain": [
       "0.3719838056680162"
      ]
     },
     "execution_count": 125,
     "metadata": {},
     "output_type": "execute_result"
    }
   ],
   "source": [
    "get_accuracy(rf, data2, target.values)"
   ]
  },
  {
   "cell_type": "markdown",
   "metadata": {},
   "source": [
    "#### Как видим результат стал еще хуже.... значит удаление 31 стобца было очень грубым дейстивем. Удалим только один\n",
    "#### threshold=0.1"
   ]
  },
  {
   "cell_type": "code",
   "execution_count": 126,
   "metadata": {},
   "outputs": [],
   "source": [
    "data2=VarianceThreshold(threshold=0.1).fit_transform(data1)"
   ]
  },
  {
   "cell_type": "code",
   "execution_count": 127,
   "metadata": {
    "scrolled": true
   },
   "outputs": [
    {
     "data": {
      "text/plain": [
       "0.39951417004048584"
      ]
     },
     "execution_count": 127,
     "metadata": {},
     "output_type": "execute_result"
    }
   ],
   "source": [
    "get_accuracy(rf, data2, target.values)"
   ]
  },
  {
   "cell_type": "code",
   "execution_count": 129,
   "metadata": {},
   "outputs": [],
   "source": [
    "from sklearn.feature_selection import SelectKBest, chi2"
   ]
  },
  {
   "cell_type": "code",
   "execution_count": 130,
   "metadata": {},
   "outputs": [
    {
     "ename": "ValueError",
     "evalue": "Input X must be non-negative.",
     "output_type": "error",
     "traceback": [
      "\u001b[0;31m---------------------------------------------------------------------------\u001b[0m",
      "\u001b[0;31mValueError\u001b[0m                                Traceback (most recent call last)",
      "\u001b[0;32m<ipython-input-130-d28fc8e7019f>\u001b[0m in \u001b[0;36m<module>\u001b[0;34m\u001b[0m\n\u001b[0;32m----> 1\u001b[0;31m \u001b[0mdata3\u001b[0m \u001b[0;34m=\u001b[0m \u001b[0mSelectKBest\u001b[0m\u001b[0;34m(\u001b[0m\u001b[0mchi2\u001b[0m\u001b[0;34m,\u001b[0m \u001b[0mk\u001b[0m\u001b[0;34m=\u001b[0m\u001b[0;36m20\u001b[0m\u001b[0;34m)\u001b[0m\u001b[0;34m.\u001b[0m\u001b[0mfit_transform\u001b[0m\u001b[0;34m(\u001b[0m\u001b[0mdata2\u001b[0m\u001b[0;34m,\u001b[0m \u001b[0mtarget\u001b[0m\u001b[0;34m)\u001b[0m\u001b[0;34m\u001b[0m\u001b[0m\n\u001b[0m",
      "\u001b[0;32m~/anaconda3/lib/python3.6/site-packages/sklearn/base.py\u001b[0m in \u001b[0;36mfit_transform\u001b[0;34m(self, X, y, **fit_params)\u001b[0m\n\u001b[1;32m    463\u001b[0m         \u001b[0;32melse\u001b[0m\u001b[0;34m:\u001b[0m\u001b[0;34m\u001b[0m\u001b[0m\n\u001b[1;32m    464\u001b[0m             \u001b[0;31m# fit method of arity 2 (supervised transformation)\u001b[0m\u001b[0;34m\u001b[0m\u001b[0;34m\u001b[0m\u001b[0m\n\u001b[0;32m--> 465\u001b[0;31m             \u001b[0;32mreturn\u001b[0m \u001b[0mself\u001b[0m\u001b[0;34m.\u001b[0m\u001b[0mfit\u001b[0m\u001b[0;34m(\u001b[0m\u001b[0mX\u001b[0m\u001b[0;34m,\u001b[0m \u001b[0my\u001b[0m\u001b[0;34m,\u001b[0m \u001b[0;34m**\u001b[0m\u001b[0mfit_params\u001b[0m\u001b[0;34m)\u001b[0m\u001b[0;34m.\u001b[0m\u001b[0mtransform\u001b[0m\u001b[0;34m(\u001b[0m\u001b[0mX\u001b[0m\u001b[0;34m)\u001b[0m\u001b[0;34m\u001b[0m\u001b[0m\n\u001b[0m\u001b[1;32m    466\u001b[0m \u001b[0;34m\u001b[0m\u001b[0m\n\u001b[1;32m    467\u001b[0m \u001b[0;34m\u001b[0m\u001b[0m\n",
      "\u001b[0;32m~/anaconda3/lib/python3.6/site-packages/sklearn/feature_selection/univariate_selection.py\u001b[0m in \u001b[0;36mfit\u001b[0;34m(self, X, y)\u001b[0m\n\u001b[1;32m    347\u001b[0m \u001b[0;34m\u001b[0m\u001b[0m\n\u001b[1;32m    348\u001b[0m         \u001b[0mself\u001b[0m\u001b[0;34m.\u001b[0m\u001b[0m_check_params\u001b[0m\u001b[0;34m(\u001b[0m\u001b[0mX\u001b[0m\u001b[0;34m,\u001b[0m \u001b[0my\u001b[0m\u001b[0;34m)\u001b[0m\u001b[0;34m\u001b[0m\u001b[0m\n\u001b[0;32m--> 349\u001b[0;31m         \u001b[0mscore_func_ret\u001b[0m \u001b[0;34m=\u001b[0m \u001b[0mself\u001b[0m\u001b[0;34m.\u001b[0m\u001b[0mscore_func\u001b[0m\u001b[0;34m(\u001b[0m\u001b[0mX\u001b[0m\u001b[0;34m,\u001b[0m \u001b[0my\u001b[0m\u001b[0;34m)\u001b[0m\u001b[0;34m\u001b[0m\u001b[0m\n\u001b[0m\u001b[1;32m    350\u001b[0m         \u001b[0;32mif\u001b[0m \u001b[0misinstance\u001b[0m\u001b[0;34m(\u001b[0m\u001b[0mscore_func_ret\u001b[0m\u001b[0;34m,\u001b[0m \u001b[0;34m(\u001b[0m\u001b[0mlist\u001b[0m\u001b[0;34m,\u001b[0m \u001b[0mtuple\u001b[0m\u001b[0;34m)\u001b[0m\u001b[0;34m)\u001b[0m\u001b[0;34m:\u001b[0m\u001b[0;34m\u001b[0m\u001b[0m\n\u001b[1;32m    351\u001b[0m             \u001b[0mself\u001b[0m\u001b[0;34m.\u001b[0m\u001b[0mscores_\u001b[0m\u001b[0;34m,\u001b[0m \u001b[0mself\u001b[0m\u001b[0;34m.\u001b[0m\u001b[0mpvalues_\u001b[0m \u001b[0;34m=\u001b[0m \u001b[0mscore_func_ret\u001b[0m\u001b[0;34m\u001b[0m\u001b[0m\n",
      "\u001b[0;32m~/anaconda3/lib/python3.6/site-packages/sklearn/feature_selection/univariate_selection.py\u001b[0m in \u001b[0;36mchi2\u001b[0;34m(X, y)\u001b[0m\n\u001b[1;32m    214\u001b[0m     \u001b[0mX\u001b[0m \u001b[0;34m=\u001b[0m \u001b[0mcheck_array\u001b[0m\u001b[0;34m(\u001b[0m\u001b[0mX\u001b[0m\u001b[0;34m,\u001b[0m \u001b[0maccept_sparse\u001b[0m\u001b[0;34m=\u001b[0m\u001b[0;34m'csr'\u001b[0m\u001b[0;34m)\u001b[0m\u001b[0;34m\u001b[0m\u001b[0m\n\u001b[1;32m    215\u001b[0m     \u001b[0;32mif\u001b[0m \u001b[0mnp\u001b[0m\u001b[0;34m.\u001b[0m\u001b[0many\u001b[0m\u001b[0;34m(\u001b[0m\u001b[0;34m(\u001b[0m\u001b[0mX\u001b[0m\u001b[0;34m.\u001b[0m\u001b[0mdata\u001b[0m \u001b[0;32mif\u001b[0m \u001b[0missparse\u001b[0m\u001b[0;34m(\u001b[0m\u001b[0mX\u001b[0m\u001b[0;34m)\u001b[0m \u001b[0;32melse\u001b[0m \u001b[0mX\u001b[0m\u001b[0;34m)\u001b[0m \u001b[0;34m<\u001b[0m \u001b[0;36m0\u001b[0m\u001b[0;34m)\u001b[0m\u001b[0;34m:\u001b[0m\u001b[0;34m\u001b[0m\u001b[0m\n\u001b[0;32m--> 216\u001b[0;31m         \u001b[0;32mraise\u001b[0m \u001b[0mValueError\u001b[0m\u001b[0;34m(\u001b[0m\u001b[0;34m\"Input X must be non-negative.\"\u001b[0m\u001b[0;34m)\u001b[0m\u001b[0;34m\u001b[0m\u001b[0m\n\u001b[0m\u001b[1;32m    217\u001b[0m \u001b[0;34m\u001b[0m\u001b[0m\n\u001b[1;32m    218\u001b[0m     \u001b[0mY\u001b[0m \u001b[0;34m=\u001b[0m \u001b[0mLabelBinarizer\u001b[0m\u001b[0;34m(\u001b[0m\u001b[0;34m)\u001b[0m\u001b[0;34m.\u001b[0m\u001b[0mfit_transform\u001b[0m\u001b[0;34m(\u001b[0m\u001b[0my\u001b[0m\u001b[0;34m)\u001b[0m\u001b[0;34m\u001b[0m\u001b[0m\n",
      "\u001b[0;31mValueError\u001b[0m: Input X must be non-negative."
     ]
    }
   ],
   "source": [
    "data3 = SelectKBest(chi2, k=20).fit_transform(data2, target)"
   ]
  },
  {
   "cell_type": "markdown",
   "metadata": {},
   "source": [
    "#### Исправляем ошибку"
   ]
  },
  {
   "cell_type": "code",
   "execution_count": 132,
   "metadata": {},
   "outputs": [],
   "source": [
    "from sklearn.preprocessing import MinMaxScaler "
   ]
  },
  {
   "cell_type": "code",
   "execution_count": 133,
   "metadata": {},
   "outputs": [],
   "source": [
    "data2 = MinMaxScaler().fit_transform(data2)"
   ]
  },
  {
   "cell_type": "code",
   "execution_count": 134,
   "metadata": {},
   "outputs": [],
   "source": [
    "data3 = SelectKBest(chi2, k=20).fit_transform(data2, target)"
   ]
  },
  {
   "cell_type": "code",
   "execution_count": 136,
   "metadata": {},
   "outputs": [
    {
     "data": {
      "text/plain": [
       "(6175, 20)"
      ]
     },
     "execution_count": 136,
     "metadata": {},
     "output_type": "execute_result"
    }
   ],
   "source": [
    "data3.shape"
   ]
  },
  {
   "cell_type": "code",
   "execution_count": 137,
   "metadata": {},
   "outputs": [
    {
     "data": {
      "text/plain": [
       "0.39854251012145747"
      ]
     },
     "execution_count": 137,
     "metadata": {},
     "output_type": "execute_result"
    }
   ],
   "source": [
    "get_accuracy(rf, data3, target.values)"
   ]
  },
  {
   "cell_type": "markdown",
   "metadata": {},
   "source": [
    "##### Особо лучше не стало. Посмотрим на качество признаков"
   ]
  },
  {
   "cell_type": "code",
   "execution_count": 139,
   "metadata": {},
   "outputs": [],
   "source": [
    "skb=SelectKBest(chi2, k=20)"
   ]
  },
  {
   "cell_type": "code",
   "execution_count": 140,
   "metadata": {},
   "outputs": [
    {
     "data": {
      "text/plain": [
       "SelectKBest(k=20, score_func=<function chi2 at 0x7f13da97bea0>)"
      ]
     },
     "execution_count": 140,
     "metadata": {},
     "output_type": "execute_result"
    }
   ],
   "source": [
    "skb.fit(data2, target)"
   ]
  },
  {
   "cell_type": "code",
   "execution_count": 141,
   "metadata": {},
   "outputs": [
    {
     "data": {
      "text/plain": [
       "array([ 11.2821632 ,   1.62430939,   0.63017704,   1.46533016,\n",
       "         3.13211421,   1.7212458 ,   8.98881851,   1.35313141,\n",
       "         5.51371308,   4.65443996,   1.62430939,   3.20690607,\n",
       "         1.22042184,   9.20177065,   0.48037816,   6.27913482,\n",
       "         1.03560132,   1.06475963,   2.08302104,   1.24189973,\n",
       "         2.96439948,   1.83522295,  67.21535353, 127.02274716,\n",
       "        36.91734002,   1.27566079,  73.68042471,   1.25449645,\n",
       "         0.1735877 ,   4.4332641 ,   1.81731323,   1.62717566,\n",
       "         9.90763894,   1.18039434,  13.96709462,  16.39963264,\n",
       "         3.07947628,  16.62427143,   5.49427309,  24.89407344,\n",
       "       117.24183766,   0.60287746,   0.13427127,   0.70890497,\n",
       "         0.98288277])"
      ]
     },
     "execution_count": 141,
     "metadata": {},
     "output_type": "execute_result"
    }
   ],
   "source": [
    "skb.scores_"
   ]
  },
  {
   "cell_type": "markdown",
   "metadata": {},
   "source": [
    "#### 4 последних это наши  категории из b2 и у них низкое качество(маленикие значения). Пробуем взять 6 сильных признаков"
   ]
  },
  {
   "cell_type": "code",
   "execution_count": 143,
   "metadata": {},
   "outputs": [],
   "source": [
    "data3 = SelectKBest(chi2, k=6).fit_transform(data2, target)"
   ]
  },
  {
   "cell_type": "code",
   "execution_count": 144,
   "metadata": {},
   "outputs": [
    {
     "data": {
      "text/plain": [
       "0.3748987854251012"
      ]
     },
     "execution_count": 144,
     "metadata": {},
     "output_type": "execute_result"
    }
   ],
   "source": [
    "get_accuracy(rf, data3, target.values)"
   ]
  },
  {
   "cell_type": "markdown",
   "metadata": {},
   "source": [
    "###### однако результат тот же. Возможно опять ошибка в гипотезе в самом начале что делать NaN значениями....\n",
    "##### просто смотрим данные. Итересный столбец V42"
   ]
  },
  {
   "cell_type": "code",
   "execution_count": 146,
   "metadata": {},
   "outputs": [
    {
     "data": {
      "text/html": [
       "<div>\n",
       "<style scoped>\n",
       "    .dataframe tbody tr th:only-of-type {\n",
       "        vertical-align: middle;\n",
       "    }\n",
       "\n",
       "    .dataframe tbody tr th {\n",
       "        vertical-align: top;\n",
       "    }\n",
       "\n",
       "    .dataframe thead th {\n",
       "        text-align: right;\n",
       "    }\n",
       "</style>\n",
       "<table border=\"1\" class=\"dataframe\">\n",
       "  <thead>\n",
       "    <tr style=\"text-align: right;\">\n",
       "      <th></th>\n",
       "      <th>ID</th>\n",
       "      <th>MONTH</th>\n",
       "      <th>V1</th>\n",
       "      <th>V2</th>\n",
       "      <th>V3</th>\n",
       "      <th>V4</th>\n",
       "      <th>V5</th>\n",
       "      <th>V6</th>\n",
       "      <th>V7</th>\n",
       "      <th>V8</th>\n",
       "      <th>...</th>\n",
       "      <th>V33</th>\n",
       "      <th>V34</th>\n",
       "      <th>V35</th>\n",
       "      <th>V36</th>\n",
       "      <th>V37</th>\n",
       "      <th>V38</th>\n",
       "      <th>V39</th>\n",
       "      <th>V40</th>\n",
       "      <th>V41</th>\n",
       "      <th>V42</th>\n",
       "    </tr>\n",
       "  </thead>\n",
       "  <tbody>\n",
       "    <tr>\n",
       "      <th>10421</th>\n",
       "      <td>1</td>\n",
       "      <td>6</td>\n",
       "      <td>43.234319</td>\n",
       "      <td>0.0</td>\n",
       "      <td>0.0</td>\n",
       "      <td>0.0</td>\n",
       "      <td>0.0</td>\n",
       "      <td>0.0</td>\n",
       "      <td>0.0</td>\n",
       "      <td>20.294442</td>\n",
       "      <td>...</td>\n",
       "      <td>0.0</td>\n",
       "      <td>0.0</td>\n",
       "      <td>623.263225</td>\n",
       "      <td>14.613760</td>\n",
       "      <td>3.254845</td>\n",
       "      <td>269.0</td>\n",
       "      <td>5.0</td>\n",
       "      <td>NaN</td>\n",
       "      <td>4.0</td>\n",
       "      <td>88252.0</td>\n",
       "    </tr>\n",
       "    <tr>\n",
       "      <th>10422</th>\n",
       "      <td>1</td>\n",
       "      <td>5</td>\n",
       "      <td>22.760980</td>\n",
       "      <td>0.0</td>\n",
       "      <td>0.0</td>\n",
       "      <td>0.0</td>\n",
       "      <td>0.0</td>\n",
       "      <td>0.0</td>\n",
       "      <td>0.0</td>\n",
       "      <td>0.000000</td>\n",
       "      <td>...</td>\n",
       "      <td>0.0</td>\n",
       "      <td>0.0</td>\n",
       "      <td>708.553227</td>\n",
       "      <td>0.000000</td>\n",
       "      <td>6.401437</td>\n",
       "      <td>266.0</td>\n",
       "      <td>NaN</td>\n",
       "      <td>418.0</td>\n",
       "      <td>2.0</td>\n",
       "      <td>88252.0</td>\n",
       "    </tr>\n",
       "    <tr>\n",
       "      <th>10423</th>\n",
       "      <td>1</td>\n",
       "      <td>4</td>\n",
       "      <td>33.067696</td>\n",
       "      <td>0.0</td>\n",
       "      <td>0.0</td>\n",
       "      <td>0.0</td>\n",
       "      <td>0.0</td>\n",
       "      <td>0.0</td>\n",
       "      <td>0.0</td>\n",
       "      <td>8.472371</td>\n",
       "      <td>...</td>\n",
       "      <td>0.0</td>\n",
       "      <td>0.0</td>\n",
       "      <td>752.109138</td>\n",
       "      <td>2.139250</td>\n",
       "      <td>6.020389</td>\n",
       "      <td>283.0</td>\n",
       "      <td>2.0</td>\n",
       "      <td>NaN</td>\n",
       "      <td>5.0</td>\n",
       "      <td>88252.0</td>\n",
       "    </tr>\n",
       "    <tr>\n",
       "      <th>10424</th>\n",
       "      <td>1</td>\n",
       "      <td>3</td>\n",
       "      <td>38.186688</td>\n",
       "      <td>0.0</td>\n",
       "      <td>0.0</td>\n",
       "      <td>0.0</td>\n",
       "      <td>0.0</td>\n",
       "      <td>0.0</td>\n",
       "      <td>0.0</td>\n",
       "      <td>0.000000</td>\n",
       "      <td>...</td>\n",
       "      <td>0.0</td>\n",
       "      <td>0.0</td>\n",
       "      <td>539.262576</td>\n",
       "      <td>12.560145</td>\n",
       "      <td>22.561716</td>\n",
       "      <td>263.0</td>\n",
       "      <td>3.0</td>\n",
       "      <td>NaN</td>\n",
       "      <td>5.0</td>\n",
       "      <td>88252.0</td>\n",
       "    </tr>\n",
       "    <tr>\n",
       "      <th>10425</th>\n",
       "      <td>1</td>\n",
       "      <td>2</td>\n",
       "      <td>NaN</td>\n",
       "      <td>0.0</td>\n",
       "      <td>0.0</td>\n",
       "      <td>0.0</td>\n",
       "      <td>0.0</td>\n",
       "      <td>NaN</td>\n",
       "      <td>0.0</td>\n",
       "      <td>0.000000</td>\n",
       "      <td>...</td>\n",
       "      <td>0.0</td>\n",
       "      <td>0.0</td>\n",
       "      <td>588.092776</td>\n",
       "      <td>1.529527</td>\n",
       "      <td>7.283923</td>\n",
       "      <td>297.0</td>\n",
       "      <td>2.0</td>\n",
       "      <td>244.0</td>\n",
       "      <td>NaN</td>\n",
       "      <td>88252.0</td>\n",
       "    </tr>\n",
       "    <tr>\n",
       "      <th>10426</th>\n",
       "      <td>1</td>\n",
       "      <td>1</td>\n",
       "      <td>51.519784</td>\n",
       "      <td>0.0</td>\n",
       "      <td>0.0</td>\n",
       "      <td>NaN</td>\n",
       "      <td>0.0</td>\n",
       "      <td>0.0</td>\n",
       "      <td>0.0</td>\n",
       "      <td>0.000000</td>\n",
       "      <td>...</td>\n",
       "      <td>0.0</td>\n",
       "      <td>0.0</td>\n",
       "      <td>684.557793</td>\n",
       "      <td>12.357766</td>\n",
       "      <td>1.334402</td>\n",
       "      <td>286.0</td>\n",
       "      <td>3.0</td>\n",
       "      <td>321.0</td>\n",
       "      <td>1.0</td>\n",
       "      <td>88252.0</td>\n",
       "    </tr>\n",
       "  </tbody>\n",
       "</table>\n",
       "<p>6 rows × 44 columns</p>\n",
       "</div>"
      ],
      "text/plain": [
       "       ID  MONTH         V1   V2   V3   V4   V5   V6   V7         V8   ...     \\\n",
       "10421   1      6  43.234319  0.0  0.0  0.0  0.0  0.0  0.0  20.294442   ...      \n",
       "10422   1      5  22.760980  0.0  0.0  0.0  0.0  0.0  0.0   0.000000   ...      \n",
       "10423   1      4  33.067696  0.0  0.0  0.0  0.0  0.0  0.0   8.472371   ...      \n",
       "10424   1      3  38.186688  0.0  0.0  0.0  0.0  0.0  0.0   0.000000   ...      \n",
       "10425   1      2        NaN  0.0  0.0  0.0  0.0  NaN  0.0   0.000000   ...      \n",
       "10426   1      1  51.519784  0.0  0.0  NaN  0.0  0.0  0.0   0.000000   ...      \n",
       "\n",
       "       V33  V34         V35        V36        V37    V38  V39    V40  V41  \\\n",
       "10421  0.0  0.0  623.263225  14.613760   3.254845  269.0  5.0    NaN  4.0   \n",
       "10422  0.0  0.0  708.553227   0.000000   6.401437  266.0  NaN  418.0  2.0   \n",
       "10423  0.0  0.0  752.109138   2.139250   6.020389  283.0  2.0    NaN  5.0   \n",
       "10424  0.0  0.0  539.262576  12.560145  22.561716  263.0  3.0    NaN  5.0   \n",
       "10425  0.0  0.0  588.092776   1.529527   7.283923  297.0  2.0  244.0  NaN   \n",
       "10426  0.0  0.0  684.557793  12.357766   1.334402  286.0  3.0  321.0  1.0   \n",
       "\n",
       "           V42  \n",
       "10421  88252.0  \n",
       "10422  88252.0  \n",
       "10423  88252.0  \n",
       "10424  88252.0  \n",
       "10425  88252.0  \n",
       "10426  88252.0  \n",
       "\n",
       "[6 rows x 44 columns]"
      ]
     },
     "execution_count": 146,
     "metadata": {},
     "output_type": "execute_result"
    }
   ],
   "source": [
    "b1[b1.ID==1]"
   ]
  },
  {
   "cell_type": "code",
   "execution_count": 147,
   "metadata": {},
   "outputs": [
    {
     "data": {
      "text/html": [
       "<div>\n",
       "<style scoped>\n",
       "    .dataframe tbody tr th:only-of-type {\n",
       "        vertical-align: middle;\n",
       "    }\n",
       "\n",
       "    .dataframe tbody tr th {\n",
       "        vertical-align: top;\n",
       "    }\n",
       "\n",
       "    .dataframe thead th {\n",
       "        text-align: right;\n",
       "    }\n",
       "</style>\n",
       "<table border=\"1\" class=\"dataframe\">\n",
       "  <thead>\n",
       "    <tr style=\"text-align: right;\">\n",
       "      <th></th>\n",
       "      <th>ID</th>\n",
       "      <th>MONTH</th>\n",
       "      <th>V1</th>\n",
       "      <th>V2</th>\n",
       "      <th>V3</th>\n",
       "      <th>V4</th>\n",
       "      <th>V5</th>\n",
       "      <th>V6</th>\n",
       "      <th>V7</th>\n",
       "      <th>V8</th>\n",
       "      <th>...</th>\n",
       "      <th>V33</th>\n",
       "      <th>V34</th>\n",
       "      <th>V35</th>\n",
       "      <th>V36</th>\n",
       "      <th>V37</th>\n",
       "      <th>V38</th>\n",
       "      <th>V39</th>\n",
       "      <th>V40</th>\n",
       "      <th>V41</th>\n",
       "      <th>V42</th>\n",
       "    </tr>\n",
       "  </thead>\n",
       "  <tbody>\n",
       "    <tr>\n",
       "      <th>31255</th>\n",
       "      <td>2</td>\n",
       "      <td>6</td>\n",
       "      <td>88.594308</td>\n",
       "      <td>0.0</td>\n",
       "      <td>0.0</td>\n",
       "      <td>0.0</td>\n",
       "      <td>0.0</td>\n",
       "      <td>0.00000</td>\n",
       "      <td>0.00000</td>\n",
       "      <td>0.00000</td>\n",
       "      <td>...</td>\n",
       "      <td>0.0</td>\n",
       "      <td>0.0</td>\n",
       "      <td>1048.617045</td>\n",
       "      <td>27.927579</td>\n",
       "      <td>68.570726</td>\n",
       "      <td>254.0</td>\n",
       "      <td>52.0</td>\n",
       "      <td>316.0</td>\n",
       "      <td>62.0</td>\n",
       "      <td>29702.0</td>\n",
       "    </tr>\n",
       "    <tr>\n",
       "      <th>31256</th>\n",
       "      <td>2</td>\n",
       "      <td>5</td>\n",
       "      <td>NaN</td>\n",
       "      <td>0.0</td>\n",
       "      <td>0.0</td>\n",
       "      <td>0.0</td>\n",
       "      <td>0.0</td>\n",
       "      <td>0.00000</td>\n",
       "      <td>NaN</td>\n",
       "      <td>0.00000</td>\n",
       "      <td>...</td>\n",
       "      <td>0.0</td>\n",
       "      <td>0.0</td>\n",
       "      <td>890.600840</td>\n",
       "      <td>15.210562</td>\n",
       "      <td>NaN</td>\n",
       "      <td>282.0</td>\n",
       "      <td>30.0</td>\n",
       "      <td>423.0</td>\n",
       "      <td>11.0</td>\n",
       "      <td>29702.0</td>\n",
       "    </tr>\n",
       "    <tr>\n",
       "      <th>31257</th>\n",
       "      <td>2</td>\n",
       "      <td>4</td>\n",
       "      <td>39.295075</td>\n",
       "      <td>0.0</td>\n",
       "      <td>0.0</td>\n",
       "      <td>NaN</td>\n",
       "      <td>0.0</td>\n",
       "      <td>0.00000</td>\n",
       "      <td>0.00000</td>\n",
       "      <td>1.96538</td>\n",
       "      <td>...</td>\n",
       "      <td>0.0</td>\n",
       "      <td>0.0</td>\n",
       "      <td>439.090892</td>\n",
       "      <td>11.646338</td>\n",
       "      <td>8.116336</td>\n",
       "      <td>235.0</td>\n",
       "      <td>NaN</td>\n",
       "      <td>223.0</td>\n",
       "      <td>12.0</td>\n",
       "      <td>29702.0</td>\n",
       "    </tr>\n",
       "    <tr>\n",
       "      <th>31258</th>\n",
       "      <td>2</td>\n",
       "      <td>3</td>\n",
       "      <td>52.967070</td>\n",
       "      <td>0.0</td>\n",
       "      <td>0.0</td>\n",
       "      <td>0.0</td>\n",
       "      <td>0.0</td>\n",
       "      <td>0.00000</td>\n",
       "      <td>1.02719</td>\n",
       "      <td>0.00000</td>\n",
       "      <td>...</td>\n",
       "      <td>1.0</td>\n",
       "      <td>NaN</td>\n",
       "      <td>1096.006019</td>\n",
       "      <td>NaN</td>\n",
       "      <td>3.623597</td>\n",
       "      <td>250.0</td>\n",
       "      <td>25.0</td>\n",
       "      <td>237.0</td>\n",
       "      <td>9.0</td>\n",
       "      <td>NaN</td>\n",
       "    </tr>\n",
       "    <tr>\n",
       "      <th>31259</th>\n",
       "      <td>2</td>\n",
       "      <td>2</td>\n",
       "      <td>70.549341</td>\n",
       "      <td>0.0</td>\n",
       "      <td>0.0</td>\n",
       "      <td>0.0</td>\n",
       "      <td>0.0</td>\n",
       "      <td>2.17712</td>\n",
       "      <td>7.16716</td>\n",
       "      <td>0.00000</td>\n",
       "      <td>...</td>\n",
       "      <td>14.0</td>\n",
       "      <td>0.0</td>\n",
       "      <td>987.356999</td>\n",
       "      <td>42.426289</td>\n",
       "      <td>40.329082</td>\n",
       "      <td>295.0</td>\n",
       "      <td>57.0</td>\n",
       "      <td>214.0</td>\n",
       "      <td>49.0</td>\n",
       "      <td>NaN</td>\n",
       "    </tr>\n",
       "    <tr>\n",
       "      <th>31260</th>\n",
       "      <td>2</td>\n",
       "      <td>1</td>\n",
       "      <td>11.769592</td>\n",
       "      <td>0.0</td>\n",
       "      <td>0.0</td>\n",
       "      <td>NaN</td>\n",
       "      <td>0.0</td>\n",
       "      <td>0.00000</td>\n",
       "      <td>0.00000</td>\n",
       "      <td>0.00000</td>\n",
       "      <td>...</td>\n",
       "      <td>0.0</td>\n",
       "      <td>0.0</td>\n",
       "      <td>11.177394</td>\n",
       "      <td>0.186332</td>\n",
       "      <td>1.342409</td>\n",
       "      <td>24.0</td>\n",
       "      <td>1.0</td>\n",
       "      <td>38.0</td>\n",
       "      <td>1.0</td>\n",
       "      <td>29702.0</td>\n",
       "    </tr>\n",
       "  </tbody>\n",
       "</table>\n",
       "<p>6 rows × 44 columns</p>\n",
       "</div>"
      ],
      "text/plain": [
       "       ID  MONTH         V1   V2   V3   V4   V5       V6       V7       V8  \\\n",
       "31255   2      6  88.594308  0.0  0.0  0.0  0.0  0.00000  0.00000  0.00000   \n",
       "31256   2      5        NaN  0.0  0.0  0.0  0.0  0.00000      NaN  0.00000   \n",
       "31257   2      4  39.295075  0.0  0.0  NaN  0.0  0.00000  0.00000  1.96538   \n",
       "31258   2      3  52.967070  0.0  0.0  0.0  0.0  0.00000  1.02719  0.00000   \n",
       "31259   2      2  70.549341  0.0  0.0  0.0  0.0  2.17712  7.16716  0.00000   \n",
       "31260   2      1  11.769592  0.0  0.0  NaN  0.0  0.00000  0.00000  0.00000   \n",
       "\n",
       "        ...      V33  V34          V35        V36        V37    V38   V39  \\\n",
       "31255   ...      0.0  0.0  1048.617045  27.927579  68.570726  254.0  52.0   \n",
       "31256   ...      0.0  0.0   890.600840  15.210562        NaN  282.0  30.0   \n",
       "31257   ...      0.0  0.0   439.090892  11.646338   8.116336  235.0   NaN   \n",
       "31258   ...      1.0  NaN  1096.006019        NaN   3.623597  250.0  25.0   \n",
       "31259   ...     14.0  0.0   987.356999  42.426289  40.329082  295.0  57.0   \n",
       "31260   ...      0.0  0.0    11.177394   0.186332   1.342409   24.0   1.0   \n",
       "\n",
       "         V40   V41      V42  \n",
       "31255  316.0  62.0  29702.0  \n",
       "31256  423.0  11.0  29702.0  \n",
       "31257  223.0  12.0  29702.0  \n",
       "31258  237.0   9.0      NaN  \n",
       "31259  214.0  49.0      NaN  \n",
       "31260   38.0   1.0  29702.0  \n",
       "\n",
       "[6 rows x 44 columns]"
      ]
     },
     "execution_count": 147,
     "metadata": {},
     "output_type": "execute_result"
    }
   ],
   "source": [
    "b1[b1.ID==2]"
   ]
  },
  {
   "cell_type": "markdown",
   "metadata": {},
   "source": [
    "##### По примеру Ореста удаляем колонки"
   ]
  },
  {
   "cell_type": "code",
   "execution_count": 150,
   "metadata": {},
   "outputs": [],
   "source": [
    "data1=data.drop([\"V1\",\"V7\",\"V12\",\"V16\",\"V17\",\"V20\",\"V22\",\"V23\",\"V24\",\"V26\",\"V27\",\"V28\",\"V33\",\"V42\"],axis=1)"
   ]
  },
  {
   "cell_type": "code",
   "execution_count": 151,
   "metadata": {},
   "outputs": [
    {
     "name": "stdout",
     "output_type": "stream",
     "text": [
      "<class 'pandas.core.frame.DataFrame'>\n",
      "Int64Index: 6175 entries, 0 to 6174\n",
      "Data columns (total 35 columns):\n",
      "ID        6175 non-null int64\n",
      "MONTH     6175 non-null float64\n",
      "V2        6175 non-null float64\n",
      "V3        6175 non-null float64\n",
      "V4        6175 non-null float64\n",
      "V5        6175 non-null float64\n",
      "V6        6175 non-null float64\n",
      "V8        6175 non-null float64\n",
      "V9        6175 non-null float64\n",
      "V10       6175 non-null float64\n",
      "V11       6175 non-null float64\n",
      "V13       6175 non-null float64\n",
      "V14       6175 non-null float64\n",
      "V15       6175 non-null float64\n",
      "V18       6175 non-null float64\n",
      "V19       6175 non-null float64\n",
      "V21       6175 non-null float64\n",
      "V25       6175 non-null float64\n",
      "V29       6175 non-null float64\n",
      "V30       6175 non-null float64\n",
      "V31       6175 non-null float64\n",
      "V32       6175 non-null float64\n",
      "V34       6175 non-null float64\n",
      "V35       6175 non-null float64\n",
      "V36       6175 non-null float64\n",
      "V37       6175 non-null float64\n",
      "V38       6175 non-null float64\n",
      "V39       6175 non-null float64\n",
      "V40       6175 non-null float64\n",
      "V41       6175 non-null float64\n",
      "TARGET    6175 non-null int64\n",
      "T1        6175 non-null int64\n",
      "T2        6175 non-null int64\n",
      "T3        6175 non-null int64\n",
      "T4        6175 non-null int64\n",
      "dtypes: float64(29), int64(6)\n",
      "memory usage: 1.9 MB\n"
     ]
    }
   ],
   "source": [
    "data1.info()"
   ]
  },
  {
   "cell_type": "code",
   "execution_count": 152,
   "metadata": {},
   "outputs": [],
   "source": [
    "data2 =data1.drop(['ID','TARGET','MONTH'],axis=1)"
   ]
  },
  {
   "cell_type": "code",
   "execution_count": 153,
   "metadata": {},
   "outputs": [
    {
     "name": "stdout",
     "output_type": "stream",
     "text": [
      "<class 'pandas.core.frame.DataFrame'>\n",
      "Int64Index: 6175 entries, 0 to 6174\n",
      "Data columns (total 32 columns):\n",
      "V2     6175 non-null float64\n",
      "V3     6175 non-null float64\n",
      "V4     6175 non-null float64\n",
      "V5     6175 non-null float64\n",
      "V6     6175 non-null float64\n",
      "V8     6175 non-null float64\n",
      "V9     6175 non-null float64\n",
      "V10    6175 non-null float64\n",
      "V11    6175 non-null float64\n",
      "V13    6175 non-null float64\n",
      "V14    6175 non-null float64\n",
      "V15    6175 non-null float64\n",
      "V18    6175 non-null float64\n",
      "V19    6175 non-null float64\n",
      "V21    6175 non-null float64\n",
      "V25    6175 non-null float64\n",
      "V29    6175 non-null float64\n",
      "V30    6175 non-null float64\n",
      "V31    6175 non-null float64\n",
      "V32    6175 non-null float64\n",
      "V34    6175 non-null float64\n",
      "V35    6175 non-null float64\n",
      "V36    6175 non-null float64\n",
      "V37    6175 non-null float64\n",
      "V38    6175 non-null float64\n",
      "V39    6175 non-null float64\n",
      "V40    6175 non-null float64\n",
      "V41    6175 non-null float64\n",
      "T1     6175 non-null int64\n",
      "T2     6175 non-null int64\n",
      "T3     6175 non-null int64\n",
      "T4     6175 non-null int64\n",
      "dtypes: float64(28), int64(4)\n",
      "memory usage: 1.7 MB\n"
     ]
    }
   ],
   "source": [
    "data2.info()"
   ]
  },
  {
   "cell_type": "code",
   "execution_count": 155,
   "metadata": {},
   "outputs": [
    {
     "data": {
      "text/plain": [
       "0.3906072874493927"
      ]
     },
     "execution_count": 155,
     "metadata": {},
     "output_type": "execute_result"
    }
   ],
   "source": [
    "get_accuracy(rf, data2.values, target.values)"
   ]
  },
  {
   "cell_type": "code",
   "execution_count": null,
   "metadata": {},
   "outputs": [],
   "source": [
    "##### Но результат прежний Конец 14 урока"
   ]
  }
 ],
 "metadata": {
  "kernelspec": {
   "display_name": "Python 3",
   "language": "python",
   "name": "python3"
  },
  "language_info": {
   "codemirror_mode": {
    "name": "ipython",
    "version": 3
   },
   "file_extension": ".py",
   "mimetype": "text/x-python",
   "name": "python",
   "nbconvert_exporter": "python",
   "pygments_lexer": "ipython3",
   "version": "3.6.6"
  }
 },
 "nbformat": 4,
 "nbformat_minor": 2
}
