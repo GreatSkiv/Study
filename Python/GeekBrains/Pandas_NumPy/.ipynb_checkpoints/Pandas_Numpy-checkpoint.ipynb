{
 "cells": [
  {
   "cell_type": "markdown",
   "metadata": {},
   "source": [
    "# Pandas"
   ]
  },
  {
   "cell_type": "code",
   "execution_count": 2,
   "metadata": {},
   "outputs": [],
   "source": [
    "import pandas as pd"
   ]
  },
  {
   "cell_type": "code",
   "execution_count": 3,
   "metadata": {},
   "outputs": [],
   "source": [
    "df = pd.DataFrame({'id':range(15),'char':['ab']*15})"
   ]
  },
  {
   "cell_type": "code",
   "execution_count": 4,
   "metadata": {},
   "outputs": [
    {
     "data": {
      "text/html": [
       "<div>\n",
       "<style scoped>\n",
       "    .dataframe tbody tr th:only-of-type {\n",
       "        vertical-align: middle;\n",
       "    }\n",
       "\n",
       "    .dataframe tbody tr th {\n",
       "        vertical-align: top;\n",
       "    }\n",
       "\n",
       "    .dataframe thead th {\n",
       "        text-align: right;\n",
       "    }\n",
       "</style>\n",
       "<table border=\"1\" class=\"dataframe\">\n",
       "  <thead>\n",
       "    <tr style=\"text-align: right;\">\n",
       "      <th></th>\n",
       "      <th>id</th>\n",
       "      <th>char</th>\n",
       "    </tr>\n",
       "  </thead>\n",
       "  <tbody>\n",
       "    <tr>\n",
       "      <th>0</th>\n",
       "      <td>0</td>\n",
       "      <td>ab</td>\n",
       "    </tr>\n",
       "    <tr>\n",
       "      <th>1</th>\n",
       "      <td>1</td>\n",
       "      <td>ab</td>\n",
       "    </tr>\n",
       "    <tr>\n",
       "      <th>2</th>\n",
       "      <td>2</td>\n",
       "      <td>ab</td>\n",
       "    </tr>\n",
       "    <tr>\n",
       "      <th>3</th>\n",
       "      <td>3</td>\n",
       "      <td>ab</td>\n",
       "    </tr>\n",
       "    <tr>\n",
       "      <th>4</th>\n",
       "      <td>4</td>\n",
       "      <td>ab</td>\n",
       "    </tr>\n",
       "    <tr>\n",
       "      <th>5</th>\n",
       "      <td>5</td>\n",
       "      <td>ab</td>\n",
       "    </tr>\n",
       "    <tr>\n",
       "      <th>6</th>\n",
       "      <td>6</td>\n",
       "      <td>ab</td>\n",
       "    </tr>\n",
       "    <tr>\n",
       "      <th>7</th>\n",
       "      <td>7</td>\n",
       "      <td>ab</td>\n",
       "    </tr>\n",
       "    <tr>\n",
       "      <th>8</th>\n",
       "      <td>8</td>\n",
       "      <td>ab</td>\n",
       "    </tr>\n",
       "    <tr>\n",
       "      <th>9</th>\n",
       "      <td>9</td>\n",
       "      <td>ab</td>\n",
       "    </tr>\n",
       "    <tr>\n",
       "      <th>10</th>\n",
       "      <td>10</td>\n",
       "      <td>ab</td>\n",
       "    </tr>\n",
       "    <tr>\n",
       "      <th>11</th>\n",
       "      <td>11</td>\n",
       "      <td>ab</td>\n",
       "    </tr>\n",
       "    <tr>\n",
       "      <th>12</th>\n",
       "      <td>12</td>\n",
       "      <td>ab</td>\n",
       "    </tr>\n",
       "    <tr>\n",
       "      <th>13</th>\n",
       "      <td>13</td>\n",
       "      <td>ab</td>\n",
       "    </tr>\n",
       "    <tr>\n",
       "      <th>14</th>\n",
       "      <td>14</td>\n",
       "      <td>ab</td>\n",
       "    </tr>\n",
       "  </tbody>\n",
       "</table>\n",
       "</div>"
      ],
      "text/plain": [
       "    id char\n",
       "0    0   ab\n",
       "1    1   ab\n",
       "2    2   ab\n",
       "3    3   ab\n",
       "4    4   ab\n",
       "5    5   ab\n",
       "6    6   ab\n",
       "7    7   ab\n",
       "8    8   ab\n",
       "9    9   ab\n",
       "10  10   ab\n",
       "11  11   ab\n",
       "12  12   ab\n",
       "13  13   ab\n",
       "14  14   ab"
      ]
     },
     "execution_count": 4,
     "metadata": {},
     "output_type": "execute_result"
    }
   ],
   "source": [
    "df"
   ]
  },
  {
   "cell_type": "code",
   "execution_count": 5,
   "metadata": {},
   "outputs": [],
   "source": [
    "df= pd.read_csv('./TestData.csv',header=0) # 0-string -header"
   ]
  },
  {
   "cell_type": "code",
   "execution_count": 6,
   "metadata": {},
   "outputs": [
    {
     "data": {
      "text/html": [
       "<div>\n",
       "<style scoped>\n",
       "    .dataframe tbody tr th:only-of-type {\n",
       "        vertical-align: middle;\n",
       "    }\n",
       "\n",
       "    .dataframe tbody tr th {\n",
       "        vertical-align: top;\n",
       "    }\n",
       "\n",
       "    .dataframe thead th {\n",
       "        text-align: right;\n",
       "    }\n",
       "</style>\n",
       "<table border=\"1\" class=\"dataframe\">\n",
       "  <thead>\n",
       "    <tr style=\"text-align: right;\">\n",
       "      <th></th>\n",
       "      <th>Name_shop</th>\n",
       "      <th>Data_start</th>\n",
       "      <th>City</th>\n",
       "      <th>Format</th>\n",
       "      <th>SKU_Count</th>\n",
       "    </tr>\n",
       "  </thead>\n",
       "  <tbody>\n",
       "    <tr>\n",
       "      <th>0</th>\n",
       "      <td>Shop 1</td>\n",
       "      <td>20/09/18</td>\n",
       "      <td>Kiyv</td>\n",
       "      <td>NaN</td>\n",
       "      <td>1300</td>\n",
       "    </tr>\n",
       "    <tr>\n",
       "      <th>1</th>\n",
       "      <td>Shop 2</td>\n",
       "      <td>21/09/18</td>\n",
       "      <td>Buch</td>\n",
       "      <td>GiperMarkem</td>\n",
       "      <td>2000</td>\n",
       "    </tr>\n",
       "    <tr>\n",
       "      <th>2</th>\n",
       "      <td>Shop 3</td>\n",
       "      <td>23/10/18</td>\n",
       "      <td>Irpen</td>\n",
       "      <td>NearHome</td>\n",
       "      <td>1300</td>\n",
       "    </tr>\n",
       "    <tr>\n",
       "      <th>3</th>\n",
       "      <td>Shop 4</td>\n",
       "      <td>23/10/18</td>\n",
       "      <td>Buch</td>\n",
       "      <td>NaN</td>\n",
       "      <td>1200</td>\n",
       "    </tr>\n",
       "    <tr>\n",
       "      <th>4</th>\n",
       "      <td>Shop 5</td>\n",
       "      <td>01/11/18</td>\n",
       "      <td>Gostomel</td>\n",
       "      <td>NearHome</td>\n",
       "      <td>3000</td>\n",
       "    </tr>\n",
       "    <tr>\n",
       "      <th>5</th>\n",
       "      <td>Shop 6</td>\n",
       "      <td>20/11/18</td>\n",
       "      <td>Kiyv</td>\n",
       "      <td>Sportmarket</td>\n",
       "      <td>1500</td>\n",
       "    </tr>\n",
       "    <tr>\n",
       "      <th>6</th>\n",
       "      <td>Shop 7</td>\n",
       "      <td>07/11/18</td>\n",
       "      <td>Nemeshaevo</td>\n",
       "      <td>GiperMarkem</td>\n",
       "      <td>2000</td>\n",
       "    </tr>\n",
       "  </tbody>\n",
       "</table>\n",
       "</div>"
      ],
      "text/plain": [
       "  Name_shop Data_start        City       Format  SKU_Count\n",
       "0    Shop 1   20/09/18        Kiyv          NaN       1300\n",
       "1    Shop 2   21/09/18        Buch  GiperMarkem       2000\n",
       "2    Shop 3   23/10/18       Irpen     NearHome       1300\n",
       "3    Shop 4   23/10/18        Buch          NaN       1200\n",
       "4    Shop 5   01/11/18    Gostomel     NearHome       3000\n",
       "5    Shop 6   20/11/18        Kiyv  Sportmarket       1500\n",
       "6    Shop 7   07/11/18  Nemeshaevo  GiperMarkem       2000"
      ]
     },
     "execution_count": 6,
     "metadata": {},
     "output_type": "execute_result"
    }
   ],
   "source": [
    "df"
   ]
  },
  {
   "cell_type": "code",
   "execution_count": 7,
   "metadata": {},
   "outputs": [
    {
     "data": {
      "text/plain": [
       "Index(['Name_shop', 'Data_start', 'City', 'Format', 'SKU_Count'], dtype='object')"
      ]
     },
     "execution_count": 7,
     "metadata": {},
     "output_type": "execute_result"
    }
   ],
   "source": [
    "df.columns # список имен столбцов"
   ]
  },
  {
   "cell_type": "code",
   "execution_count": 8,
   "metadata": {},
   "outputs": [
    {
     "data": {
      "text/plain": [
       "(7, 5)"
      ]
     },
     "execution_count": 8,
     "metadata": {},
     "output_type": "execute_result"
    }
   ],
   "source": [
    "df.shape #  Размер массива 6 строк 5 столбцов"
   ]
  },
  {
   "cell_type": "code",
   "execution_count": 9,
   "metadata": {},
   "outputs": [
    {
     "data": {
      "text/plain": [
       "Name_shop     object\n",
       "Data_start    object\n",
       "City          object\n",
       "Format        object\n",
       "SKU_Count      int64\n",
       "dtype: object"
      ]
     },
     "execution_count": 9,
     "metadata": {},
     "output_type": "execute_result"
    }
   ],
   "source": [
    "df.dtypes # типы полей"
   ]
  },
  {
   "cell_type": "code",
   "execution_count": 10,
   "metadata": {},
   "outputs": [
    {
     "name": "stdout",
     "output_type": "stream",
     "text": [
      "<class 'pandas.core.frame.DataFrame'>\n",
      "RangeIndex: 7 entries, 0 to 6\n",
      "Data columns (total 5 columns):\n",
      "Name_shop     7 non-null object\n",
      "Data_start    7 non-null object\n",
      "City          7 non-null object\n",
      "Format        5 non-null object\n",
      "SKU_Count     7 non-null int64\n",
      "dtypes: int64(1), object(4)\n",
      "memory usage: 360.0+ bytes\n"
     ]
    }
   ],
   "source": [
    "df.info() # информация об значениях в датафрейме: сколько не нулевых значений и какой тип"
   ]
  },
  {
   "cell_type": "code",
   "execution_count": 11,
   "metadata": {},
   "outputs": [
    {
     "data": {
      "text/html": [
       "<div>\n",
       "<style scoped>\n",
       "    .dataframe tbody tr th:only-of-type {\n",
       "        vertical-align: middle;\n",
       "    }\n",
       "\n",
       "    .dataframe tbody tr th {\n",
       "        vertical-align: top;\n",
       "    }\n",
       "\n",
       "    .dataframe thead th {\n",
       "        text-align: right;\n",
       "    }\n",
       "</style>\n",
       "<table border=\"1\" class=\"dataframe\">\n",
       "  <thead>\n",
       "    <tr style=\"text-align: right;\">\n",
       "      <th></th>\n",
       "      <th>SKU_Count</th>\n",
       "    </tr>\n",
       "  </thead>\n",
       "  <tbody>\n",
       "    <tr>\n",
       "      <th>count</th>\n",
       "      <td>7.000000</td>\n",
       "    </tr>\n",
       "    <tr>\n",
       "      <th>mean</th>\n",
       "      <td>1757.142857</td>\n",
       "    </tr>\n",
       "    <tr>\n",
       "      <th>std</th>\n",
       "      <td>639.940473</td>\n",
       "    </tr>\n",
       "    <tr>\n",
       "      <th>min</th>\n",
       "      <td>1200.000000</td>\n",
       "    </tr>\n",
       "    <tr>\n",
       "      <th>25%</th>\n",
       "      <td>1300.000000</td>\n",
       "    </tr>\n",
       "    <tr>\n",
       "      <th>50%</th>\n",
       "      <td>1500.000000</td>\n",
       "    </tr>\n",
       "    <tr>\n",
       "      <th>75%</th>\n",
       "      <td>2000.000000</td>\n",
       "    </tr>\n",
       "    <tr>\n",
       "      <th>max</th>\n",
       "      <td>3000.000000</td>\n",
       "    </tr>\n",
       "  </tbody>\n",
       "</table>\n",
       "</div>"
      ],
      "text/plain": [
       "         SKU_Count\n",
       "count     7.000000\n",
       "mean   1757.142857\n",
       "std     639.940473\n",
       "min    1200.000000\n",
       "25%    1300.000000\n",
       "50%    1500.000000\n",
       "75%    2000.000000\n",
       "max    3000.000000"
      ]
     },
     "execution_count": 11,
     "metadata": {},
     "output_type": "execute_result"
    }
   ],
   "source": [
    "df.describe() # статистические данные только для числовых значений"
   ]
  },
  {
   "cell_type": "code",
   "execution_count": 12,
   "metadata": {},
   "outputs": [],
   "source": [
    "New_line={'Name_shop':'Last','Data_start':'22/11/18','City':'Borodianka'}\n",
    "New_line2={'Name_shop':'Lost','Data_start':'22/12/18','SKU_Count':1000}"
   ]
  },
  {
   "cell_type": "code",
   "execution_count": 13,
   "metadata": {},
   "outputs": [
    {
     "name": "stderr",
     "output_type": "stream",
     "text": [
      "/home/topic/anaconda3/lib/python3.6/site-packages/pandas/core/indexing.py:1472: FutureWarning: \n",
      "Passing list-likes to .loc or [] with any missing label will raise\n",
      "KeyError in the future, you can use .reindex() as an alternative.\n",
      "\n",
      "See the documentation here:\n",
      "https://pandas.pydata.org/pandas-docs/stable/indexing.html#deprecate-loc-reindex-listlike\n",
      "  return self._getitem_tuple(key)\n"
     ]
    },
    {
     "data": {
      "text/html": [
       "<div>\n",
       "<style scoped>\n",
       "    .dataframe tbody tr th:only-of-type {\n",
       "        vertical-align: middle;\n",
       "    }\n",
       "\n",
       "    .dataframe tbody tr th {\n",
       "        vertical-align: top;\n",
       "    }\n",
       "\n",
       "    .dataframe thead th {\n",
       "        text-align: right;\n",
       "    }\n",
       "</style>\n",
       "<table border=\"1\" class=\"dataframe\">\n",
       "  <thead>\n",
       "    <tr style=\"text-align: right;\">\n",
       "      <th></th>\n",
       "      <th>Name_shop</th>\n",
       "      <th>Data_start</th>\n",
       "      <th>City</th>\n",
       "      <th>Format</th>\n",
       "      <th>SKU_Count</th>\n",
       "    </tr>\n",
       "  </thead>\n",
       "  <tbody>\n",
       "    <tr>\n",
       "      <th>0</th>\n",
       "      <td>Shop 1</td>\n",
       "      <td>20/09/18</td>\n",
       "      <td>Kiyv</td>\n",
       "      <td>NaN</td>\n",
       "      <td>1300.0</td>\n",
       "    </tr>\n",
       "    <tr>\n",
       "      <th>1</th>\n",
       "      <td>Shop 2</td>\n",
       "      <td>21/09/18</td>\n",
       "      <td>Buch</td>\n",
       "      <td>GiperMarkem</td>\n",
       "      <td>2000.0</td>\n",
       "    </tr>\n",
       "    <tr>\n",
       "      <th>2</th>\n",
       "      <td>Shop 3</td>\n",
       "      <td>23/10/18</td>\n",
       "      <td>Irpen</td>\n",
       "      <td>NearHome</td>\n",
       "      <td>1300.0</td>\n",
       "    </tr>\n",
       "    <tr>\n",
       "      <th>3</th>\n",
       "      <td>Shop 4</td>\n",
       "      <td>23/10/18</td>\n",
       "      <td>Buch</td>\n",
       "      <td>NaN</td>\n",
       "      <td>1200.0</td>\n",
       "    </tr>\n",
       "    <tr>\n",
       "      <th>4</th>\n",
       "      <td>Shop 5</td>\n",
       "      <td>01/11/18</td>\n",
       "      <td>Gostomel</td>\n",
       "      <td>NearHome</td>\n",
       "      <td>3000.0</td>\n",
       "    </tr>\n",
       "    <tr>\n",
       "      <th>5</th>\n",
       "      <td>Shop 6</td>\n",
       "      <td>20/11/18</td>\n",
       "      <td>Kiyv</td>\n",
       "      <td>Sportmarket</td>\n",
       "      <td>1500.0</td>\n",
       "    </tr>\n",
       "    <tr>\n",
       "      <th>6</th>\n",
       "      <td>Shop 7</td>\n",
       "      <td>07/11/18</td>\n",
       "      <td>Nemeshaevo</td>\n",
       "      <td>GiperMarkem</td>\n",
       "      <td>2000.0</td>\n",
       "    </tr>\n",
       "    <tr>\n",
       "      <th>7</th>\n",
       "      <td>Last</td>\n",
       "      <td>22/11/18</td>\n",
       "      <td>Borodianka</td>\n",
       "      <td>NaN</td>\n",
       "      <td>NaN</td>\n",
       "    </tr>\n",
       "    <tr>\n",
       "      <th>8</th>\n",
       "      <td>Lost</td>\n",
       "      <td>22/12/18</td>\n",
       "      <td>NaN</td>\n",
       "      <td>NaN</td>\n",
       "      <td>1000.0</td>\n",
       "    </tr>\n",
       "  </tbody>\n",
       "</table>\n",
       "</div>"
      ],
      "text/plain": [
       "  Name_shop Data_start        City       Format  SKU_Count\n",
       "0    Shop 1   20/09/18        Kiyv          NaN     1300.0\n",
       "1    Shop 2   21/09/18        Buch  GiperMarkem     2000.0\n",
       "2    Shop 3   23/10/18       Irpen     NearHome     1300.0\n",
       "3    Shop 4   23/10/18        Buch          NaN     1200.0\n",
       "4    Shop 5   01/11/18    Gostomel     NearHome     3000.0\n",
       "5    Shop 6   20/11/18        Kiyv  Sportmarket     1500.0\n",
       "6    Shop 7   07/11/18  Nemeshaevo  GiperMarkem     2000.0\n",
       "7      Last   22/11/18  Borodianka          NaN        NaN\n",
       "8      Lost   22/12/18         NaN          NaN     1000.0"
      ]
     },
     "execution_count": 13,
     "metadata": {},
     "output_type": "execute_result"
    }
   ],
   "source": [
    "df.append([New_line,New_line2], ignore_index=True) # добавление  новых строк в массив"
   ]
  },
  {
   "cell_type": "code",
   "execution_count": 14,
   "metadata": {},
   "outputs": [
    {
     "data": {
      "text/html": [
       "<div>\n",
       "<style scoped>\n",
       "    .dataframe tbody tr th:only-of-type {\n",
       "        vertical-align: middle;\n",
       "    }\n",
       "\n",
       "    .dataframe tbody tr th {\n",
       "        vertical-align: top;\n",
       "    }\n",
       "\n",
       "    .dataframe thead th {\n",
       "        text-align: right;\n",
       "    }\n",
       "</style>\n",
       "<table border=\"1\" class=\"dataframe\">\n",
       "  <thead>\n",
       "    <tr style=\"text-align: right;\">\n",
       "      <th></th>\n",
       "      <th>Name_shop</th>\n",
       "      <th>Data_start</th>\n",
       "      <th>City</th>\n",
       "      <th>Format</th>\n",
       "      <th>SKU_Count</th>\n",
       "    </tr>\n",
       "  </thead>\n",
       "  <tbody>\n",
       "    <tr>\n",
       "      <th>0</th>\n",
       "      <td>Shop 1</td>\n",
       "      <td>20/09/18</td>\n",
       "      <td>Kiyv</td>\n",
       "      <td>NaN</td>\n",
       "      <td>1300</td>\n",
       "    </tr>\n",
       "    <tr>\n",
       "      <th>1</th>\n",
       "      <td>Shop 2</td>\n",
       "      <td>21/09/18</td>\n",
       "      <td>Buch</td>\n",
       "      <td>GiperMarkem</td>\n",
       "      <td>2000</td>\n",
       "    </tr>\n",
       "    <tr>\n",
       "      <th>2</th>\n",
       "      <td>Shop 3</td>\n",
       "      <td>23/10/18</td>\n",
       "      <td>Irpen</td>\n",
       "      <td>NearHome</td>\n",
       "      <td>1300</td>\n",
       "    </tr>\n",
       "    <tr>\n",
       "      <th>3</th>\n",
       "      <td>Shop 4</td>\n",
       "      <td>23/10/18</td>\n",
       "      <td>Buch</td>\n",
       "      <td>NaN</td>\n",
       "      <td>1200</td>\n",
       "    </tr>\n",
       "    <tr>\n",
       "      <th>4</th>\n",
       "      <td>Shop 5</td>\n",
       "      <td>01/11/18</td>\n",
       "      <td>Gostomel</td>\n",
       "      <td>NearHome</td>\n",
       "      <td>3000</td>\n",
       "    </tr>\n",
       "    <tr>\n",
       "      <th>5</th>\n",
       "      <td>Shop 6</td>\n",
       "      <td>20/11/18</td>\n",
       "      <td>Kiyv</td>\n",
       "      <td>Sportmarket</td>\n",
       "      <td>1500</td>\n",
       "    </tr>\n",
       "    <tr>\n",
       "      <th>6</th>\n",
       "      <td>Shop 7</td>\n",
       "      <td>07/11/18</td>\n",
       "      <td>Nemeshaevo</td>\n",
       "      <td>GiperMarkem</td>\n",
       "      <td>2000</td>\n",
       "    </tr>\n",
       "  </tbody>\n",
       "</table>\n",
       "</div>"
      ],
      "text/plain": [
       "  Name_shop Data_start        City       Format  SKU_Count\n",
       "0    Shop 1   20/09/18        Kiyv          NaN       1300\n",
       "1    Shop 2   21/09/18        Buch  GiperMarkem       2000\n",
       "2    Shop 3   23/10/18       Irpen     NearHome       1300\n",
       "3    Shop 4   23/10/18        Buch          NaN       1200\n",
       "4    Shop 5   01/11/18    Gostomel     NearHome       3000\n",
       "5    Shop 6   20/11/18        Kiyv  Sportmarket       1500\n",
       "6    Shop 7   07/11/18  Nemeshaevo  GiperMarkem       2000"
      ]
     },
     "execution_count": 14,
     "metadata": {},
     "output_type": "execute_result"
    }
   ],
   "source": [
    "df # но как видим  в реальности жанные не добавились, команда append не инплейс, сделаем по другому"
   ]
  },
  {
   "cell_type": "code",
   "execution_count": 15,
   "metadata": {},
   "outputs": [],
   "source": [
    "df=df.append([New_line,New_line2], ignore_index=True)"
   ]
  },
  {
   "cell_type": "code",
   "execution_count": 16,
   "metadata": {},
   "outputs": [
    {
     "data": {
      "text/html": [
       "<div>\n",
       "<style scoped>\n",
       "    .dataframe tbody tr th:only-of-type {\n",
       "        vertical-align: middle;\n",
       "    }\n",
       "\n",
       "    .dataframe tbody tr th {\n",
       "        vertical-align: top;\n",
       "    }\n",
       "\n",
       "    .dataframe thead th {\n",
       "        text-align: right;\n",
       "    }\n",
       "</style>\n",
       "<table border=\"1\" class=\"dataframe\">\n",
       "  <thead>\n",
       "    <tr style=\"text-align: right;\">\n",
       "      <th></th>\n",
       "      <th>Name_shop</th>\n",
       "      <th>Data_start</th>\n",
       "      <th>City</th>\n",
       "      <th>Format</th>\n",
       "      <th>SKU_Count</th>\n",
       "    </tr>\n",
       "  </thead>\n",
       "  <tbody>\n",
       "    <tr>\n",
       "      <th>0</th>\n",
       "      <td>Shop 1</td>\n",
       "      <td>20/09/18</td>\n",
       "      <td>Kiyv</td>\n",
       "      <td>NaN</td>\n",
       "      <td>1300.0</td>\n",
       "    </tr>\n",
       "    <tr>\n",
       "      <th>1</th>\n",
       "      <td>Shop 2</td>\n",
       "      <td>21/09/18</td>\n",
       "      <td>Buch</td>\n",
       "      <td>GiperMarkem</td>\n",
       "      <td>2000.0</td>\n",
       "    </tr>\n",
       "    <tr>\n",
       "      <th>2</th>\n",
       "      <td>Shop 3</td>\n",
       "      <td>23/10/18</td>\n",
       "      <td>Irpen</td>\n",
       "      <td>NearHome</td>\n",
       "      <td>1300.0</td>\n",
       "    </tr>\n",
       "    <tr>\n",
       "      <th>3</th>\n",
       "      <td>Shop 4</td>\n",
       "      <td>23/10/18</td>\n",
       "      <td>Buch</td>\n",
       "      <td>NaN</td>\n",
       "      <td>1200.0</td>\n",
       "    </tr>\n",
       "    <tr>\n",
       "      <th>4</th>\n",
       "      <td>Shop 5</td>\n",
       "      <td>01/11/18</td>\n",
       "      <td>Gostomel</td>\n",
       "      <td>NearHome</td>\n",
       "      <td>3000.0</td>\n",
       "    </tr>\n",
       "    <tr>\n",
       "      <th>5</th>\n",
       "      <td>Shop 6</td>\n",
       "      <td>20/11/18</td>\n",
       "      <td>Kiyv</td>\n",
       "      <td>Sportmarket</td>\n",
       "      <td>1500.0</td>\n",
       "    </tr>\n",
       "    <tr>\n",
       "      <th>6</th>\n",
       "      <td>Shop 7</td>\n",
       "      <td>07/11/18</td>\n",
       "      <td>Nemeshaevo</td>\n",
       "      <td>GiperMarkem</td>\n",
       "      <td>2000.0</td>\n",
       "    </tr>\n",
       "    <tr>\n",
       "      <th>7</th>\n",
       "      <td>Last</td>\n",
       "      <td>22/11/18</td>\n",
       "      <td>Borodianka</td>\n",
       "      <td>NaN</td>\n",
       "      <td>NaN</td>\n",
       "    </tr>\n",
       "    <tr>\n",
       "      <th>8</th>\n",
       "      <td>Lost</td>\n",
       "      <td>22/12/18</td>\n",
       "      <td>NaN</td>\n",
       "      <td>NaN</td>\n",
       "      <td>1000.0</td>\n",
       "    </tr>\n",
       "  </tbody>\n",
       "</table>\n",
       "</div>"
      ],
      "text/plain": [
       "  Name_shop Data_start        City       Format  SKU_Count\n",
       "0    Shop 1   20/09/18        Kiyv          NaN     1300.0\n",
       "1    Shop 2   21/09/18        Buch  GiperMarkem     2000.0\n",
       "2    Shop 3   23/10/18       Irpen     NearHome     1300.0\n",
       "3    Shop 4   23/10/18        Buch          NaN     1200.0\n",
       "4    Shop 5   01/11/18    Gostomel     NearHome     3000.0\n",
       "5    Shop 6   20/11/18        Kiyv  Sportmarket     1500.0\n",
       "6    Shop 7   07/11/18  Nemeshaevo  GiperMarkem     2000.0\n",
       "7      Last   22/11/18  Borodianka          NaN        NaN\n",
       "8      Lost   22/12/18         NaN          NaN     1000.0"
      ]
     },
     "execution_count": 16,
     "metadata": {},
     "output_type": "execute_result"
    }
   ],
   "source": [
    "df"
   ]
  },
  {
   "cell_type": "code",
   "execution_count": 17,
   "metadata": {},
   "outputs": [],
   "source": [
    "df['Competitor']=[True]*7 +[False]*2  # добавляем столбец со значениями"
   ]
  },
  {
   "cell_type": "code",
   "execution_count": 18,
   "metadata": {},
   "outputs": [
    {
     "data": {
      "text/html": [
       "<div>\n",
       "<style scoped>\n",
       "    .dataframe tbody tr th:only-of-type {\n",
       "        vertical-align: middle;\n",
       "    }\n",
       "\n",
       "    .dataframe tbody tr th {\n",
       "        vertical-align: top;\n",
       "    }\n",
       "\n",
       "    .dataframe thead th {\n",
       "        text-align: right;\n",
       "    }\n",
       "</style>\n",
       "<table border=\"1\" class=\"dataframe\">\n",
       "  <thead>\n",
       "    <tr style=\"text-align: right;\">\n",
       "      <th></th>\n",
       "      <th>Name_shop</th>\n",
       "      <th>Data_start</th>\n",
       "      <th>City</th>\n",
       "      <th>Format</th>\n",
       "      <th>SKU_Count</th>\n",
       "      <th>Competitor</th>\n",
       "    </tr>\n",
       "  </thead>\n",
       "  <tbody>\n",
       "    <tr>\n",
       "      <th>0</th>\n",
       "      <td>Shop 1</td>\n",
       "      <td>20/09/18</td>\n",
       "      <td>Kiyv</td>\n",
       "      <td>NaN</td>\n",
       "      <td>1300.0</td>\n",
       "      <td>True</td>\n",
       "    </tr>\n",
       "    <tr>\n",
       "      <th>1</th>\n",
       "      <td>Shop 2</td>\n",
       "      <td>21/09/18</td>\n",
       "      <td>Buch</td>\n",
       "      <td>GiperMarkem</td>\n",
       "      <td>2000.0</td>\n",
       "      <td>True</td>\n",
       "    </tr>\n",
       "    <tr>\n",
       "      <th>2</th>\n",
       "      <td>Shop 3</td>\n",
       "      <td>23/10/18</td>\n",
       "      <td>Irpen</td>\n",
       "      <td>NearHome</td>\n",
       "      <td>1300.0</td>\n",
       "      <td>True</td>\n",
       "    </tr>\n",
       "    <tr>\n",
       "      <th>3</th>\n",
       "      <td>Shop 4</td>\n",
       "      <td>23/10/18</td>\n",
       "      <td>Buch</td>\n",
       "      <td>NaN</td>\n",
       "      <td>1200.0</td>\n",
       "      <td>True</td>\n",
       "    </tr>\n",
       "    <tr>\n",
       "      <th>4</th>\n",
       "      <td>Shop 5</td>\n",
       "      <td>01/11/18</td>\n",
       "      <td>Gostomel</td>\n",
       "      <td>NearHome</td>\n",
       "      <td>3000.0</td>\n",
       "      <td>True</td>\n",
       "    </tr>\n",
       "    <tr>\n",
       "      <th>5</th>\n",
       "      <td>Shop 6</td>\n",
       "      <td>20/11/18</td>\n",
       "      <td>Kiyv</td>\n",
       "      <td>Sportmarket</td>\n",
       "      <td>1500.0</td>\n",
       "      <td>True</td>\n",
       "    </tr>\n",
       "    <tr>\n",
       "      <th>6</th>\n",
       "      <td>Shop 7</td>\n",
       "      <td>07/11/18</td>\n",
       "      <td>Nemeshaevo</td>\n",
       "      <td>GiperMarkem</td>\n",
       "      <td>2000.0</td>\n",
       "      <td>True</td>\n",
       "    </tr>\n",
       "    <tr>\n",
       "      <th>7</th>\n",
       "      <td>Last</td>\n",
       "      <td>22/11/18</td>\n",
       "      <td>Borodianka</td>\n",
       "      <td>NaN</td>\n",
       "      <td>NaN</td>\n",
       "      <td>False</td>\n",
       "    </tr>\n",
       "    <tr>\n",
       "      <th>8</th>\n",
       "      <td>Lost</td>\n",
       "      <td>22/12/18</td>\n",
       "      <td>NaN</td>\n",
       "      <td>NaN</td>\n",
       "      <td>1000.0</td>\n",
       "      <td>False</td>\n",
       "    </tr>\n",
       "  </tbody>\n",
       "</table>\n",
       "</div>"
      ],
      "text/plain": [
       "  Name_shop Data_start        City       Format  SKU_Count  Competitor\n",
       "0    Shop 1   20/09/18        Kiyv          NaN     1300.0        True\n",
       "1    Shop 2   21/09/18        Buch  GiperMarkem     2000.0        True\n",
       "2    Shop 3   23/10/18       Irpen     NearHome     1300.0        True\n",
       "3    Shop 4   23/10/18        Buch          NaN     1200.0        True\n",
       "4    Shop 5   01/11/18    Gostomel     NearHome     3000.0        True\n",
       "5    Shop 6   20/11/18        Kiyv  Sportmarket     1500.0        True\n",
       "6    Shop 7   07/11/18  Nemeshaevo  GiperMarkem     2000.0        True\n",
       "7      Last   22/11/18  Borodianka          NaN        NaN       False\n",
       "8      Lost   22/12/18         NaN          NaN     1000.0       False"
      ]
     },
     "execution_count": 18,
     "metadata": {},
     "output_type": "execute_result"
    }
   ],
   "source": [
    "df"
   ]
  },
  {
   "cell_type": "code",
   "execution_count": 19,
   "metadata": {},
   "outputs": [
    {
     "data": {
      "text/html": [
       "<div>\n",
       "<style scoped>\n",
       "    .dataframe tbody tr th:only-of-type {\n",
       "        vertical-align: middle;\n",
       "    }\n",
       "\n",
       "    .dataframe tbody tr th {\n",
       "        vertical-align: top;\n",
       "    }\n",
       "\n",
       "    .dataframe thead th {\n",
       "        text-align: right;\n",
       "    }\n",
       "</style>\n",
       "<table border=\"1\" class=\"dataframe\">\n",
       "  <thead>\n",
       "    <tr style=\"text-align: right;\">\n",
       "      <th></th>\n",
       "      <th>Name_shop</th>\n",
       "      <th>Data_start</th>\n",
       "      <th>City</th>\n",
       "      <th>Format</th>\n",
       "      <th>SKU_Count</th>\n",
       "      <th>Competitor</th>\n",
       "    </tr>\n",
       "  </thead>\n",
       "  <tbody>\n",
       "    <tr>\n",
       "      <th>0</th>\n",
       "      <td>Shop 1</td>\n",
       "      <td>20/09/18</td>\n",
       "      <td>Kiyv</td>\n",
       "      <td>NaN</td>\n",
       "      <td>1300.0</td>\n",
       "      <td>True</td>\n",
       "    </tr>\n",
       "    <tr>\n",
       "      <th>1</th>\n",
       "      <td>Shop 2</td>\n",
       "      <td>21/09/18</td>\n",
       "      <td>Buch</td>\n",
       "      <td>GiperMarkem</td>\n",
       "      <td>2000.0</td>\n",
       "      <td>True</td>\n",
       "    </tr>\n",
       "    <tr>\n",
       "      <th>2</th>\n",
       "      <td>Shop 3</td>\n",
       "      <td>23/10/18</td>\n",
       "      <td>Irpen</td>\n",
       "      <td>NearHome</td>\n",
       "      <td>1300.0</td>\n",
       "      <td>True</td>\n",
       "    </tr>\n",
       "    <tr>\n",
       "      <th>3</th>\n",
       "      <td>Shop 4</td>\n",
       "      <td>23/10/18</td>\n",
       "      <td>Buch</td>\n",
       "      <td>NaN</td>\n",
       "      <td>1200.0</td>\n",
       "      <td>True</td>\n",
       "    </tr>\n",
       "    <tr>\n",
       "      <th>4</th>\n",
       "      <td>Shop 5</td>\n",
       "      <td>01/11/18</td>\n",
       "      <td>Gostomel</td>\n",
       "      <td>NearHome</td>\n",
       "      <td>3000.0</td>\n",
       "      <td>True</td>\n",
       "    </tr>\n",
       "    <tr>\n",
       "      <th>5</th>\n",
       "      <td>Shop 6</td>\n",
       "      <td>20/11/18</td>\n",
       "      <td>Kiyv</td>\n",
       "      <td>Sportmarket</td>\n",
       "      <td>1500.0</td>\n",
       "      <td>True</td>\n",
       "    </tr>\n",
       "    <tr>\n",
       "      <th>6</th>\n",
       "      <td>Shop 7</td>\n",
       "      <td>07/11/18</td>\n",
       "      <td>Nemeshaevo</td>\n",
       "      <td>GiperMarkem</td>\n",
       "      <td>2000.0</td>\n",
       "      <td>True</td>\n",
       "    </tr>\n",
       "  </tbody>\n",
       "</table>\n",
       "</div>"
      ],
      "text/plain": [
       "  Name_shop Data_start        City       Format  SKU_Count  Competitor\n",
       "0    Shop 1   20/09/18        Kiyv          NaN     1300.0        True\n",
       "1    Shop 2   21/09/18        Buch  GiperMarkem     2000.0        True\n",
       "2    Shop 3   23/10/18       Irpen     NearHome     1300.0        True\n",
       "3    Shop 4   23/10/18        Buch          NaN     1200.0        True\n",
       "4    Shop 5   01/11/18    Gostomel     NearHome     3000.0        True\n",
       "5    Shop 6   20/11/18        Kiyv  Sportmarket     1500.0        True\n",
       "6    Shop 7   07/11/18  Nemeshaevo  GiperMarkem     2000.0        True"
      ]
     },
     "execution_count": 19,
     "metadata": {},
     "output_type": "execute_result"
    }
   ],
   "source": [
    "df.drop([7,8], axis=0) # удаляем элементы массива,  axis=0- удаляем строки"
   ]
  },
  {
   "cell_type": "code",
   "execution_count": 20,
   "metadata": {},
   "outputs": [
    {
     "data": {
      "text/html": [
       "<div>\n",
       "<style scoped>\n",
       "    .dataframe tbody tr th:only-of-type {\n",
       "        vertical-align: middle;\n",
       "    }\n",
       "\n",
       "    .dataframe tbody tr th {\n",
       "        vertical-align: top;\n",
       "    }\n",
       "\n",
       "    .dataframe thead th {\n",
       "        text-align: right;\n",
       "    }\n",
       "</style>\n",
       "<table border=\"1\" class=\"dataframe\">\n",
       "  <thead>\n",
       "    <tr style=\"text-align: right;\">\n",
       "      <th></th>\n",
       "      <th>Name_shop</th>\n",
       "      <th>Data_start</th>\n",
       "      <th>City</th>\n",
       "      <th>Format</th>\n",
       "      <th>SKU_Count</th>\n",
       "      <th>Competitor</th>\n",
       "    </tr>\n",
       "  </thead>\n",
       "  <tbody>\n",
       "    <tr>\n",
       "      <th>0</th>\n",
       "      <td>Shop 1</td>\n",
       "      <td>20/09/18</td>\n",
       "      <td>Kiyv</td>\n",
       "      <td>NaN</td>\n",
       "      <td>1300.0</td>\n",
       "      <td>True</td>\n",
       "    </tr>\n",
       "    <tr>\n",
       "      <th>1</th>\n",
       "      <td>Shop 2</td>\n",
       "      <td>21/09/18</td>\n",
       "      <td>Buch</td>\n",
       "      <td>GiperMarkem</td>\n",
       "      <td>2000.0</td>\n",
       "      <td>True</td>\n",
       "    </tr>\n",
       "    <tr>\n",
       "      <th>2</th>\n",
       "      <td>Shop 3</td>\n",
       "      <td>23/10/18</td>\n",
       "      <td>Irpen</td>\n",
       "      <td>NearHome</td>\n",
       "      <td>1300.0</td>\n",
       "      <td>True</td>\n",
       "    </tr>\n",
       "    <tr>\n",
       "      <th>3</th>\n",
       "      <td>Shop 4</td>\n",
       "      <td>23/10/18</td>\n",
       "      <td>Buch</td>\n",
       "      <td>NaN</td>\n",
       "      <td>1200.0</td>\n",
       "      <td>True</td>\n",
       "    </tr>\n",
       "    <tr>\n",
       "      <th>4</th>\n",
       "      <td>Shop 5</td>\n",
       "      <td>01/11/18</td>\n",
       "      <td>Gostomel</td>\n",
       "      <td>NearHome</td>\n",
       "      <td>3000.0</td>\n",
       "      <td>True</td>\n",
       "    </tr>\n",
       "    <tr>\n",
       "      <th>5</th>\n",
       "      <td>Shop 6</td>\n",
       "      <td>20/11/18</td>\n",
       "      <td>Kiyv</td>\n",
       "      <td>Sportmarket</td>\n",
       "      <td>1500.0</td>\n",
       "      <td>True</td>\n",
       "    </tr>\n",
       "    <tr>\n",
       "      <th>6</th>\n",
       "      <td>Shop 7</td>\n",
       "      <td>07/11/18</td>\n",
       "      <td>Nemeshaevo</td>\n",
       "      <td>GiperMarkem</td>\n",
       "      <td>2000.0</td>\n",
       "      <td>True</td>\n",
       "    </tr>\n",
       "    <tr>\n",
       "      <th>7</th>\n",
       "      <td>Last</td>\n",
       "      <td>22/11/18</td>\n",
       "      <td>Borodianka</td>\n",
       "      <td>NaN</td>\n",
       "      <td>NaN</td>\n",
       "      <td>False</td>\n",
       "    </tr>\n",
       "    <tr>\n",
       "      <th>8</th>\n",
       "      <td>Lost</td>\n",
       "      <td>22/12/18</td>\n",
       "      <td>NaN</td>\n",
       "      <td>NaN</td>\n",
       "      <td>1000.0</td>\n",
       "      <td>False</td>\n",
       "    </tr>\n",
       "  </tbody>\n",
       "</table>\n",
       "</div>"
      ],
      "text/plain": [
       "  Name_shop Data_start        City       Format  SKU_Count  Competitor\n",
       "0    Shop 1   20/09/18        Kiyv          NaN     1300.0        True\n",
       "1    Shop 2   21/09/18        Buch  GiperMarkem     2000.0        True\n",
       "2    Shop 3   23/10/18       Irpen     NearHome     1300.0        True\n",
       "3    Shop 4   23/10/18        Buch          NaN     1200.0        True\n",
       "4    Shop 5   01/11/18    Gostomel     NearHome     3000.0        True\n",
       "5    Shop 6   20/11/18        Kiyv  Sportmarket     1500.0        True\n",
       "6    Shop 7   07/11/18  Nemeshaevo  GiperMarkem     2000.0        True\n",
       "7      Last   22/11/18  Borodianka          NaN        NaN       False\n",
       "8      Lost   22/12/18         NaN          NaN     1000.0       False"
      ]
     },
     "execution_count": 20,
     "metadata": {},
     "output_type": "execute_result"
    }
   ],
   "source": [
    "df# но как видим  в реальности жанные не удалились, команда append не инплейс, сделаем по другому"
   ]
  },
  {
   "cell_type": "code",
   "execution_count": 21,
   "metadata": {},
   "outputs": [],
   "source": [
    "df.drop([7,8], axis=0, inplace=True) # удаляем элементы массива,  axis=0- удаляем строки"
   ]
  },
  {
   "cell_type": "code",
   "execution_count": 22,
   "metadata": {},
   "outputs": [
    {
     "data": {
      "text/html": [
       "<div>\n",
       "<style scoped>\n",
       "    .dataframe tbody tr th:only-of-type {\n",
       "        vertical-align: middle;\n",
       "    }\n",
       "\n",
       "    .dataframe tbody tr th {\n",
       "        vertical-align: top;\n",
       "    }\n",
       "\n",
       "    .dataframe thead th {\n",
       "        text-align: right;\n",
       "    }\n",
       "</style>\n",
       "<table border=\"1\" class=\"dataframe\">\n",
       "  <thead>\n",
       "    <tr style=\"text-align: right;\">\n",
       "      <th></th>\n",
       "      <th>Name_shop</th>\n",
       "      <th>Data_start</th>\n",
       "      <th>City</th>\n",
       "      <th>Format</th>\n",
       "      <th>SKU_Count</th>\n",
       "      <th>Competitor</th>\n",
       "    </tr>\n",
       "  </thead>\n",
       "  <tbody>\n",
       "    <tr>\n",
       "      <th>0</th>\n",
       "      <td>Shop 1</td>\n",
       "      <td>20/09/18</td>\n",
       "      <td>Kiyv</td>\n",
       "      <td>NaN</td>\n",
       "      <td>1300.0</td>\n",
       "      <td>True</td>\n",
       "    </tr>\n",
       "    <tr>\n",
       "      <th>1</th>\n",
       "      <td>Shop 2</td>\n",
       "      <td>21/09/18</td>\n",
       "      <td>Buch</td>\n",
       "      <td>GiperMarkem</td>\n",
       "      <td>2000.0</td>\n",
       "      <td>True</td>\n",
       "    </tr>\n",
       "    <tr>\n",
       "      <th>2</th>\n",
       "      <td>Shop 3</td>\n",
       "      <td>23/10/18</td>\n",
       "      <td>Irpen</td>\n",
       "      <td>NearHome</td>\n",
       "      <td>1300.0</td>\n",
       "      <td>True</td>\n",
       "    </tr>\n",
       "    <tr>\n",
       "      <th>3</th>\n",
       "      <td>Shop 4</td>\n",
       "      <td>23/10/18</td>\n",
       "      <td>Buch</td>\n",
       "      <td>NaN</td>\n",
       "      <td>1200.0</td>\n",
       "      <td>True</td>\n",
       "    </tr>\n",
       "    <tr>\n",
       "      <th>4</th>\n",
       "      <td>Shop 5</td>\n",
       "      <td>01/11/18</td>\n",
       "      <td>Gostomel</td>\n",
       "      <td>NearHome</td>\n",
       "      <td>3000.0</td>\n",
       "      <td>True</td>\n",
       "    </tr>\n",
       "    <tr>\n",
       "      <th>5</th>\n",
       "      <td>Shop 6</td>\n",
       "      <td>20/11/18</td>\n",
       "      <td>Kiyv</td>\n",
       "      <td>Sportmarket</td>\n",
       "      <td>1500.0</td>\n",
       "      <td>True</td>\n",
       "    </tr>\n",
       "    <tr>\n",
       "      <th>6</th>\n",
       "      <td>Shop 7</td>\n",
       "      <td>07/11/18</td>\n",
       "      <td>Nemeshaevo</td>\n",
       "      <td>GiperMarkem</td>\n",
       "      <td>2000.0</td>\n",
       "      <td>True</td>\n",
       "    </tr>\n",
       "  </tbody>\n",
       "</table>\n",
       "</div>"
      ],
      "text/plain": [
       "  Name_shop Data_start        City       Format  SKU_Count  Competitor\n",
       "0    Shop 1   20/09/18        Kiyv          NaN     1300.0        True\n",
       "1    Shop 2   21/09/18        Buch  GiperMarkem     2000.0        True\n",
       "2    Shop 3   23/10/18       Irpen     NearHome     1300.0        True\n",
       "3    Shop 4   23/10/18        Buch          NaN     1200.0        True\n",
       "4    Shop 5   01/11/18    Gostomel     NearHome     3000.0        True\n",
       "5    Shop 6   20/11/18        Kiyv  Sportmarket     1500.0        True\n",
       "6    Shop 7   07/11/18  Nemeshaevo  GiperMarkem     2000.0        True"
      ]
     },
     "execution_count": 22,
     "metadata": {},
     "output_type": "execute_result"
    }
   ],
   "source": [
    "df"
   ]
  },
  {
   "cell_type": "code",
   "execution_count": 23,
   "metadata": {},
   "outputs": [],
   "source": [
    "df.drop(['Competitor'], axis=1, inplace=True) # удаляем элементы массива,  axis=1- удаляем столбец"
   ]
  },
  {
   "cell_type": "code",
   "execution_count": 24,
   "metadata": {},
   "outputs": [
    {
     "data": {
      "text/html": [
       "<div>\n",
       "<style scoped>\n",
       "    .dataframe tbody tr th:only-of-type {\n",
       "        vertical-align: middle;\n",
       "    }\n",
       "\n",
       "    .dataframe tbody tr th {\n",
       "        vertical-align: top;\n",
       "    }\n",
       "\n",
       "    .dataframe thead th {\n",
       "        text-align: right;\n",
       "    }\n",
       "</style>\n",
       "<table border=\"1\" class=\"dataframe\">\n",
       "  <thead>\n",
       "    <tr style=\"text-align: right;\">\n",
       "      <th></th>\n",
       "      <th>Name_shop</th>\n",
       "      <th>Data_start</th>\n",
       "      <th>City</th>\n",
       "      <th>Format</th>\n",
       "      <th>SKU_Count</th>\n",
       "    </tr>\n",
       "  </thead>\n",
       "  <tbody>\n",
       "    <tr>\n",
       "      <th>0</th>\n",
       "      <td>Shop 1</td>\n",
       "      <td>20/09/18</td>\n",
       "      <td>Kiyv</td>\n",
       "      <td>NaN</td>\n",
       "      <td>1300.0</td>\n",
       "    </tr>\n",
       "    <tr>\n",
       "      <th>1</th>\n",
       "      <td>Shop 2</td>\n",
       "      <td>21/09/18</td>\n",
       "      <td>Buch</td>\n",
       "      <td>GiperMarkem</td>\n",
       "      <td>2000.0</td>\n",
       "    </tr>\n",
       "    <tr>\n",
       "      <th>2</th>\n",
       "      <td>Shop 3</td>\n",
       "      <td>23/10/18</td>\n",
       "      <td>Irpen</td>\n",
       "      <td>NearHome</td>\n",
       "      <td>1300.0</td>\n",
       "    </tr>\n",
       "    <tr>\n",
       "      <th>3</th>\n",
       "      <td>Shop 4</td>\n",
       "      <td>23/10/18</td>\n",
       "      <td>Buch</td>\n",
       "      <td>NaN</td>\n",
       "      <td>1200.0</td>\n",
       "    </tr>\n",
       "    <tr>\n",
       "      <th>4</th>\n",
       "      <td>Shop 5</td>\n",
       "      <td>01/11/18</td>\n",
       "      <td>Gostomel</td>\n",
       "      <td>NearHome</td>\n",
       "      <td>3000.0</td>\n",
       "    </tr>\n",
       "    <tr>\n",
       "      <th>5</th>\n",
       "      <td>Shop 6</td>\n",
       "      <td>20/11/18</td>\n",
       "      <td>Kiyv</td>\n",
       "      <td>Sportmarket</td>\n",
       "      <td>1500.0</td>\n",
       "    </tr>\n",
       "    <tr>\n",
       "      <th>6</th>\n",
       "      <td>Shop 7</td>\n",
       "      <td>07/11/18</td>\n",
       "      <td>Nemeshaevo</td>\n",
       "      <td>GiperMarkem</td>\n",
       "      <td>2000.0</td>\n",
       "    </tr>\n",
       "  </tbody>\n",
       "</table>\n",
       "</div>"
      ],
      "text/plain": [
       "  Name_shop Data_start        City       Format  SKU_Count\n",
       "0    Shop 1   20/09/18        Kiyv          NaN     1300.0\n",
       "1    Shop 2   21/09/18        Buch  GiperMarkem     2000.0\n",
       "2    Shop 3   23/10/18       Irpen     NearHome     1300.0\n",
       "3    Shop 4   23/10/18        Buch          NaN     1200.0\n",
       "4    Shop 5   01/11/18    Gostomel     NearHome     3000.0\n",
       "5    Shop 6   20/11/18        Kiyv  Sportmarket     1500.0\n",
       "6    Shop 7   07/11/18  Nemeshaevo  GiperMarkem     2000.0"
      ]
     },
     "execution_count": 24,
     "metadata": {},
     "output_type": "execute_result"
    }
   ],
   "source": [
    "df"
   ]
  },
  {
   "cell_type": "code",
   "execution_count": 25,
   "metadata": {},
   "outputs": [],
   "source": [
    "df.to_csv('indata.csv',index=False,header=True, sep=',')"
   ]
  },
  {
   "cell_type": "code",
   "execution_count": 26,
   "metadata": {},
   "outputs": [
    {
     "name": "stdout",
     "output_type": "stream",
     "text": [
      "cat: indata.csv#: No such file or directory\r\n",
      "cat: просмотр: No such file or directory\r\n",
      "cat: файла: No such file or directory\r\n",
      "cat: через: No such file or directory\r\n",
      "cat: команду: No such file or directory\r\n",
      "cat: системы: No such file or directory\r\n"
     ]
    }
   ],
   "source": [
    "!cat indata.csv# просмотр файла через команду системы"
   ]
  },
  {
   "cell_type": "markdown",
   "metadata": {},
   "source": [
    "### Индексация и селекция"
   ]
  },
  {
   "cell_type": "code",
   "execution_count": 27,
   "metadata": {},
   "outputs": [
    {
     "data": {
      "text/plain": [
       "Name_shop      object\n",
       "Data_start     object\n",
       "City           object\n",
       "Format         object\n",
       "SKU_Count     float64\n",
       "dtype: object"
      ]
     },
     "execution_count": 27,
     "metadata": {},
     "output_type": "execute_result"
    }
   ],
   "source": [
    "df.dtypes"
   ]
  },
  {
   "cell_type": "code",
   "execution_count": 28,
   "metadata": {},
   "outputs": [
    {
     "data": {
      "text/html": [
       "<div>\n",
       "<style scoped>\n",
       "    .dataframe tbody tr th:only-of-type {\n",
       "        vertical-align: middle;\n",
       "    }\n",
       "\n",
       "    .dataframe tbody tr th {\n",
       "        vertical-align: top;\n",
       "    }\n",
       "\n",
       "    .dataframe thead th {\n",
       "        text-align: right;\n",
       "    }\n",
       "</style>\n",
       "<table border=\"1\" class=\"dataframe\">\n",
       "  <thead>\n",
       "    <tr style=\"text-align: right;\">\n",
       "      <th></th>\n",
       "      <th>Name_shop</th>\n",
       "      <th>Data_start</th>\n",
       "      <th>City</th>\n",
       "      <th>Format</th>\n",
       "      <th>SKU_Count</th>\n",
       "    </tr>\n",
       "  </thead>\n",
       "  <tbody>\n",
       "    <tr>\n",
       "      <th>0</th>\n",
       "      <td>Shop 1</td>\n",
       "      <td>20/09/18</td>\n",
       "      <td>Kiyv</td>\n",
       "      <td>NaN</td>\n",
       "      <td>1300.0</td>\n",
       "    </tr>\n",
       "    <tr>\n",
       "      <th>1</th>\n",
       "      <td>Shop 2</td>\n",
       "      <td>21/09/18</td>\n",
       "      <td>Buch</td>\n",
       "      <td>GiperMarkem</td>\n",
       "      <td>2000.0</td>\n",
       "    </tr>\n",
       "    <tr>\n",
       "      <th>2</th>\n",
       "      <td>Shop 3</td>\n",
       "      <td>23/10/18</td>\n",
       "      <td>Irpen</td>\n",
       "      <td>NearHome</td>\n",
       "      <td>1300.0</td>\n",
       "    </tr>\n",
       "    <tr>\n",
       "      <th>3</th>\n",
       "      <td>Shop 4</td>\n",
       "      <td>23/10/18</td>\n",
       "      <td>Buch</td>\n",
       "      <td>NaN</td>\n",
       "      <td>1200.0</td>\n",
       "    </tr>\n",
       "    <tr>\n",
       "      <th>4</th>\n",
       "      <td>Shop 5</td>\n",
       "      <td>01/11/18</td>\n",
       "      <td>Gostomel</td>\n",
       "      <td>NearHome</td>\n",
       "      <td>3000.0</td>\n",
       "    </tr>\n",
       "    <tr>\n",
       "      <th>5</th>\n",
       "      <td>Shop 6</td>\n",
       "      <td>20/11/18</td>\n",
       "      <td>Kiyv</td>\n",
       "      <td>Sportmarket</td>\n",
       "      <td>1500.0</td>\n",
       "    </tr>\n",
       "    <tr>\n",
       "      <th>6</th>\n",
       "      <td>Shop 7</td>\n",
       "      <td>07/11/18</td>\n",
       "      <td>Nemeshaevo</td>\n",
       "      <td>GiperMarkem</td>\n",
       "      <td>2000.0</td>\n",
       "    </tr>\n",
       "  </tbody>\n",
       "</table>\n",
       "</div>"
      ],
      "text/plain": [
       "  Name_shop Data_start        City       Format  SKU_Count\n",
       "0    Shop 1   20/09/18        Kiyv          NaN     1300.0\n",
       "1    Shop 2   21/09/18        Buch  GiperMarkem     2000.0\n",
       "2    Shop 3   23/10/18       Irpen     NearHome     1300.0\n",
       "3    Shop 4   23/10/18        Buch          NaN     1200.0\n",
       "4    Shop 5   01/11/18    Gostomel     NearHome     3000.0\n",
       "5    Shop 6   20/11/18        Kiyv  Sportmarket     1500.0\n",
       "6    Shop 7   07/11/18  Nemeshaevo  GiperMarkem     2000.0"
      ]
     },
     "execution_count": 28,
     "metadata": {},
     "output_type": "execute_result"
    }
   ],
   "source": [
    "df"
   ]
  },
  {
   "cell_type": "code",
   "execution_count": 29,
   "metadata": {},
   "outputs": [],
   "source": [
    "df.Data_start =df.Data_start.apply(pd.to_datetime) # приводим формат столбца Data_start к специальному типу, функция apply не inplace"
   ]
  },
  {
   "cell_type": "code",
   "execution_count": 30,
   "metadata": {},
   "outputs": [
    {
     "data": {
      "text/html": [
       "<div>\n",
       "<style scoped>\n",
       "    .dataframe tbody tr th:only-of-type {\n",
       "        vertical-align: middle;\n",
       "    }\n",
       "\n",
       "    .dataframe tbody tr th {\n",
       "        vertical-align: top;\n",
       "    }\n",
       "\n",
       "    .dataframe thead th {\n",
       "        text-align: right;\n",
       "    }\n",
       "</style>\n",
       "<table border=\"1\" class=\"dataframe\">\n",
       "  <thead>\n",
       "    <tr style=\"text-align: right;\">\n",
       "      <th></th>\n",
       "      <th>Name_shop</th>\n",
       "      <th>Data_start</th>\n",
       "      <th>City</th>\n",
       "      <th>Format</th>\n",
       "      <th>SKU_Count</th>\n",
       "    </tr>\n",
       "  </thead>\n",
       "  <tbody>\n",
       "    <tr>\n",
       "      <th>0</th>\n",
       "      <td>Shop 1</td>\n",
       "      <td>2018-09-20</td>\n",
       "      <td>Kiyv</td>\n",
       "      <td>NaN</td>\n",
       "      <td>1300.0</td>\n",
       "    </tr>\n",
       "    <tr>\n",
       "      <th>1</th>\n",
       "      <td>Shop 2</td>\n",
       "      <td>2018-09-21</td>\n",
       "      <td>Buch</td>\n",
       "      <td>GiperMarkem</td>\n",
       "      <td>2000.0</td>\n",
       "    </tr>\n",
       "    <tr>\n",
       "      <th>2</th>\n",
       "      <td>Shop 3</td>\n",
       "      <td>2018-10-23</td>\n",
       "      <td>Irpen</td>\n",
       "      <td>NearHome</td>\n",
       "      <td>1300.0</td>\n",
       "    </tr>\n",
       "    <tr>\n",
       "      <th>3</th>\n",
       "      <td>Shop 4</td>\n",
       "      <td>2018-10-23</td>\n",
       "      <td>Buch</td>\n",
       "      <td>NaN</td>\n",
       "      <td>1200.0</td>\n",
       "    </tr>\n",
       "    <tr>\n",
       "      <th>4</th>\n",
       "      <td>Shop 5</td>\n",
       "      <td>2018-01-11</td>\n",
       "      <td>Gostomel</td>\n",
       "      <td>NearHome</td>\n",
       "      <td>3000.0</td>\n",
       "    </tr>\n",
       "    <tr>\n",
       "      <th>5</th>\n",
       "      <td>Shop 6</td>\n",
       "      <td>2018-11-20</td>\n",
       "      <td>Kiyv</td>\n",
       "      <td>Sportmarket</td>\n",
       "      <td>1500.0</td>\n",
       "    </tr>\n",
       "    <tr>\n",
       "      <th>6</th>\n",
       "      <td>Shop 7</td>\n",
       "      <td>2018-07-11</td>\n",
       "      <td>Nemeshaevo</td>\n",
       "      <td>GiperMarkem</td>\n",
       "      <td>2000.0</td>\n",
       "    </tr>\n",
       "  </tbody>\n",
       "</table>\n",
       "</div>"
      ],
      "text/plain": [
       "  Name_shop Data_start        City       Format  SKU_Count\n",
       "0    Shop 1 2018-09-20        Kiyv          NaN     1300.0\n",
       "1    Shop 2 2018-09-21        Buch  GiperMarkem     2000.0\n",
       "2    Shop 3 2018-10-23       Irpen     NearHome     1300.0\n",
       "3    Shop 4 2018-10-23        Buch          NaN     1200.0\n",
       "4    Shop 5 2018-01-11    Gostomel     NearHome     3000.0\n",
       "5    Shop 6 2018-11-20        Kiyv  Sportmarket     1500.0\n",
       "6    Shop 7 2018-07-11  Nemeshaevo  GiperMarkem     2000.0"
      ]
     },
     "execution_count": 30,
     "metadata": {},
     "output_type": "execute_result"
    }
   ],
   "source": [
    "df"
   ]
  },
  {
   "cell_type": "code",
   "execution_count": 31,
   "metadata": {},
   "outputs": [
    {
     "data": {
      "text/plain": [
       "Name_shop             object\n",
       "Data_start    datetime64[ns]\n",
       "City                  object\n",
       "Format                object\n",
       "SKU_Count            float64\n",
       "dtype: object"
      ]
     },
     "execution_count": 31,
     "metadata": {},
     "output_type": "execute_result"
    }
   ],
   "source": [
    "df.dtypes # формат Data_start поменялся"
   ]
  },
  {
   "cell_type": "code",
   "execution_count": 32,
   "metadata": {},
   "outputs": [
    {
     "name": "stdout",
     "output_type": "stream",
     "text": [
      "<class 'pandas.core.frame.DataFrame'>\n",
      "Int64Index: 7 entries, 0 to 6\n",
      "Data columns (total 5 columns):\n",
      "Name_shop     7 non-null object\n",
      "Data_start    7 non-null datetime64[ns]\n",
      "City          7 non-null object\n",
      "Format        5 non-null object\n",
      "SKU_Count     7 non-null float64\n",
      "dtypes: datetime64[ns](1), float64(1), object(3)\n",
      "memory usage: 336.0+ bytes\n"
     ]
    }
   ],
   "source": [
    "df.info()# анализируем незаполненые значения, например в колонке Format "
   ]
  },
  {
   "cell_type": "code",
   "execution_count": 33,
   "metadata": {},
   "outputs": [],
   "source": [
    "df.Format.fillna('SuperMarket',inplace=True) # заменяем пустые значения, а конкретные"
   ]
  },
  {
   "cell_type": "code",
   "execution_count": 34,
   "metadata": {},
   "outputs": [
    {
     "data": {
      "text/html": [
       "<div>\n",
       "<style scoped>\n",
       "    .dataframe tbody tr th:only-of-type {\n",
       "        vertical-align: middle;\n",
       "    }\n",
       "\n",
       "    .dataframe tbody tr th {\n",
       "        vertical-align: top;\n",
       "    }\n",
       "\n",
       "    .dataframe thead th {\n",
       "        text-align: right;\n",
       "    }\n",
       "</style>\n",
       "<table border=\"1\" class=\"dataframe\">\n",
       "  <thead>\n",
       "    <tr style=\"text-align: right;\">\n",
       "      <th></th>\n",
       "      <th>Name_shop</th>\n",
       "      <th>Data_start</th>\n",
       "      <th>City</th>\n",
       "      <th>Format</th>\n",
       "      <th>SKU_Count</th>\n",
       "    </tr>\n",
       "  </thead>\n",
       "  <tbody>\n",
       "    <tr>\n",
       "      <th>0</th>\n",
       "      <td>Shop 1</td>\n",
       "      <td>2018-09-20</td>\n",
       "      <td>Kiyv</td>\n",
       "      <td>SuperMarket</td>\n",
       "      <td>1300.0</td>\n",
       "    </tr>\n",
       "    <tr>\n",
       "      <th>1</th>\n",
       "      <td>Shop 2</td>\n",
       "      <td>2018-09-21</td>\n",
       "      <td>Buch</td>\n",
       "      <td>GiperMarkem</td>\n",
       "      <td>2000.0</td>\n",
       "    </tr>\n",
       "    <tr>\n",
       "      <th>2</th>\n",
       "      <td>Shop 3</td>\n",
       "      <td>2018-10-23</td>\n",
       "      <td>Irpen</td>\n",
       "      <td>NearHome</td>\n",
       "      <td>1300.0</td>\n",
       "    </tr>\n",
       "    <tr>\n",
       "      <th>3</th>\n",
       "      <td>Shop 4</td>\n",
       "      <td>2018-10-23</td>\n",
       "      <td>Buch</td>\n",
       "      <td>SuperMarket</td>\n",
       "      <td>1200.0</td>\n",
       "    </tr>\n",
       "    <tr>\n",
       "      <th>4</th>\n",
       "      <td>Shop 5</td>\n",
       "      <td>2018-01-11</td>\n",
       "      <td>Gostomel</td>\n",
       "      <td>NearHome</td>\n",
       "      <td>3000.0</td>\n",
       "    </tr>\n",
       "    <tr>\n",
       "      <th>5</th>\n",
       "      <td>Shop 6</td>\n",
       "      <td>2018-11-20</td>\n",
       "      <td>Kiyv</td>\n",
       "      <td>Sportmarket</td>\n",
       "      <td>1500.0</td>\n",
       "    </tr>\n",
       "    <tr>\n",
       "      <th>6</th>\n",
       "      <td>Shop 7</td>\n",
       "      <td>2018-07-11</td>\n",
       "      <td>Nemeshaevo</td>\n",
       "      <td>GiperMarkem</td>\n",
       "      <td>2000.0</td>\n",
       "    </tr>\n",
       "  </tbody>\n",
       "</table>\n",
       "</div>"
      ],
      "text/plain": [
       "  Name_shop Data_start        City       Format  SKU_Count\n",
       "0    Shop 1 2018-09-20        Kiyv  SuperMarket     1300.0\n",
       "1    Shop 2 2018-09-21        Buch  GiperMarkem     2000.0\n",
       "2    Shop 3 2018-10-23       Irpen     NearHome     1300.0\n",
       "3    Shop 4 2018-10-23        Buch  SuperMarket     1200.0\n",
       "4    Shop 5 2018-01-11    Gostomel     NearHome     3000.0\n",
       "5    Shop 6 2018-11-20        Kiyv  Sportmarket     1500.0\n",
       "6    Shop 7 2018-07-11  Nemeshaevo  GiperMarkem     2000.0"
      ]
     },
     "execution_count": 34,
     "metadata": {},
     "output_type": "execute_result"
    }
   ],
   "source": [
    "df"
   ]
  },
  {
   "cell_type": "code",
   "execution_count": 35,
   "metadata": {},
   "outputs": [
    {
     "data": {
      "text/plain": [
       "0    SuperMarket\n",
       "1    GiperMarkem\n",
       "2       NearHome\n",
       "3    SuperMarket\n",
       "4       NearHome\n",
       "5    Sportmarket\n",
       "6    GiperMarkem\n",
       "Name: Format, dtype: object"
      ]
     },
     "execution_count": 35,
     "metadata": {},
     "output_type": "execute_result"
    }
   ],
   "source": [
    "df.Format  # Выводим как список"
   ]
  },
  {
   "cell_type": "code",
   "execution_count": 36,
   "metadata": {},
   "outputs": [
    {
     "data": {
      "text/html": [
       "<div>\n",
       "<style scoped>\n",
       "    .dataframe tbody tr th:only-of-type {\n",
       "        vertical-align: middle;\n",
       "    }\n",
       "\n",
       "    .dataframe tbody tr th {\n",
       "        vertical-align: top;\n",
       "    }\n",
       "\n",
       "    .dataframe thead th {\n",
       "        text-align: right;\n",
       "    }\n",
       "</style>\n",
       "<table border=\"1\" class=\"dataframe\">\n",
       "  <thead>\n",
       "    <tr style=\"text-align: right;\">\n",
       "      <th></th>\n",
       "      <th>Format</th>\n",
       "    </tr>\n",
       "  </thead>\n",
       "  <tbody>\n",
       "    <tr>\n",
       "      <th>0</th>\n",
       "      <td>SuperMarket</td>\n",
       "    </tr>\n",
       "    <tr>\n",
       "      <th>1</th>\n",
       "      <td>GiperMarkem</td>\n",
       "    </tr>\n",
       "    <tr>\n",
       "      <th>2</th>\n",
       "      <td>NearHome</td>\n",
       "    </tr>\n",
       "    <tr>\n",
       "      <th>3</th>\n",
       "      <td>SuperMarket</td>\n",
       "    </tr>\n",
       "    <tr>\n",
       "      <th>4</th>\n",
       "      <td>NearHome</td>\n",
       "    </tr>\n",
       "    <tr>\n",
       "      <th>5</th>\n",
       "      <td>Sportmarket</td>\n",
       "    </tr>\n",
       "    <tr>\n",
       "      <th>6</th>\n",
       "      <td>GiperMarkem</td>\n",
       "    </tr>\n",
       "  </tbody>\n",
       "</table>\n",
       "</div>"
      ],
      "text/plain": [
       "        Format\n",
       "0  SuperMarket\n",
       "1  GiperMarkem\n",
       "2     NearHome\n",
       "3  SuperMarket\n",
       "4     NearHome\n",
       "5  Sportmarket\n",
       "6  GiperMarkem"
      ]
     },
     "execution_count": 36,
     "metadata": {},
     "output_type": "execute_result"
    }
   ],
   "source": [
    "df[['Format']] # Выводим как датафрейм"
   ]
  },
  {
   "cell_type": "code",
   "execution_count": 37,
   "metadata": {},
   "outputs": [
    {
     "data": {
      "text/html": [
       "<div>\n",
       "<style scoped>\n",
       "    .dataframe tbody tr th:only-of-type {\n",
       "        vertical-align: middle;\n",
       "    }\n",
       "\n",
       "    .dataframe tbody tr th {\n",
       "        vertical-align: top;\n",
       "    }\n",
       "\n",
       "    .dataframe thead th {\n",
       "        text-align: right;\n",
       "    }\n",
       "</style>\n",
       "<table border=\"1\" class=\"dataframe\">\n",
       "  <thead>\n",
       "    <tr style=\"text-align: right;\">\n",
       "      <th></th>\n",
       "      <th>Name_shop</th>\n",
       "      <th>Format</th>\n",
       "    </tr>\n",
       "  </thead>\n",
       "  <tbody>\n",
       "    <tr>\n",
       "      <th>0</th>\n",
       "      <td>Shop 1</td>\n",
       "      <td>SuperMarket</td>\n",
       "    </tr>\n",
       "    <tr>\n",
       "      <th>1</th>\n",
       "      <td>Shop 2</td>\n",
       "      <td>GiperMarkem</td>\n",
       "    </tr>\n",
       "    <tr>\n",
       "      <th>2</th>\n",
       "      <td>Shop 3</td>\n",
       "      <td>NearHome</td>\n",
       "    </tr>\n",
       "    <tr>\n",
       "      <th>3</th>\n",
       "      <td>Shop 4</td>\n",
       "      <td>SuperMarket</td>\n",
       "    </tr>\n",
       "    <tr>\n",
       "      <th>4</th>\n",
       "      <td>Shop 5</td>\n",
       "      <td>NearHome</td>\n",
       "    </tr>\n",
       "    <tr>\n",
       "      <th>5</th>\n",
       "      <td>Shop 6</td>\n",
       "      <td>Sportmarket</td>\n",
       "    </tr>\n",
       "    <tr>\n",
       "      <th>6</th>\n",
       "      <td>Shop 7</td>\n",
       "      <td>GiperMarkem</td>\n",
       "    </tr>\n",
       "  </tbody>\n",
       "</table>\n",
       "</div>"
      ],
      "text/plain": [
       "  Name_shop       Format\n",
       "0    Shop 1  SuperMarket\n",
       "1    Shop 2  GiperMarkem\n",
       "2    Shop 3     NearHome\n",
       "3    Shop 4  SuperMarket\n",
       "4    Shop 5     NearHome\n",
       "5    Shop 6  Sportmarket\n",
       "6    Shop 7  GiperMarkem"
      ]
     },
     "execution_count": 37,
     "metadata": {},
     "output_type": "execute_result"
    }
   ],
   "source": [
    "df[['Name_shop','Format']] # Выводим как датафрейм два столбца"
   ]
  },
  {
   "cell_type": "code",
   "execution_count": 38,
   "metadata": {},
   "outputs": [
    {
     "data": {
      "text/plain": [
       "<bound method NDFrame.head of   Name_shop Data_start        City       Format  SKU_Count\n",
       "0    Shop 1 2018-09-20        Kiyv  SuperMarket     1300.0\n",
       "1    Shop 2 2018-09-21        Buch  GiperMarkem     2000.0\n",
       "2    Shop 3 2018-10-23       Irpen     NearHome     1300.0\n",
       "3    Shop 4 2018-10-23        Buch  SuperMarket     1200.0\n",
       "4    Shop 5 2018-01-11    Gostomel     NearHome     3000.0\n",
       "5    Shop 6 2018-11-20        Kiyv  Sportmarket     1500.0\n",
       "6    Shop 7 2018-07-11  Nemeshaevo  GiperMarkem     2000.0>"
      ]
     },
     "execution_count": 38,
     "metadata": {},
     "output_type": "execute_result"
    }
   ],
   "source": [
    "df.head # выводим первые строки дата фрейма"
   ]
  },
  {
   "cell_type": "code",
   "execution_count": 39,
   "metadata": {},
   "outputs": [
    {
     "data": {
      "text/plain": [
       "<bound method NDFrame.tail of   Name_shop Data_start        City       Format  SKU_Count\n",
       "0    Shop 1 2018-09-20        Kiyv  SuperMarket     1300.0\n",
       "1    Shop 2 2018-09-21        Buch  GiperMarkem     2000.0\n",
       "2    Shop 3 2018-10-23       Irpen     NearHome     1300.0\n",
       "3    Shop 4 2018-10-23        Buch  SuperMarket     1200.0\n",
       "4    Shop 5 2018-01-11    Gostomel     NearHome     3000.0\n",
       "5    Shop 6 2018-11-20        Kiyv  Sportmarket     1500.0\n",
       "6    Shop 7 2018-07-11  Nemeshaevo  GiperMarkem     2000.0>"
      ]
     },
     "execution_count": 39,
     "metadata": {},
     "output_type": "execute_result"
    }
   ],
   "source": [
    "df.tail # выводим последние строки дата фрейма"
   ]
  },
  {
   "cell_type": "code",
   "execution_count": 40,
   "metadata": {},
   "outputs": [
    {
     "data": {
      "text/html": [
       "<div>\n",
       "<style scoped>\n",
       "    .dataframe tbody tr th:only-of-type {\n",
       "        vertical-align: middle;\n",
       "    }\n",
       "\n",
       "    .dataframe tbody tr th {\n",
       "        vertical-align: top;\n",
       "    }\n",
       "\n",
       "    .dataframe thead th {\n",
       "        text-align: right;\n",
       "    }\n",
       "</style>\n",
       "<table border=\"1\" class=\"dataframe\">\n",
       "  <thead>\n",
       "    <tr style=\"text-align: right;\">\n",
       "      <th></th>\n",
       "      <th>Name_shop</th>\n",
       "      <th>Data_start</th>\n",
       "      <th>City</th>\n",
       "      <th>Format</th>\n",
       "      <th>SKU_Count</th>\n",
       "    </tr>\n",
       "  </thead>\n",
       "  <tbody>\n",
       "    <tr>\n",
       "      <th>0</th>\n",
       "      <td>Shop 1</td>\n",
       "      <td>2018-09-20</td>\n",
       "      <td>Kiyv</td>\n",
       "      <td>SuperMarket</td>\n",
       "      <td>1300.0</td>\n",
       "    </tr>\n",
       "    <tr>\n",
       "      <th>1</th>\n",
       "      <td>Shop 2</td>\n",
       "      <td>2018-09-21</td>\n",
       "      <td>Buch</td>\n",
       "      <td>GiperMarkem</td>\n",
       "      <td>2000.0</td>\n",
       "    </tr>\n",
       "  </tbody>\n",
       "</table>\n",
       "</div>"
      ],
      "text/plain": [
       "  Name_shop Data_start  City       Format  SKU_Count\n",
       "0    Shop 1 2018-09-20  Kiyv  SuperMarket     1300.0\n",
       "1    Shop 2 2018-09-21  Buch  GiperMarkem     2000.0"
      ]
     },
     "execution_count": 40,
     "metadata": {},
     "output_type": "execute_result"
    }
   ],
   "source": [
    "df[:2] # Работаем с дата фреймом как со списком и выводим срезы"
   ]
  },
  {
   "cell_type": "code",
   "execution_count": 41,
   "metadata": {},
   "outputs": [
    {
     "data": {
      "text/html": [
       "<div>\n",
       "<style scoped>\n",
       "    .dataframe tbody tr th:only-of-type {\n",
       "        vertical-align: middle;\n",
       "    }\n",
       "\n",
       "    .dataframe tbody tr th {\n",
       "        vertical-align: top;\n",
       "    }\n",
       "\n",
       "    .dataframe thead th {\n",
       "        text-align: right;\n",
       "    }\n",
       "</style>\n",
       "<table border=\"1\" class=\"dataframe\">\n",
       "  <thead>\n",
       "    <tr style=\"text-align: right;\">\n",
       "      <th></th>\n",
       "      <th>Name_shop</th>\n",
       "      <th>Data_start</th>\n",
       "      <th>City</th>\n",
       "      <th>Format</th>\n",
       "      <th>SKU_Count</th>\n",
       "    </tr>\n",
       "  </thead>\n",
       "  <tbody>\n",
       "    <tr>\n",
       "      <th>4</th>\n",
       "      <td>Shop 5</td>\n",
       "      <td>2018-01-11</td>\n",
       "      <td>Gostomel</td>\n",
       "      <td>NearHome</td>\n",
       "      <td>3000.0</td>\n",
       "    </tr>\n",
       "    <tr>\n",
       "      <th>5</th>\n",
       "      <td>Shop 6</td>\n",
       "      <td>2018-11-20</td>\n",
       "      <td>Kiyv</td>\n",
       "      <td>Sportmarket</td>\n",
       "      <td>1500.0</td>\n",
       "    </tr>\n",
       "    <tr>\n",
       "      <th>6</th>\n",
       "      <td>Shop 7</td>\n",
       "      <td>2018-07-11</td>\n",
       "      <td>Nemeshaevo</td>\n",
       "      <td>GiperMarkem</td>\n",
       "      <td>2000.0</td>\n",
       "    </tr>\n",
       "  </tbody>\n",
       "</table>\n",
       "</div>"
      ],
      "text/plain": [
       "  Name_shop Data_start        City       Format  SKU_Count\n",
       "4    Shop 5 2018-01-11    Gostomel     NearHome     3000.0\n",
       "5    Shop 6 2018-11-20        Kiyv  Sportmarket     1500.0\n",
       "6    Shop 7 2018-07-11  Nemeshaevo  GiperMarkem     2000.0"
      ]
     },
     "execution_count": 41,
     "metadata": {},
     "output_type": "execute_result"
    }
   ],
   "source": [
    "df[-3:] # Работаем с дата фреймом как со списком и выводим срезы"
   ]
  },
  {
   "cell_type": "code",
   "execution_count": 42,
   "metadata": {},
   "outputs": [
    {
     "data": {
      "text/html": [
       "<div>\n",
       "<style scoped>\n",
       "    .dataframe tbody tr th:only-of-type {\n",
       "        vertical-align: middle;\n",
       "    }\n",
       "\n",
       "    .dataframe tbody tr th {\n",
       "        vertical-align: top;\n",
       "    }\n",
       "\n",
       "    .dataframe thead th {\n",
       "        text-align: right;\n",
       "    }\n",
       "</style>\n",
       "<table border=\"1\" class=\"dataframe\">\n",
       "  <thead>\n",
       "    <tr style=\"text-align: right;\">\n",
       "      <th></th>\n",
       "      <th>City</th>\n",
       "      <th>Format</th>\n",
       "    </tr>\n",
       "  </thead>\n",
       "  <tbody>\n",
       "    <tr>\n",
       "      <th>1</th>\n",
       "      <td>Buch</td>\n",
       "      <td>GiperMarkem</td>\n",
       "    </tr>\n",
       "    <tr>\n",
       "      <th>2</th>\n",
       "      <td>Irpen</td>\n",
       "      <td>NearHome</td>\n",
       "    </tr>\n",
       "    <tr>\n",
       "      <th>5</th>\n",
       "      <td>Kiyv</td>\n",
       "      <td>Sportmarket</td>\n",
       "    </tr>\n",
       "  </tbody>\n",
       "</table>\n",
       "</div>"
      ],
      "text/plain": [
       "    City       Format\n",
       "1   Buch  GiperMarkem\n",
       "2  Irpen     NearHome\n",
       "5   Kiyv  Sportmarket"
      ]
     },
     "execution_count": 42,
     "metadata": {},
     "output_type": "execute_result"
    }
   ],
   "source": [
    "df.loc[[1,2,5],['City','Format']]# loc - для обращения к столбцам по имени, обратить внимание на []"
   ]
  },
  {
   "cell_type": "code",
   "execution_count": 43,
   "metadata": {},
   "outputs": [
    {
     "data": {
      "text/html": [
       "<div>\n",
       "<style scoped>\n",
       "    .dataframe tbody tr th:only-of-type {\n",
       "        vertical-align: middle;\n",
       "    }\n",
       "\n",
       "    .dataframe tbody tr th {\n",
       "        vertical-align: top;\n",
       "    }\n",
       "\n",
       "    .dataframe thead th {\n",
       "        text-align: right;\n",
       "    }\n",
       "</style>\n",
       "<table border=\"1\" class=\"dataframe\">\n",
       "  <thead>\n",
       "    <tr style=\"text-align: right;\">\n",
       "      <th></th>\n",
       "      <th>Data_start</th>\n",
       "      <th>City</th>\n",
       "    </tr>\n",
       "  </thead>\n",
       "  <tbody>\n",
       "    <tr>\n",
       "      <th>1</th>\n",
       "      <td>2018-09-21</td>\n",
       "      <td>Buch</td>\n",
       "    </tr>\n",
       "    <tr>\n",
       "      <th>2</th>\n",
       "      <td>2018-10-23</td>\n",
       "      <td>Irpen</td>\n",
       "    </tr>\n",
       "    <tr>\n",
       "      <th>5</th>\n",
       "      <td>2018-11-20</td>\n",
       "      <td>Kiyv</td>\n",
       "    </tr>\n",
       "  </tbody>\n",
       "</table>\n",
       "</div>"
      ],
      "text/plain": [
       "  Data_start   City\n",
       "1 2018-09-21   Buch\n",
       "2 2018-10-23  Irpen\n",
       "5 2018-11-20   Kiyv"
      ]
     },
     "execution_count": 43,
     "metadata": {},
     "output_type": "execute_result"
    }
   ],
   "source": [
    "df.iloc[[1,2,5],[1,2]]# iloc - для обращения к столбцам по индексу, обратить внимание на []"
   ]
  },
  {
   "cell_type": "code",
   "execution_count": 44,
   "metadata": {},
   "outputs": [
    {
     "data": {
      "text/html": [
       "<div>\n",
       "<style scoped>\n",
       "    .dataframe tbody tr th:only-of-type {\n",
       "        vertical-align: middle;\n",
       "    }\n",
       "\n",
       "    .dataframe tbody tr th {\n",
       "        vertical-align: top;\n",
       "    }\n",
       "\n",
       "    .dataframe thead th {\n",
       "        text-align: right;\n",
       "    }\n",
       "</style>\n",
       "<table border=\"1\" class=\"dataframe\">\n",
       "  <thead>\n",
       "    <tr style=\"text-align: right;\">\n",
       "      <th></th>\n",
       "      <th>Name_shop</th>\n",
       "      <th>Data_start</th>\n",
       "      <th>City</th>\n",
       "      <th>Format</th>\n",
       "      <th>SKU_Count</th>\n",
       "    </tr>\n",
       "  </thead>\n",
       "  <tbody>\n",
       "    <tr>\n",
       "      <th>2</th>\n",
       "      <td>Shop 3</td>\n",
       "      <td>2018-10-23</td>\n",
       "      <td>Irpen</td>\n",
       "      <td>NearHome</td>\n",
       "      <td>1300.0</td>\n",
       "    </tr>\n",
       "    <tr>\n",
       "      <th>3</th>\n",
       "      <td>Shop 4</td>\n",
       "      <td>2018-10-23</td>\n",
       "      <td>Buch</td>\n",
       "      <td>SuperMarket</td>\n",
       "      <td>1200.0</td>\n",
       "    </tr>\n",
       "    <tr>\n",
       "      <th>5</th>\n",
       "      <td>Shop 6</td>\n",
       "      <td>2018-11-20</td>\n",
       "      <td>Kiyv</td>\n",
       "      <td>Sportmarket</td>\n",
       "      <td>1500.0</td>\n",
       "    </tr>\n",
       "  </tbody>\n",
       "</table>\n",
       "</div>"
      ],
      "text/plain": [
       "  Name_shop Data_start   City       Format  SKU_Count\n",
       "2    Shop 3 2018-10-23  Irpen     NearHome     1300.0\n",
       "3    Shop 4 2018-10-23   Buch  SuperMarket     1200.0\n",
       "5    Shop 6 2018-11-20   Kiyv  Sportmarket     1500.0"
      ]
     },
     "execution_count": 44,
     "metadata": {},
     "output_type": "execute_result"
    }
   ],
   "source": [
    "df[df.Data_start>= pd.datetime(2018,9,30)] # Filter"
   ]
  },
  {
   "cell_type": "code",
   "execution_count": 45,
   "metadata": {},
   "outputs": [
    {
     "data": {
      "text/html": [
       "<div>\n",
       "<style scoped>\n",
       "    .dataframe tbody tr th:only-of-type {\n",
       "        vertical-align: middle;\n",
       "    }\n",
       "\n",
       "    .dataframe tbody tr th {\n",
       "        vertical-align: top;\n",
       "    }\n",
       "\n",
       "    .dataframe thead th {\n",
       "        text-align: right;\n",
       "    }\n",
       "</style>\n",
       "<table border=\"1\" class=\"dataframe\">\n",
       "  <thead>\n",
       "    <tr style=\"text-align: right;\">\n",
       "      <th></th>\n",
       "      <th>Name_shop</th>\n",
       "      <th>Data_start</th>\n",
       "      <th>City</th>\n",
       "      <th>Format</th>\n",
       "      <th>SKU_Count</th>\n",
       "    </tr>\n",
       "  </thead>\n",
       "  <tbody>\n",
       "    <tr>\n",
       "      <th>3</th>\n",
       "      <td>Shop 4</td>\n",
       "      <td>2018-10-23</td>\n",
       "      <td>Buch</td>\n",
       "      <td>SuperMarket</td>\n",
       "      <td>1200.0</td>\n",
       "    </tr>\n",
       "  </tbody>\n",
       "</table>\n",
       "</div>"
      ],
      "text/plain": [
       "  Name_shop Data_start  City       Format  SKU_Count\n",
       "3    Shop 4 2018-10-23  Buch  SuperMarket     1200.0"
      ]
     },
     "execution_count": 45,
     "metadata": {},
     "output_type": "execute_result"
    }
   ],
   "source": [
    "df[(df.Data_start>= pd.datetime(2018,9,30))&(df.City =='Buch')] # Filter 2 condition with &"
   ]
  },
  {
   "cell_type": "code",
   "execution_count": 46,
   "metadata": {},
   "outputs": [
    {
     "data": {
      "text/html": [
       "<div>\n",
       "<style scoped>\n",
       "    .dataframe tbody tr th:only-of-type {\n",
       "        vertical-align: middle;\n",
       "    }\n",
       "\n",
       "    .dataframe tbody tr th {\n",
       "        vertical-align: top;\n",
       "    }\n",
       "\n",
       "    .dataframe thead th {\n",
       "        text-align: right;\n",
       "    }\n",
       "</style>\n",
       "<table border=\"1\" class=\"dataframe\">\n",
       "  <thead>\n",
       "    <tr style=\"text-align: right;\">\n",
       "      <th></th>\n",
       "      <th>Name_shop</th>\n",
       "      <th>Data_start</th>\n",
       "      <th>City</th>\n",
       "      <th>Format</th>\n",
       "      <th>SKU_Count</th>\n",
       "    </tr>\n",
       "  </thead>\n",
       "  <tbody>\n",
       "    <tr>\n",
       "      <th>2</th>\n",
       "      <td>Shop 3</td>\n",
       "      <td>2018-10-23</td>\n",
       "      <td>Irpen</td>\n",
       "      <td>NearHome</td>\n",
       "      <td>1300.0</td>\n",
       "    </tr>\n",
       "    <tr>\n",
       "      <th>3</th>\n",
       "      <td>Shop 4</td>\n",
       "      <td>2018-10-23</td>\n",
       "      <td>Buch</td>\n",
       "      <td>SuperMarket</td>\n",
       "      <td>1200.0</td>\n",
       "    </tr>\n",
       "    <tr>\n",
       "      <th>5</th>\n",
       "      <td>Shop 6</td>\n",
       "      <td>2018-11-20</td>\n",
       "      <td>Kiyv</td>\n",
       "      <td>Sportmarket</td>\n",
       "      <td>1500.0</td>\n",
       "    </tr>\n",
       "    <tr>\n",
       "      <th>6</th>\n",
       "      <td>Shop 7</td>\n",
       "      <td>2018-07-11</td>\n",
       "      <td>Nemeshaevo</td>\n",
       "      <td>GiperMarkem</td>\n",
       "      <td>2000.0</td>\n",
       "    </tr>\n",
       "  </tbody>\n",
       "</table>\n",
       "</div>"
      ],
      "text/plain": [
       "  Name_shop Data_start        City       Format  SKU_Count\n",
       "2    Shop 3 2018-10-23       Irpen     NearHome     1300.0\n",
       "3    Shop 4 2018-10-23        Buch  SuperMarket     1200.0\n",
       "5    Shop 6 2018-11-20        Kiyv  Sportmarket     1500.0\n",
       "6    Shop 7 2018-07-11  Nemeshaevo  GiperMarkem     2000.0"
      ]
     },
     "execution_count": 46,
     "metadata": {},
     "output_type": "execute_result"
    }
   ],
   "source": [
    "df[(df.Data_start>= pd.datetime(2018,9,30))|(df.City =='Nemeshaevo')] # Filter 2 condition with |"
   ]
  },
  {
   "cell_type": "markdown",
   "metadata": {},
   "source": [
    "# NumPy SciPy"
   ]
  },
  {
   "cell_type": "markdown",
   "metadata": {},
   "source": [
    "### NumPy"
   ]
  },
  {
   "cell_type": "code",
   "execution_count": 47,
   "metadata": {},
   "outputs": [],
   "source": [
    "import numpy as np"
   ]
  },
  {
   "cell_type": "code",
   "execution_count": 48,
   "metadata": {},
   "outputs": [],
   "source": [
    "x=[1,2,3,4]\n",
    "y= np.array(x)"
   ]
  },
  {
   "cell_type": "code",
   "execution_count": 49,
   "metadata": {},
   "outputs": [
    {
     "name": "stdout",
     "output_type": "stream",
     "text": [
      "<class 'list'> [1, 2, 3, 4]\n",
      "<class 'numpy.ndarray'> [1 2 3 4]\n"
     ]
    }
   ],
   "source": [
    "print(type(x),x)\n",
    "print(type(y),y)"
   ]
  },
  {
   "cell_type": "code",
   "execution_count": 50,
   "metadata": {},
   "outputs": [
    {
     "data": {
      "text/plain": [
       "[2, 3]"
      ]
     },
     "execution_count": 50,
     "metadata": {},
     "output_type": "execute_result"
    }
   ],
   "source": [
    "x[1:3]"
   ]
  },
  {
   "cell_type": "code",
   "execution_count": 51,
   "metadata": {},
   "outputs": [
    {
     "data": {
      "text/plain": [
       "array([2, 3])"
      ]
     },
     "execution_count": 51,
     "metadata": {},
     "output_type": "execute_result"
    }
   ],
   "source": [
    "y[1:3]"
   ]
  },
  {
   "cell_type": "code",
   "execution_count": 52,
   "metadata": {},
   "outputs": [
    {
     "ename": "TypeError",
     "evalue": "list indices must be integers or slices, not list",
     "output_type": "error",
     "traceback": [
      "\u001b[0;31m---------------------------------------------------------------------------\u001b[0m",
      "\u001b[0;31mTypeError\u001b[0m                                 Traceback (most recent call last)",
      "\u001b[0;32m<ipython-input-52-0d1168de6e23>\u001b[0m in \u001b[0;36m<module>\u001b[0;34m\u001b[0m\n\u001b[0;32m----> 1\u001b[0;31m \u001b[0mx\u001b[0m\u001b[0;34m[\u001b[0m\u001b[0;34m[\u001b[0m\u001b[0;36m0\u001b[0m\u001b[0;34m,\u001b[0m\u001b[0;36m2\u001b[0m\u001b[0;34m]\u001b[0m\u001b[0;34m]\u001b[0m \u001b[0;31m# хотим вывести элементы массива передав в в качестве массива список индексов - в прпостом списке  не работает\u001b[0m\u001b[0;34m\u001b[0m\u001b[0m\n\u001b[0m",
      "\u001b[0;31mTypeError\u001b[0m: list indices must be integers or slices, not list"
     ]
    }
   ],
   "source": [
    "x[[0,2]] # хотим вывести элементы массива передав в в качестве массива список индексов - в прпостом списке  не работает"
   ]
  },
  {
   "cell_type": "code",
   "execution_count": 53,
   "metadata": {},
   "outputs": [
    {
     "data": {
      "text/plain": [
       "array([1, 3])"
      ]
     },
     "execution_count": 53,
     "metadata": {},
     "output_type": "execute_result"
    }
   ],
   "source": [
    "y[[0,2]] # numpy.ndarray- работает"
   ]
  },
  {
   "cell_type": "code",
   "execution_count": 54,
   "metadata": {},
   "outputs": [
    {
     "name": "stdout",
     "output_type": "stream",
     "text": [
      "[3 4]\n"
     ]
    }
   ],
   "source": [
    "print(y[y>=3]) # логическа индексация "
   ]
  },
  {
   "cell_type": "code",
   "execution_count": 55,
   "metadata": {},
   "outputs": [
    {
     "data": {
      "text/plain": [
       "[1, 2, 3, 4, 1, 2, 3, 4, 1, 2, 3, 4, 1, 2, 3, 4, 1, 2, 3, 4]"
      ]
     },
     "execution_count": 55,
     "metadata": {},
     "output_type": "execute_result"
    }
   ],
   "source": [
    "x*5 # простой массив(список) - при умножении дублирует элементы"
   ]
  },
  {
   "cell_type": "code",
   "execution_count": 56,
   "metadata": {},
   "outputs": [
    {
     "data": {
      "text/plain": [
       "array([ 5, 10, 15, 20])"
      ]
     },
     "execution_count": 56,
     "metadata": {},
     "output_type": "execute_result"
    }
   ],
   "source": [
    "y*5 # numpy.ndarray- умножаеься каждый элемент массива"
   ]
  },
  {
   "cell_type": "code",
   "execution_count": 57,
   "metadata": {},
   "outputs": [
    {
     "ename": "TypeError",
     "evalue": "unsupported operand type(s) for ** or pow(): 'list' and 'int'",
     "output_type": "error",
     "traceback": [
      "\u001b[0;31m---------------------------------------------------------------------------\u001b[0m",
      "\u001b[0;31mTypeError\u001b[0m                                 Traceback (most recent call last)",
      "\u001b[0;32m<ipython-input-57-658afd76ae4e>\u001b[0m in \u001b[0;36m<module>\u001b[0;34m\u001b[0m\n\u001b[0;32m----> 1\u001b[0;31m \u001b[0mx\u001b[0m\u001b[0;34m**\u001b[0m\u001b[0;36m2\u001b[0m \u001b[0;31m#обыкновенный массив в степень  не возводится\u001b[0m\u001b[0;34m\u001b[0m\u001b[0m\n\u001b[0m",
      "\u001b[0;31mTypeError\u001b[0m: unsupported operand type(s) for ** or pow(): 'list' and 'int'"
     ]
    }
   ],
   "source": [
    "x**2 #обыкновенный массив в степень  не возводится"
   ]
  },
  {
   "cell_type": "code",
   "execution_count": 58,
   "metadata": {},
   "outputs": [
    {
     "data": {
      "text/plain": [
       "array([ 1,  4,  9, 16])"
      ]
     },
     "execution_count": 58,
     "metadata": {},
     "output_type": "execute_result"
    }
   ],
   "source": [
    "y**2 # numpy.ndarray- корректно возводит в степень все элементы массива"
   ]
  },
  {
   "cell_type": "code",
   "execution_count": 59,
   "metadata": {},
   "outputs": [],
   "source": [
    "matrix = [[1,2,4],[5,6,0]]\n",
    "nd_array=np.array(matrix)"
   ]
  },
  {
   "cell_type": "code",
   "execution_count": 60,
   "metadata": {
    "scrolled": true
   },
   "outputs": [
    {
     "data": {
      "text/plain": [
       "0"
      ]
     },
     "execution_count": 60,
     "metadata": {},
     "output_type": "execute_result"
    }
   ],
   "source": [
    "matrix[1][2]"
   ]
  },
  {
   "cell_type": "code",
   "execution_count": 61,
   "metadata": {},
   "outputs": [
    {
     "data": {
      "text/plain": [
       "array([[1, 2, 4],\n",
       "       [5, 6, 0]])"
      ]
     },
     "execution_count": 61,
     "metadata": {},
     "output_type": "execute_result"
    }
   ],
   "source": [
    "nd_array"
   ]
  },
  {
   "cell_type": "code",
   "execution_count": 62,
   "metadata": {},
   "outputs": [
    {
     "data": {
      "text/plain": [
       "0"
      ]
     },
     "execution_count": 62,
     "metadata": {},
     "output_type": "execute_result"
    }
   ],
   "source": [
    "nd_array[1,2]"
   ]
  },
  {
   "cell_type": "code",
   "execution_count": 63,
   "metadata": {},
   "outputs": [
    {
     "data": {
      "text/plain": [
       "0.5956782310222046"
      ]
     },
     "execution_count": 63,
     "metadata": {},
     "output_type": "execute_result"
    }
   ],
   "source": [
    "np.random.rand()# генерация числа из равномерного распределения"
   ]
  },
  {
   "cell_type": "code",
   "execution_count": 64,
   "metadata": {},
   "outputs": [
    {
     "data": {
      "text/plain": [
       "-0.39641553183506606"
      ]
     },
     "execution_count": 64,
     "metadata": {},
     "output_type": "execute_result"
    }
   ],
   "source": [
    "np.random.randn()# генерация числа из нормального распределения"
   ]
  },
  {
   "cell_type": "code",
   "execution_count": 65,
   "metadata": {},
   "outputs": [
    {
     "data": {
      "text/plain": [
       "array([-0.65133837,  0.77278897, -0.38972447, -1.36899609])"
      ]
     },
     "execution_count": 65,
     "metadata": {},
     "output_type": "execute_result"
    }
   ],
   "source": [
    "np.random.randn(4) # генерация простого массива"
   ]
  },
  {
   "cell_type": "code",
   "execution_count": 66,
   "metadata": {},
   "outputs": [
    {
     "data": {
      "text/plain": [
       "array([[-1.19468051, -1.72221581,  0.75600972,  1.75637593,  0.22222041],\n",
       "       [ 0.70566238,  0.73638149, -1.37325174, -0.63996291,  1.09877162],\n",
       "       [-0.90357082, -0.1371657 , -1.66997064,  1.00290152,  1.13402633],\n",
       "       [ 1.07179169,  0.54661966,  0.75998565, -0.4552711 ,  0.31949289]])"
      ]
     },
     "execution_count": 66,
     "metadata": {},
     "output_type": "execute_result"
    }
   ],
   "source": [
    "np.random.randn(4,5) # генерация матрицы"
   ]
  },
  {
   "cell_type": "code",
   "execution_count": 67,
   "metadata": {},
   "outputs": [
    {
     "data": {
      "text/plain": [
       "array([0. , 0.1, 0.2, 0.3, 0.4, 0.5, 0.6, 0.7, 0.8, 0.9, 1. , 1.1, 1.2,\n",
       "       1.3, 1.4, 1.5, 1.6, 1.7, 1.8, 1.9, 2. , 2.1, 2.2, 2.3, 2.4, 2.5,\n",
       "       2.6, 2.7, 2.8, 2.9, 3. , 3.1, 3.2, 3.3, 3.4, 3.5, 3.6, 3.7, 3.8,\n",
       "       3.9, 4. , 4.1, 4.2, 4.3, 4.4, 4.5, 4.6, 4.7, 4.8, 4.9, 5. , 5.1,\n",
       "       5.2, 5.3, 5.4, 5.5, 5.6, 5.7, 5.8, 5.9, 6. , 6.1, 6.2, 6.3, 6.4,\n",
       "       6.5, 6.6, 6.7, 6.8, 6.9, 7. , 7.1, 7.2, 7.3, 7.4, 7.5, 7.6, 7.7,\n",
       "       7.8, 7.9])"
      ]
     },
     "execution_count": 67,
     "metadata": {},
     "output_type": "execute_result"
    }
   ],
   "source": [
    "np.arange(0,8,0.1)#  генерация массива с дробным шагом, что не дает сделать функция range"
   ]
  },
  {
   "cell_type": "code",
   "execution_count": 68,
   "metadata": {},
   "outputs": [
    {
     "ename": "TypeError",
     "evalue": "'float' object cannot be interpreted as an integer",
     "output_type": "error",
     "traceback": [
      "\u001b[0;31m---------------------------------------------------------------------------\u001b[0m",
      "\u001b[0;31mTypeError\u001b[0m                                 Traceback (most recent call last)",
      "\u001b[0;32m<ipython-input-68-301d9c9e6af1>\u001b[0m in \u001b[0;36m<module>\u001b[0;34m\u001b[0m\n\u001b[0;32m----> 1\u001b[0;31m \u001b[0mrange\u001b[0m\u001b[0;34m(\u001b[0m\u001b[0;36m0\u001b[0m\u001b[0;34m,\u001b[0m\u001b[0;36m8\u001b[0m\u001b[0;34m,\u001b[0m \u001b[0;36m0.1\u001b[0m\u001b[0;34m)\u001b[0m\u001b[0;34m\u001b[0m\u001b[0m\n\u001b[0m",
      "\u001b[0;31mTypeError\u001b[0m: 'float' object cannot be interpreted as an integer"
     ]
    }
   ],
   "source": [
    "range(0,8, 0.1)"
   ]
  },
  {
   "cell_type": "code",
   "execution_count": 69,
   "metadata": {},
   "outputs": [
    {
     "name": "stdout",
     "output_type": "stream",
     "text": [
      "13.7 µs ± 464 ns per loop (mean ± std. dev. of 7 runs, 100000 loops each)\n",
      "341 µs ± 1.7 µs per loop (mean ± std. dev. of 7 runs, 1000 loops each)\n"
     ]
    }
   ],
   "source": [
    "%timeit np.arange(0,10000) # сравниваем скорость выплнения аналогичных операций\n",
    "%timeit list(range(0,10000))"
   ]
  },
  {
   "cell_type": "markdown",
   "metadata": {},
   "source": [
    "### SciPy (оптимизация, решение задач линейной алгебры, статистики и т.д.)"
   ]
  },
  {
   "cell_type": "markdown",
   "metadata": {},
   "source": [
    "#### Оптимизация"
   ]
  },
  {
   "cell_type": "code",
   "execution_count": 70,
   "metadata": {},
   "outputs": [],
   "source": [
    "from scipy import optimize"
   ]
  },
  {
   "cell_type": "code",
   "execution_count": 71,
   "metadata": {},
   "outputs": [],
   "source": [
    "def f(x):\n",
    "    return (x[0]-3.2)**2 +(x[1]-0.1)**2 +3\n"
   ]
  },
  {
   "cell_type": "code",
   "execution_count": 72,
   "metadata": {},
   "outputs": [
    {
     "data": {
      "text/plain": [
       "3.0"
      ]
     },
     "execution_count": 72,
     "metadata": {},
     "output_type": "execute_result"
    }
   ],
   "source": [
    "f([3.2,0.1])"
   ]
  },
  {
   "cell_type": "code",
   "execution_count": 73,
   "metadata": {},
   "outputs": [
    {
     "data": {
      "text/plain": [
       "      fun: 3.0000000000011435\n",
       " hess_inv: array([[ 0.94055055, -0.16183475],\n",
       "       [-0.16183475,  0.55944947]])\n",
       "      jac: array([-2.05636024e-06,  5.36441803e-07])\n",
       "  message: 'Optimization terminated successfully.'\n",
       "     nfev: 16\n",
       "      nit: 3\n",
       "     njev: 4\n",
       "   status: 0\n",
       "  success: True\n",
       "        x: array([3.19999896, 0.10000026])"
      ]
     },
     "execution_count": 73,
     "metadata": {},
     "output_type": "execute_result"
    }
   ],
   "source": [
    "x_min =optimize.minimize(f,[5,5]) # получаем мин. значение  функции и значения переменных при которых ф-ция минимальна\n",
    "x_min"
   ]
  },
  {
   "cell_type": "code",
   "execution_count": 74,
   "metadata": {},
   "outputs": [
    {
     "data": {
      "text/plain": [
       "array([3.19999896, 0.10000026])"
      ]
     },
     "execution_count": 74,
     "metadata": {},
     "output_type": "execute_result"
    }
   ],
   "source": [
    "x_min.x"
   ]
  },
  {
   "cell_type": "code",
   "execution_count": 75,
   "metadata": {},
   "outputs": [],
   "source": [
    "from scipy import linalg"
   ]
  },
  {
   "cell_type": "code",
   "execution_count": 76,
   "metadata": {},
   "outputs": [
    {
     "data": {
      "text/plain": [
       "array([ 2., -2.,  9.])"
      ]
     },
     "execution_count": 76,
     "metadata": {},
     "output_type": "execute_result"
    }
   ],
   "source": [
    "a=np.array([[3,2,0],[1,-1,0],[0,5,1]]) # ришаем линейное уровнение, а -коэффициенты при х\n",
    "b=np.array([2,4,-1])# это y-ки\n",
    "x = linalg.solve(a,b) #  находим  решение , только для квадратных матриц\n",
    "x"
   ]
  },
  {
   "cell_type": "code",
   "execution_count": 77,
   "metadata": {},
   "outputs": [
    {
     "data": {
      "text/plain": [
       "array([ 2.,  4., -1.])"
      ]
     },
     "execution_count": 77,
     "metadata": {},
     "output_type": "execute_result"
    }
   ],
   "source": [
    "np.dot(a,x) # проверка решения перемножением матриц а и х сейчас матричное умножение это @"
   ]
  },
  {
   "cell_type": "markdown",
   "metadata": {},
   "source": [
    "### Matplotlib ( построение графиков)"
   ]
  },
  {
   "cell_type": "code",
   "execution_count": 78,
   "metadata": {},
   "outputs": [],
   "source": [
    "import matplotlib.pyplot as plt"
   ]
  },
  {
   "cell_type": "code",
   "execution_count": 79,
   "metadata": {},
   "outputs": [
    {
     "data": {
      "image/png": "[encoded data removed]",
      "text/plain": [
       "<Figure size 432x288 with 1 Axes>"
      ]
     },
     "metadata": {
      "needs_background": "light"
     },
     "output_type": "display_data"
    }
   ],
   "source": [
    "plt.plot([1,2,3,4],[1,4,9,16])\n",
    "plt.show()"
   ]
  },
  {
   "cell_type": "code",
   "execution_count": 80,
   "metadata": {},
   "outputs": [
    {
     "data": {
      "image/png": "[encoded data removed]",
      "text/plain": [
       "<Figure size 432x288 with 1 Axes>"
      ]
     },
     "metadata": {
      "needs_background": "light"
     },
     "output_type": "display_data"
    }
   ],
   "source": [
    "x =np.arange(-10,10,0.1)\n",
    "y=x**3\n",
    "plt.plot(x,y)\n",
    "plt.show()"
   ]
  },
  {
   "cell_type": "markdown",
   "metadata": {},
   "source": [
    "### Задача на прогназирование прибыли магазина"
   ]
  },
  {
   "cell_type": "code",
   "execution_count": 81,
   "metadata": {},
   "outputs": [],
   "source": [
    "# Магазин: 1-Площадь магазинаб 2-Количество товараб 3-Количество населения в радиусе 1000 метров\n",
    "a = np.array([[100,1300,5000],[120,1500,6000],[150,1600,6000]])\n",
    "b = np.array([1500000,2000000,2100000])\n",
    "x = linalg.solve(a,b) # только для квадратных матриц"
   ]
  },
  {
   "cell_type": "code",
   "execution_count": 82,
   "metadata": {},
   "outputs": [
    {
     "data": {
      "text/plain": [
       "array([14444.44444444, -3333.33333333,   877.77777778])"
      ]
     },
     "execution_count": 82,
     "metadata": {},
     "output_type": "execute_result"
    }
   ],
   "source": [
    "x"
   ]
  },
  {
   "cell_type": "code",
   "execution_count": 83,
   "metadata": {},
   "outputs": [],
   "source": [
    "c = np.array([140,1400,5500])"
   ]
  },
  {
   "cell_type": "code",
   "execution_count": 84,
   "metadata": {},
   "outputs": [
    {
     "data": {
      "text/plain": [
       "2183333.3333333344"
      ]
     },
     "execution_count": 84,
     "metadata": {},
     "output_type": "execute_result"
    }
   ],
   "source": [
    "np.dot(c,x)"
   ]
  },
  {
   "cell_type": "code",
   "execution_count": 85,
   "metadata": {},
   "outputs": [],
   "source": [
    "a = np.array([[100,1300,5000,8],[120,1500,6000,9],[150,1600,6000,9]])\n",
    "b = np.array([1500000,2000000,2100000])"
   ]
  },
  {
   "cell_type": "code",
   "execution_count": 86,
   "metadata": {},
   "outputs": [
    {
     "ename": "ValueError",
     "evalue": "Input a needs to be a square matrix.",
     "output_type": "error",
     "traceback": [
      "\u001b[0;31m---------------------------------------------------------------------------\u001b[0m",
      "\u001b[0;31mValueError\u001b[0m                                Traceback (most recent call last)",
      "\u001b[0;32m<ipython-input-86-4ac57e4c6bdc>\u001b[0m in \u001b[0;36m<module>\u001b[0;34m\u001b[0m\n\u001b[0;32m----> 1\u001b[0;31m \u001b[0mx\u001b[0m \u001b[0;34m=\u001b[0m \u001b[0mlinalg\u001b[0m\u001b[0;34m.\u001b[0m\u001b[0msolve\u001b[0m\u001b[0;34m(\u001b[0m\u001b[0ma\u001b[0m\u001b[0;34m,\u001b[0m\u001b[0mb\u001b[0m\u001b[0;34m)\u001b[0m \u001b[0;31m# только для квадратных матриц\u001b[0m\u001b[0;34m\u001b[0m\u001b[0m\n\u001b[0m",
      "\u001b[0;32m~/anaconda3/lib/python3.6/site-packages/scipy/linalg/basic.py\u001b[0m in \u001b[0;36msolve\u001b[0;34m(a, b, sym_pos, lower, overwrite_a, overwrite_b, debug, check_finite, assume_a, transposed)\u001b[0m\n\u001b[1;32m    145\u001b[0m \u001b[0;34m\u001b[0m\u001b[0m\n\u001b[1;32m    146\u001b[0m     \u001b[0;32mif\u001b[0m \u001b[0ma1\u001b[0m\u001b[0;34m.\u001b[0m\u001b[0mshape\u001b[0m\u001b[0;34m[\u001b[0m\u001b[0;36m0\u001b[0m\u001b[0;34m]\u001b[0m \u001b[0;34m!=\u001b[0m \u001b[0ma1\u001b[0m\u001b[0;34m.\u001b[0m\u001b[0mshape\u001b[0m\u001b[0;34m[\u001b[0m\u001b[0;36m1\u001b[0m\u001b[0;34m]\u001b[0m\u001b[0;34m:\u001b[0m\u001b[0;34m\u001b[0m\u001b[0m\n\u001b[0;32m--> 147\u001b[0;31m         \u001b[0;32mraise\u001b[0m \u001b[0mValueError\u001b[0m\u001b[0;34m(\u001b[0m\u001b[0;34m'Input a needs to be a square matrix.'\u001b[0m\u001b[0;34m)\u001b[0m\u001b[0;34m\u001b[0m\u001b[0m\n\u001b[0m\u001b[1;32m    148\u001b[0m \u001b[0;34m\u001b[0m\u001b[0m\n\u001b[1;32m    149\u001b[0m     \u001b[0;32mif\u001b[0m \u001b[0mn\u001b[0m \u001b[0;34m!=\u001b[0m \u001b[0mb1\u001b[0m\u001b[0;34m.\u001b[0m\u001b[0mshape\u001b[0m\u001b[0;34m[\u001b[0m\u001b[0;36m0\u001b[0m\u001b[0;34m]\u001b[0m\u001b[0;34m:\u001b[0m\u001b[0;34m\u001b[0m\u001b[0m\n",
      "\u001b[0;31mValueError\u001b[0m: Input a needs to be a square matrix."
     ]
    }
   ],
   "source": [
    "x = linalg.solve(a,b) # только для квадратных матриц"
   ]
  },
  {
   "cell_type": "code",
   "execution_count": 87,
   "metadata": {},
   "outputs": [],
   "source": [
    "x,res,r,s =linalg.lstsq(a,b) # метод наименьших квадратов"
   ]
  },
  {
   "cell_type": "code",
   "execution_count": 88,
   "metadata": {},
   "outputs": [
    {
     "name": "stdout",
     "output_type": "stream",
     "text": [
      "Матрица А:\n",
      " [[ 100 1300 5000    8]\n",
      " [ 120 1500 6000    9]\n",
      " [ 150 1600 6000    9]]\n",
      "Вектор B:\n",
      " [1500000 2000000 2100000]\n",
      "Псевдорешение  системы Х:\n",
      " [14427.29496935 -3328.18849081   877.60628303  -514.48425265]\n"
     ]
    }
   ],
   "source": [
    "print('Матрица А:\\n',a)\n",
    "print('Вектор B:\\n',b)\n",
    "print('Псевдорешение  системы Х:\\n',x)"
   ]
  },
  {
   "cell_type": "code",
   "execution_count": 89,
   "metadata": {},
   "outputs": [
    {
     "name": "stdout",
     "output_type": "stream",
     "text": [
      "2182047.122701656\n"
     ]
    }
   ],
   "source": [
    "c = np.array([140,1400,5500,10])\n",
    "print(np.dot(c,x))"
   ]
  },
  {
   "cell_type": "code",
   "execution_count": 103,
   "metadata": {},
   "outputs": [],
   "source": [
    "a = np.array([[100,1300,5000,8],[120,1500,6000,9],[150,1600,6000,9],[153,1200,6500,7],[90,900,4500,20]])\n",
    "b = np.array([1500000,2000000,2100000,2000000,1300000])\n",
    "x,res,r,s =linalg.lstsq(a,b) # метод наименьших квадратов"
   ]
  },
  {
   "cell_type": "code",
   "execution_count": 104,
   "metadata": {},
   "outputs": [
    {
     "name": "stdout",
     "output_type": "stream",
     "text": [
      "1896310.9982307297\n"
     ]
    }
   ],
   "source": [
    "c = np.array([140,1400,5500,10])\n",
    "print(np.dot(c,x))"
   ]
  },
  {
   "cell_type": "markdown",
   "metadata": {},
   "source": [
    "### NumPy: векторы и операции над ними "
   ]
  },
  {
   "cell_type": "markdown",
   "metadata": {},
   "source": [
    "#### 1. Создание векторов"
   ]
  },
  {
   "cell_type": "code",
   "execution_count": 105,
   "metadata": {},
   "outputs": [
    {
     "data": {
      "text/plain": [
       "array([1, 2, 3, 4])"
      ]
     },
     "execution_count": 105,
     "metadata": {},
     "output_type": "execute_result"
    }
   ],
   "source": [
    "a= np.array([1,2,3,4]) #  тип элементов массива определяется по первому элементу\n",
    "a"
   ]
  },
  {
   "cell_type": "code",
   "execution_count": 106,
   "metadata": {},
   "outputs": [
    {
     "data": {
      "text/plain": [
       "array([1., 2., 3., 5.])"
      ]
     },
     "execution_count": 106,
     "metadata": {},
     "output_type": "execute_result"
    }
   ],
   "source": [
    "b= np.array([1,2,3,5],dtype=float) #  тип элементов можно указывать явно\n",
    "b"
   ]
  },
  {
   "cell_type": "code",
   "execution_count": 107,
   "metadata": {},
   "outputs": [
    {
     "data": {
      "text/plain": [
       "array([ True, False,  True])"
      ]
     },
     "execution_count": 107,
     "metadata": {},
     "output_type": "execute_result"
    }
   ],
   "source": [
    "c= np.array([True,False,True],dtype=bool)\n",
    "c"
   ]
  },
  {
   "cell_type": "code",
   "execution_count": 108,
   "metadata": {},
   "outputs": [
    {
     "data": {
      "text/plain": [
       "dtype('bool')"
      ]
     },
     "execution_count": 108,
     "metadata": {},
     "output_type": "execute_result"
    }
   ],
   "source": [
    "c.dtype"
   ]
  },
  {
   "cell_type": "code",
   "execution_count": 110,
   "metadata": {},
   "outputs": [
    {
     "data": {
      "text/plain": [
       "array([10, 12, 14, 16, 18])"
      ]
     },
     "execution_count": 110,
     "metadata": {},
     "output_type": "execute_result"
    }
   ],
   "source": [
    "d =np.arange(start=10,stop=20,step=2) # последнее значение (20) не попадает в массив\n",
    "d"
   ]
  },
  {
   "cell_type": "code",
   "execution_count": 111,
   "metadata": {},
   "outputs": [
    {
     "data": {
      "text/plain": [
       "array([0. , 0.3, 0.6, 0.9])"
      ]
     },
     "execution_count": 111,
     "metadata": {},
     "output_type": "execute_result"
    }
   ],
   "source": [
    "f =np.arange(start=0,stop=1,step=0.3,dtype=float)\n",
    "f"
   ]
  },
  {
   "cell_type": "code",
   "execution_count": 112,
   "metadata": {},
   "outputs": [
    {
     "data": {
      "text/plain": [
       "1"
      ]
     },
     "execution_count": 112,
     "metadata": {},
     "output_type": "execute_result"
    }
   ],
   "source": [
    "c.ndim # размерность массива"
   ]
  },
  {
   "cell_type": "code",
   "execution_count": 113,
   "metadata": {},
   "outputs": [
    {
     "data": {
      "text/plain": [
       "(3,)"
      ]
     },
     "execution_count": 113,
     "metadata": {},
     "output_type": "execute_result"
    }
   ],
   "source": [
    "c.shape # длина массива"
   ]
  },
  {
   "cell_type": "markdown",
   "metadata": {},
   "source": [
    "#### 2. Операции над векторами"
   ]
  },
  {
   "cell_type": "code",
   "execution_count": 114,
   "metadata": {},
   "outputs": [
    {
     "name": "stdout",
     "output_type": "stream",
     "text": [
      "[1 2 3]\n",
      "[6 5 4]\n",
      "2\n"
     ]
    }
   ],
   "source": [
    "a= np.array([1,2,3])\n",
    "b= np.array([6,5,4])\n",
    "k=2\n",
    "print(a)\n",
    "print(b)\n",
    "print(k)"
   ]
  },
  {
   "cell_type": "code",
   "execution_count": 115,
   "metadata": {},
   "outputs": [
    {
     "data": {
      "text/plain": [
       "array([7, 7, 7])"
      ]
     },
     "execution_count": 115,
     "metadata": {},
     "output_type": "execute_result"
    }
   ],
   "source": [
    "a+b"
   ]
  },
  {
   "cell_type": "code",
   "execution_count": 116,
   "metadata": {},
   "outputs": [
    {
     "data": {
      "text/plain": [
       "array([-5, -3, -1])"
      ]
     },
     "execution_count": 116,
     "metadata": {},
     "output_type": "execute_result"
    }
   ],
   "source": [
    "a-b"
   ]
  },
  {
   "cell_type": "code",
   "execution_count": 117,
   "metadata": {},
   "outputs": [
    {
     "data": {
      "text/plain": [
       "array([ 6, 10, 12])"
      ]
     },
     "execution_count": 117,
     "metadata": {},
     "output_type": "execute_result"
    }
   ],
   "source": [
    "a*b"
   ]
  },
  {
   "cell_type": "code",
   "execution_count": 118,
   "metadata": {},
   "outputs": [
    {
     "data": {
      "text/plain": [
       "array([2, 4, 6])"
      ]
     },
     "execution_count": 118,
     "metadata": {},
     "output_type": "execute_result"
    }
   ],
   "source": [
    "k*a"
   ]
  },
  {
   "cell_type": "markdown",
   "metadata": {},
   "source": [
    "#### 3. Нормы векторов"
   ]
  },
  {
   "cell_type": "code",
   "execution_count": 120,
   "metadata": {},
   "outputs": [],
   "source": [
    "from numpy.linalg import norm #(длина, модуль) "
   ]
  },
  {
   "cell_type": "code",
   "execution_count": 121,
   "metadata": {},
   "outputs": [
    {
     "data": {
      "text/plain": [
       "array([ 1,  2, -3])"
      ]
     },
     "execution_count": 121,
     "metadata": {},
     "output_type": "execute_result"
    }
   ],
   "source": [
    "a=np.array([1,2,-3])\n",
    "a"
   ]
  },
  {
   "cell_type": "code",
   "execution_count": 122,
   "metadata": {},
   "outputs": [
    {
     "data": {
      "text/plain": [
       "6.0"
      ]
     },
     "execution_count": 122,
     "metadata": {},
     "output_type": "execute_result"
    }
   ],
   "source": [
    "norm(a,ord=1) # Манхетенское расстояние"
   ]
  },
  {
   "cell_type": "code",
   "execution_count": 123,
   "metadata": {},
   "outputs": [
    {
     "data": {
      "text/plain": [
       "3.7416573867739413"
      ]
     },
     "execution_count": 123,
     "metadata": {},
     "output_type": "execute_result"
    }
   ],
   "source": [
    "norm(a,ord=2)# Евклидово расстояние"
   ]
  },
  {
   "cell_type": "markdown",
   "metadata": {},
   "source": [
    "#### 4. Расстояние между векторами"
   ]
  },
  {
   "cell_type": "code",
   "execution_count": 124,
   "metadata": {},
   "outputs": [
    {
     "name": "stdout",
     "output_type": "stream",
     "text": [
      "[ 1  2 -3]\n",
      "[-4  3  8]\n"
     ]
    }
   ],
   "source": [
    "a=np.array([1,2,-3])\n",
    "b=np.array([-4,3,8])\n",
    "print(a)\n",
    "print(b)"
   ]
  },
  {
   "cell_type": "code",
   "execution_count": 125,
   "metadata": {},
   "outputs": [
    {
     "data": {
      "text/plain": [
       "17.0"
      ]
     },
     "execution_count": 125,
     "metadata": {},
     "output_type": "execute_result"
    }
   ],
   "source": [
    "norm(a-b,ord=1)"
   ]
  },
  {
   "cell_type": "code",
   "execution_count": 126,
   "metadata": {},
   "outputs": [
    {
     "data": {
      "text/plain": [
       "12.12435565298214"
      ]
     },
     "execution_count": 126,
     "metadata": {},
     "output_type": "execute_result"
    }
   ],
   "source": [
    "norm(a-b,ord=2)"
   ]
  },
  {
   "cell_type": "markdown",
   "metadata": {},
   "source": [
    "#### 5. Скалярное произведение  и угол между векторами"
   ]
  },
  {
   "cell_type": "code",
   "execution_count": 127,
   "metadata": {},
   "outputs": [
    {
     "name": "stdout",
     "output_type": "stream",
     "text": [
      "[ 0  5 -1]\n",
      "[-4  9  3]\n"
     ]
    }
   ],
   "source": [
    "a=np.array([0,5,-1])\n",
    "b=np.array([-4,9,3])\n",
    "print(a)\n",
    "print(b)"
   ]
  },
  {
   "cell_type": "code",
   "execution_count": 131,
   "metadata": {},
   "outputs": [
    {
     "name": "stdout",
     "output_type": "stream",
     "text": [
      "42\n"
     ]
    }
   ],
   "source": [
    "print(np.dot(a,b)) # три варианта скалярного произведения векторов, последний - новый"
   ]
  },
  {
   "cell_type": "code",
   "execution_count": 129,
   "metadata": {},
   "outputs": [
    {
     "name": "stdout",
     "output_type": "stream",
     "text": [
      "42\n"
     ]
    }
   ],
   "source": [
    "print(a.dot(b))"
   ]
  },
  {
   "cell_type": "code",
   "execution_count": 130,
   "metadata": {},
   "outputs": [
    {
     "name": "stdout",
     "output_type": "stream",
     "text": [
      "42\n"
     ]
    }
   ],
   "source": [
    "print(a@b)"
   ]
  },
  {
   "cell_type": "code",
   "execution_count": 132,
   "metadata": {},
   "outputs": [
    {
     "name": "stdout",
     "output_type": "stream",
     "text": [
      "0.8000362836474323\n",
      "0.6434406336093618\n"
     ]
    }
   ],
   "source": [
    "cos_angel =np.dot(a,b)/norm(a)/norm(b)\n",
    "print(cos_angel)\n",
    "print(np.arccos(cos_angel))"
   ]
  },
  {
   "cell_type": "markdown",
   "metadata": {},
   "source": [
    "### NumPy: Матрицы и операции над ними "
   ]
  },
  {
   "cell_type": "markdown",
   "metadata": {},
   "source": [
    "#### 1. Создание матриц"
   ]
  },
  {
   "cell_type": "code",
   "execution_count": 134,
   "metadata": {},
   "outputs": [
    {
     "name": "stdout",
     "output_type": "stream",
     "text": [
      "Matrix A:\n",
      " [[1 2 3]\n",
      " [2 5 6]\n",
      " [6 7 5]]\n"
     ]
    }
   ],
   "source": [
    "a= np.array([[1,2,3],[2,5,6],[6,7,5]])\n",
    "print('Matrix A:\\n',a)"
   ]
  },
  {
   "cell_type": "code",
   "execution_count": 141,
   "metadata": {},
   "outputs": [
    {
     "name": "stdout",
     "output_type": "stream",
     "text": [
      "Диагональная матрица B:\n",
      " [[1. 0. 0. 0. 0.]\n",
      " [0. 1. 0. 0. 0.]\n",
      " [0. 0. 1. 0. 0.]\n",
      " [0. 0. 0. 1. 0.]\n",
      " [0. 0. 0. 0. 1.]]\n"
     ]
    }
   ],
   "source": [
    "b=np.eye(5)\n",
    "print('Диагональная матрица B:\\n',b)"
   ]
  },
  {
   "cell_type": "code",
   "execution_count": 138,
   "metadata": {},
   "outputs": [
    {
     "name": "stdout",
     "output_type": "stream",
     "text": [
      "Матрица из всех едингиц С:\n",
      " [[1. 1. 1. 1.]\n",
      " [1. 1. 1. 1.]\n",
      " [1. 1. 1. 1.]\n",
      " [1. 1. 1. 1.]\n",
      " [1. 1. 1. 1.]\n",
      " [1. 1. 1. 1.]\n",
      " [1. 1. 1. 1.]]\n"
     ]
    }
   ],
   "source": [
    "c=np.ones((7,4))\n",
    "print('Матрица из всех единиц С:\\n',c)"
   ]
  },
  {
   "cell_type": "code",
   "execution_count": 139,
   "metadata": {},
   "outputs": [
    {
     "name": "stdout",
     "output_type": "stream",
     "text": [
      "Вектор-столбец V:\n",
      " [ 0  2  4  6  8 10 12 14 16 18 20 22]\n"
     ]
    }
   ],
   "source": [
    "v=np.arange(0,24,2)\n",
    "print('Вектор-столбец V:\\n',v)"
   ]
  },
  {
   "cell_type": "code",
   "execution_count": 140,
   "metadata": {},
   "outputs": [
    {
     "name": "stdout",
     "output_type": "stream",
     "text": [
      "Matrix D:\n",
      " [[ 0  2  4  6]\n",
      " [ 8 10 12 14]\n",
      " [16 18 20 22]]\n"
     ]
    }
   ],
   "source": [
    "d =v.reshape(3,4) #  Преобразование плоского вектора в матрицу\n",
    "print('Matrix D:\\n',d)"
   ]
  },
  {
   "cell_type": "markdown",
   "metadata": {},
   "source": [
    "#### 2.Индексирование матриц"
   ]
  },
  {
   "cell_type": "code",
   "execution_count": 143,
   "metadata": {},
   "outputs": [
    {
     "name": "stdout",
     "output_type": "stream",
     "text": [
      "Matrix D:\n",
      " [[ 0  2  4  6]\n",
      " [ 8 10 12 14]\n",
      " [16 18 20 22]]\n"
     ]
    }
   ],
   "source": [
    "print('Matrix D:\\n',d)"
   ]
  },
  {
   "cell_type": "code",
   "execution_count": 144,
   "metadata": {},
   "outputs": [
    {
     "name": "stdout",
     "output_type": "stream",
     "text": [
      "Второй элемент 3-й строки марицы D: 18\n"
     ]
    }
   ],
   "source": [
    "print('Второй элемент 3-й строки марицы D:',d[2,1])"
   ]
  },
  {
   "cell_type": "code",
   "execution_count": 145,
   "metadata": {},
   "outputs": [
    {
     "name": "stdout",
     "output_type": "stream",
     "text": [
      "Второй строка марицы D: [ 8 10 12 14]\n"
     ]
    }
   ],
   "source": [
    "print('Второй строка марицы D:',d[1,:])"
   ]
  },
  {
   "cell_type": "code",
   "execution_count": 147,
   "metadata": {},
   "outputs": [
    {
     "name": "stdout",
     "output_type": "stream",
     "text": [
      "4-й столбец марицы D: [ 6 14 22]\n"
     ]
    }
   ],
   "source": [
    "print('4-й столбец марицы D:',d[:,3])"
   ]
  },
  {
   "cell_type": "code",
   "execution_count": 148,
   "metadata": {},
   "outputs": [
    {
     "name": "stdout",
     "output_type": "stream",
     "text": [
      "Элементы d[1,3],d[2,1] марицы D: 14 18\n"
     ]
    }
   ],
   "source": [
    "print('Элементы d[1,3],d[2,1] марицы D:',d[1,3],d[2,1])"
   ]
  },
  {
   "cell_type": "code",
   "execution_count": 152,
   "metadata": {},
   "outputs": [
    {
     "name": "stdout",
     "output_type": "stream",
     "text": [
      "Элементы d[1,2],d[0,3] марицы D: [12  6]\n"
     ]
    }
   ],
   "source": [
    "print('Элементы d[1,2],d[0,3] марицы D:',d[[1,0],[2,3]])"
   ]
  },
  {
   "cell_type": "markdown",
   "metadata": {},
   "source": [
    "#### 3.Векторы, векторы-строки и векторы-столбцы"
   ]
  },
  {
   "cell_type": "code",
   "execution_count": 153,
   "metadata": {},
   "outputs": [],
   "source": [
    "a=np.array([1,2,3])\n",
    "b=np.array([[1],[2],[3]])"
   ]
  },
  {
   "cell_type": "code",
   "execution_count": 158,
   "metadata": {},
   "outputs": [
    {
     "name": "stdout",
     "output_type": "stream",
     "text": [
      "Вектор А: [1 2 3]\n",
      "Его размерность (3,)\n",
      "Двумерный массив B:\n",
      " [[1 2 3]]\n",
      "Его размерность (1, 3)\n"
     ]
    }
   ],
   "source": [
    "print('Вектор А:',a)\n",
    "print('Его размерность',a.shape)\n",
    "print('Двумерный массив B:\\n',b)\n",
    "print('Его размерность',b.shape)"
   ]
  },
  {
   "cell_type": "code",
   "execution_count": 156,
   "metadata": {},
   "outputs": [],
   "source": [
    "a=a.T  # Транспонируем вектор и двумерный массив\n",
    "b=b.T"
   ]
  },
  {
   "cell_type": "code",
   "execution_count": 157,
   "metadata": {},
   "outputs": [
    {
     "name": "stdout",
     "output_type": "stream",
     "text": [
      "Вектор А не изменился: [1 2 3]\n",
      "Его размерность не изменилась (3,)\n",
      "Двухиерный массив B изменился:\n",
      " [[1 2 3]]\n",
      "Его размерность изменилась (1, 3)\n"
     ]
    }
   ],
   "source": [
    "print('Вектор А не изменился:',a)\n",
    "print('Его размерность не изменилась',a.shape)\n",
    "print('Двухиерный массив B изменился:\\n',b)\n",
    "print('Его размерность изменилась',b.shape)"
   ]
  },
  {
   "cell_type": "markdown",
   "metadata": {},
   "source": [
    "#### 4.Умножение матриц и столбцов"
   ]
  },
  {
   "cell_type": "code",
   "execution_count": 159,
   "metadata": {},
   "outputs": [],
   "source": [
    "a=np.array([[1,0],[0,1]])\n",
    "b=np.array([[4,1],[2,2]])\n",
    "r1=np.dot(a,b)\n",
    "r2=a.dot(b)"
   ]
  },
  {
   "cell_type": "code",
   "execution_count": 161,
   "metadata": {},
   "outputs": [
    {
     "name": "stdout",
     "output_type": "stream",
     "text": [
      "Matrix A:\n",
      " [[1 0]\n",
      " [0 1]]\n",
      "Matrix B:\n",
      " [[4 1]\n",
      " [2 2]]\n",
      "Multiplications resalt function:\n",
      " [[4 1]\n",
      " [2 2]]\n",
      "Multiplications resalt method:\n",
      " [[4 1]\n",
      " [2 2]]\n"
     ]
    }
   ],
   "source": [
    "print('Matrix A:\\n',a)\n",
    "print('Matrix B:\\n',b)\n",
    "print('Multiplications resalt function:\\n',r1)\n",
    "print('Multiplications resalt method:\\n',r2)"
   ]
  },
  {
   "cell_type": "code",
   "execution_count": 162,
   "metadata": {},
   "outputs": [],
   "source": [
    "c=np.array([1,2])\n",
    "r3=b.dot(c)"
   ]
  },
  {
   "cell_type": "code",
   "execution_count": 163,
   "metadata": {},
   "outputs": [
    {
     "name": "stdout",
     "output_type": "stream",
     "text": [
      "Matrix B:\n",
      " [[4 1]\n",
      " [2 2]]\n",
      "Vector C:\n",
      " [1 2]\n",
      "Multiplications resalt :\n",
      " [6 6]\n"
     ]
    }
   ],
   "source": [
    "print('Matrix B:\\n',b)\n",
    "print('Vector C:\\n',c)\n",
    "print('Multiplications resalt :\\n',r3)"
   ]
  },
  {
   "cell_type": "code",
   "execution_count": 164,
   "metadata": {},
   "outputs": [],
   "source": [
    "r=a*b"
   ]
  },
  {
   "cell_type": "code",
   "execution_count": 166,
   "metadata": {
    "scrolled": true
   },
   "outputs": [
    {
     "name": "stdout",
     "output_type": "stream",
     "text": [
      "Matrix A:\n",
      " [[1 0]\n",
      " [0 1]]\n",
      "Matrix B:\n",
      " [[4 1]\n",
      " [2 2]]\n",
      "Multiplications resalt elements use *:\n",
      " [[4 0]\n",
      " [0 2]]\n"
     ]
    }
   ],
   "source": [
    "print('Matrix A:\\n',a)\n",
    "print('Matrix B:\\n',b)\n",
    "print('Multiplications resalt elements use *:\\n',r)"
   ]
  },
  {
   "cell_type": "markdown",
   "metadata": {},
   "source": [
    "#### 5.Транспонирование матриц"
   ]
  },
  {
   "cell_type": "code",
   "execution_count": 167,
   "metadata": {},
   "outputs": [],
   "source": [
    "a=np.array([[1,2],[3,4]])\n",
    "b =np.transpose(a)\n",
    "c=a.T"
   ]
  },
  {
   "cell_type": "code",
   "execution_count": 168,
   "metadata": {},
   "outputs": [
    {
     "name": "stdout",
     "output_type": "stream",
     "text": [
      "Matrix A:\n",
      " [[1 2]\n",
      " [3 4]]\n",
      "Transpose resalt function:\n",
      " [[1 3]\n",
      " [2 4]]\n",
      "Transpose resalt method:\n",
      " [[1 3]\n",
      " [2 4]]\n"
     ]
    }
   ],
   "source": [
    "print('Matrix A:\\n',a)\n",
    "print('Transpose resalt function:\\n',b)\n",
    "print('Transpose resalt method:\\n',c)"
   ]
  },
  {
   "cell_type": "markdown",
   "metadata": {},
   "source": [
    "#### 6.Определитель матриц"
   ]
  },
  {
   "cell_type": "code",
   "execution_count": 181,
   "metadata": {},
   "outputs": [],
   "source": [
    "a=np.array([[1,2,1],[1,1,4],[2,3,6]],dtype=np.float32)\n",
    "det =np.linalg.det(a)"
   ]
  },
  {
   "cell_type": "code",
   "execution_count": 182,
   "metadata": {},
   "outputs": [
    {
     "name": "stdout",
     "output_type": "stream",
     "text": [
      "Matrix A:\n",
      " [[1. 2. 1.]\n",
      " [1. 1. 4.]\n",
      " [2. 3. 6.]]\n",
      "Determinant matrix A:\n",
      " -1.0\n"
     ]
    }
   ],
   "source": [
    "print('Matrix A:\\n',a)\n",
    "print('Determinant matrix A:\\n',det)"
   ]
  },
  {
   "cell_type": "markdown",
   "metadata": {},
   "source": [
    "#### 7.Ранг матрицы"
   ]
  },
  {
   "cell_type": "code",
   "execution_count": 184,
   "metadata": {},
   "outputs": [],
   "source": [
    "a=np.array([[1,2,3],[1,1,1],[2,2,2]])\n",
    "r= np.linalg.matrix_rank(a)"
   ]
  },
  {
   "cell_type": "code",
   "execution_count": 185,
   "metadata": {},
   "outputs": [
    {
     "name": "stdout",
     "output_type": "stream",
     "text": [
      "Matrix A:\n",
      " [[1 2 3]\n",
      " [1 1 1]\n",
      " [2 2 2]]\n",
      "Rank matrix A:\n",
      " 2\n"
     ]
    }
   ],
   "source": [
    "print('Matrix A:\\n',a)\n",
    "print('Rank matrix A:\\n',r)"
   ]
  },
  {
   "cell_type": "code",
   "execution_count": 189,
   "metadata": {},
   "outputs": [
    {
     "data": {
      "text/plain": [
       "array([[1, 2, 3],\n",
       "       [1, 1, 1],\n",
       "       [2, 3, 5]])"
      ]
     },
     "execution_count": 189,
     "metadata": {},
     "output_type": "execute_result"
    }
   ],
   "source": [
    "a=np.array([1,2,3])\n",
    "b=np.array([1,1,1])\n",
    "c=np.array([2,3,5])\n",
    "m=np.array([a,b,c])"
   ]
  },
  {
   "cell_type": "code",
   "execution_count": 190,
   "metadata": {},
   "outputs": [
    {
     "name": "stdout",
     "output_type": "stream",
     "text": [
      "True\n"
     ]
    }
   ],
   "source": [
    "print(np.linalg.matrix_rank(m)==m.shape[0]) # Проверяем линейно низависима ли матрица : Ранг=размерности"
   ]
  },
  {
   "cell_type": "markdown",
   "metadata": {},
   "source": [
    "#### 8.Обращение матриц"
   ]
  },
  {
   "cell_type": "code",
   "execution_count": 191,
   "metadata": {},
   "outputs": [],
   "source": [
    "a=np.array([[1,2,1],[1,1,4],[2,3,6]],dtype=np.float32)\n",
    "inv =np.linalg.inv(a)"
   ]
  },
  {
   "cell_type": "code",
   "execution_count": 192,
   "metadata": {},
   "outputs": [
    {
     "name": "stdout",
     "output_type": "stream",
     "text": [
      "Matrix A:\n",
      " [[1. 2. 1.]\n",
      " [1. 1. 4.]\n",
      " [2. 3. 6.]]\n",
      "Invers matrix A:\n",
      " [[ 6.  9. -7.]\n",
      " [-2. -4.  3.]\n",
      " [-1. -1.  1.]]\n",
      "Multiplication matrix A on Invers matrix A:\n",
      " [[1. 0. 0.]\n",
      " [0. 1. 0.]\n",
      " [0. 0. 1.]]\n"
     ]
    }
   ],
   "source": [
    "print('Matrix A:\\n',a)\n",
    "print('Invers matrix A:\\n',inv)\n",
    "print('Multiplication matrix A on Invers matrix A:\\n',a.dot(inv))"
   ]
  },
  {
   "cell_type": "markdown",
   "metadata": {},
   "source": [
    "#### 9.Собственные числа и собственные вектора матрицы"
   ]
  },
  {
   "cell_type": "code",
   "execution_count": 193,
   "metadata": {},
   "outputs": [],
   "source": [
    "a=np.array([[-1,-6],[2,6]])\n",
    "w,v =np.linalg.eig(a)"
   ]
  },
  {
   "cell_type": "code",
   "execution_count": 194,
   "metadata": {},
   "outputs": [
    {
     "name": "stdout",
     "output_type": "stream",
     "text": [
      "Matrix A:\n",
      " [[-1 -6]\n",
      " [ 2  6]]\n",
      "Собственніе числа:\n",
      " [2. 3.]\n",
      "Собственніе вектора:\n",
      " [[-0.89442719  0.83205029]\n",
      " [ 0.4472136  -0.5547002 ]]\n"
     ]
    }
   ],
   "source": [
    "print('Matrix A:\\n',a)\n",
    "print('Собственніе числа:\\n',w)\n",
    "print('Собственніе вектора:\\n',v)"
   ]
  },
  {
   "cell_type": "markdown",
   "metadata": {},
   "source": [
    "#### 10. Комплексные числа в Питоне"
   ]
  },
  {
   "cell_type": "code",
   "execution_count": 199,
   "metadata": {},
   "outputs": [],
   "source": [
    "a=3+2j\n",
    "b=1j"
   ]
  },
  {
   "cell_type": "code",
   "execution_count": 200,
   "metadata": {},
   "outputs": [
    {
     "name": "stdout",
     "output_type": "stream",
     "text": [
      "Complex number a:\n",
      " (3+2j)\n",
      "Complex number b:\n",
      " 1j\n"
     ]
    }
   ],
   "source": [
    "print(\"Complex number a:\\n\",a)\n",
    "print(\"Complex number b:\\n\",b)"
   ]
  },
  {
   "cell_type": "code",
   "execution_count": 201,
   "metadata": {},
   "outputs": [],
   "source": [
    "c=a*a\n",
    "d=a/(4-5j)"
   ]
  },
  {
   "cell_type": "code",
   "execution_count": 202,
   "metadata": {},
   "outputs": [
    {
     "name": "stdout",
     "output_type": "stream",
     "text": [
      "Complex number c:\n",
      " (5+12j)\n",
      "Complex number d:\n",
      " (0.0487804878048781+0.5609756097560976j)\n"
     ]
    }
   ],
   "source": [
    "print(\"Complex number c:\\n\",c)\n",
    "print(\"Complex number d:\\n\",d)"
   ]
  },
  {
   "cell_type": "code",
   "execution_count": null,
   "metadata": {},
   "outputs": [],
   "source": []
  }
 ],
 "metadata": {
  "kernelspec": {
   "display_name": "Python 3",
   "language": "python",
   "name": "python3"
  },
  "language_info": {
   "codemirror_mode": {
    "name": "ipython",
    "version": 3
   },
   "file_extension": ".py",
   "mimetype": "text/x-python",
   "name": "python",
   "nbconvert_exporter": "python",
   "pygments_lexer": "ipython3",
   "version": "3.6.6"
  }
 },
 "nbformat": 4,
 "nbformat_minor": 2
}
