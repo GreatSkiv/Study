{
 "cells": [
  {
   "cell_type": "markdown",
   "metadata": {},
   "source": [
    "# 2. Введение в машинное обучение. Библиотека scikit-learn. Анализ признаков и оценка точности модели"
   ]
  },
  {
   "cell_type": "code",
   "execution_count": 450,
   "metadata": {},
   "outputs": [],
   "source": [
    "import sklearn.datasets # generation,load,use datasets"
   ]
  },
  {
   "cell_type": "markdown",
   "metadata": {},
   "source": [
    "#### dataset iris - 4 feature and 3 classes, 150 row of data"
   ]
  },
  {
   "cell_type": "code",
   "execution_count": 451,
   "metadata": {},
   "outputs": [],
   "source": [
    "# dir(sklearn.datasets) # list of datasets operation: genegate(make),load(fetch),use(load)\n",
    "iris = sklearn.datasets.load_iris()\n",
    "#print(iris.DESCR)  #returns dataset description\n",
    "\n",
    "data = iris.data\n",
    "target = iris.target"
   ]
  },
  {
   "cell_type": "markdown",
   "metadata": {},
   "source": [
    "### Algorithm of model's bild "
   ]
  },
  {
   "cell_type": "markdown",
   "metadata": {},
   "source": [
    "#### Алгоритм классификации по ближайшим соседям. Важна мера растояния"
   ]
  },
  {
   "cell_type": "markdown",
   "metadata": {},
   "source": [
    "При  появлении новой точки считаем все растояния от данной точки, до существующей и выбираем самое минимальное"
   ]
  },
  {
   "cell_type": "markdown",
   "metadata": {},
   "source": [
    "## ШАГ №1 ВИЗУАЛИЗАЦИЯ ПРИЗНАКОВ(если возможно)"
   ]
  },
  {
   "cell_type": "markdown",
   "metadata": {},
   "source": [
    "Перед началом работы надо понять разделимы ли в нашем  простанстве признаков наши данные по классам. Для этого необходимо  визуализировать данные(если возможноб если  признаков много - больше 3 - визуализация уже невозможна ибо мы не моем отобразить больше чем 3-х мерное  пространство)"
   ]
  },
  {
   "cell_type": "markdown",
   "metadata": {},
   "source": [
    "#### В нашем случае строим попарную классификацию"
   ]
  },
  {
   "cell_type": "code",
   "execution_count": 452,
   "metadata": {},
   "outputs": [],
   "source": [
    "import matplotlib.pyplot as plt"
   ]
  },
  {
   "cell_type": "code",
   "execution_count": 453,
   "metadata": {},
   "outputs": [],
   "source": [
    "# plt.scatter - распределение(отображение) точек на пространстве по координатам"
   ]
  },
  {
   "cell_type": "code",
   "execution_count": 454,
   "metadata": {},
   "outputs": [
    {
     "data": {
      "text/plain": [
       "array([0, 0, 0, 0, 0, 0, 0, 0, 0, 0, 0, 0, 0, 0, 0, 0, 0, 0, 0, 0, 0, 0,\n",
       "       0, 0, 0, 0, 0, 0, 0, 0, 0, 0, 0, 0, 0, 0, 0, 0, 0, 0, 0, 0, 0, 0,\n",
       "       0, 0, 0, 0, 0, 0, 1, 1, 1, 1, 1, 1, 1, 1, 1, 1, 1, 1, 1, 1, 1, 1,\n",
       "       1, 1, 1, 1, 1, 1, 1, 1, 1, 1, 1, 1, 1, 1, 1, 1, 1, 1, 1, 1, 1, 1,\n",
       "       1, 1, 1, 1, 1, 1, 1, 1, 1, 1, 1, 1, 2, 2, 2, 2, 2, 2, 2, 2, 2, 2,\n",
       "       2, 2, 2, 2, 2, 2, 2, 2, 2, 2, 2, 2, 2, 2, 2, 2, 2, 2, 2, 2, 2, 2,\n",
       "       2, 2, 2, 2, 2, 2, 2, 2, 2, 2, 2, 2, 2, 2, 2, 2, 2, 2])"
      ]
     },
     "execution_count": 454,
     "metadata": {},
     "output_type": "execute_result"
    }
   ],
   "source": [
    "target"
   ]
  },
  {
   "cell_type": "code",
   "execution_count": 455,
   "metadata": {},
   "outputs": [
    {
     "data": {
      "text/plain": [
       "array([ True,  True,  True,  True,  True,  True,  True,  True,  True,\n",
       "        True,  True,  True,  True,  True,  True,  True,  True,  True,\n",
       "        True,  True,  True,  True,  True,  True,  True,  True,  True,\n",
       "        True,  True,  True,  True,  True,  True,  True,  True,  True,\n",
       "        True,  True,  True,  True,  True,  True,  True,  True,  True,\n",
       "        True,  True,  True,  True,  True, False, False, False, False,\n",
       "       False, False, False, False, False, False, False, False, False,\n",
       "       False, False, False, False, False, False, False, False, False,\n",
       "       False, False, False, False, False, False, False, False, False,\n",
       "       False, False, False, False, False, False, False, False, False,\n",
       "       False, False, False, False, False, False, False, False, False,\n",
       "       False, False, False, False, False, False, False, False, False,\n",
       "       False, False, False, False, False, False, False, False, False,\n",
       "       False, False, False, False, False, False, False, False, False,\n",
       "       False, False, False, False, False, False, False, False, False,\n",
       "       False, False, False, False, False, False, False, False, False,\n",
       "       False, False, False, False, False, False])"
      ]
     },
     "execution_count": 455,
     "metadata": {},
     "output_type": "execute_result"
    }
   ],
   "source": [
    "# используя  свойства  библиотеки NumPy можем выделить конкретный класс\n",
    "target==0"
   ]
  },
  {
   "cell_type": "code",
   "execution_count": 456,
   "metadata": {},
   "outputs": [
    {
     "data": {
      "text/plain": [
       "array([[5.1, 3.5, 1.4, 0.2],\n",
       "       [4.9, 3. , 1.4, 0.2],\n",
       "       [4.7, 3.2, 1.3, 0.2],\n",
       "       [4.6, 3.1, 1.5, 0.2],\n",
       "       [5. , 3.6, 1.4, 0.2],\n",
       "       [5.4, 3.9, 1.7, 0.4],\n",
       "       [4.6, 3.4, 1.4, 0.3],\n",
       "       [5. , 3.4, 1.5, 0.2],\n",
       "       [4.4, 2.9, 1.4, 0.2],\n",
       "       [4.9, 3.1, 1.5, 0.1],\n",
       "       [5.4, 3.7, 1.5, 0.2],\n",
       "       [4.8, 3.4, 1.6, 0.2],\n",
       "       [4.8, 3. , 1.4, 0.1],\n",
       "       [4.3, 3. , 1.1, 0.1],\n",
       "       [5.8, 4. , 1.2, 0.2],\n",
       "       [5.7, 4.4, 1.5, 0.4],\n",
       "       [5.4, 3.9, 1.3, 0.4],\n",
       "       [5.1, 3.5, 1.4, 0.3],\n",
       "       [5.7, 3.8, 1.7, 0.3],\n",
       "       [5.1, 3.8, 1.5, 0.3],\n",
       "       [5.4, 3.4, 1.7, 0.2],\n",
       "       [5.1, 3.7, 1.5, 0.4],\n",
       "       [4.6, 3.6, 1. , 0.2],\n",
       "       [5.1, 3.3, 1.7, 0.5],\n",
       "       [4.8, 3.4, 1.9, 0.2],\n",
       "       [5. , 3. , 1.6, 0.2],\n",
       "       [5. , 3.4, 1.6, 0.4],\n",
       "       [5.2, 3.5, 1.5, 0.2],\n",
       "       [5.2, 3.4, 1.4, 0.2],\n",
       "       [4.7, 3.2, 1.6, 0.2],\n",
       "       [4.8, 3.1, 1.6, 0.2],\n",
       "       [5.4, 3.4, 1.5, 0.4],\n",
       "       [5.2, 4.1, 1.5, 0.1],\n",
       "       [5.5, 4.2, 1.4, 0.2],\n",
       "       [4.9, 3.1, 1.5, 0.2],\n",
       "       [5. , 3.2, 1.2, 0.2],\n",
       "       [5.5, 3.5, 1.3, 0.2],\n",
       "       [4.9, 3.6, 1.4, 0.1],\n",
       "       [4.4, 3. , 1.3, 0.2],\n",
       "       [5.1, 3.4, 1.5, 0.2],\n",
       "       [5. , 3.5, 1.3, 0.3],\n",
       "       [4.5, 2.3, 1.3, 0.3],\n",
       "       [4.4, 3.2, 1.3, 0.2],\n",
       "       [5. , 3.5, 1.6, 0.6],\n",
       "       [5.1, 3.8, 1.9, 0.4],\n",
       "       [4.8, 3. , 1.4, 0.3],\n",
       "       [5.1, 3.8, 1.6, 0.2],\n",
       "       [4.6, 3.2, 1.4, 0.2],\n",
       "       [5.3, 3.7, 1.5, 0.2],\n",
       "       [5. , 3.3, 1.4, 0.2]])"
      ]
     },
     "execution_count": 456,
     "metadata": {},
     "output_type": "execute_result"
    }
   ],
   "source": [
    "# Соответственно чтобы получить  признаки толкьо  нулевого класса необходимо сделать следующее\n",
    "data[target==0]"
   ]
  },
  {
   "cell_type": "code",
   "execution_count": 457,
   "metadata": {},
   "outputs": [
    {
     "data": {
      "text/plain": [
       "array([5.1, 4.9, 4.7, 4.6, 5. , 5.4, 4.6, 5. , 4.4, 4.9, 5.4, 4.8, 4.8,\n",
       "       4.3, 5.8, 5.7, 5.4, 5.1, 5.7, 5.1, 5.4, 5.1, 4.6, 5.1, 4.8, 5. ,\n",
       "       5. , 5.2, 5.2, 4.7, 4.8, 5.4, 5.2, 5.5, 4.9, 5. , 5.5, 4.9, 4.4,\n",
       "       5.1, 5. , 4.5, 4.4, 5. , 5.1, 4.8, 5.1, 4.6, 5.3, 5. ])"
      ]
     },
     "execution_count": 457,
     "metadata": {},
     "output_type": "execute_result"
    }
   ],
   "source": [
    "# получаем  первый столбец(длина  лепестка)\n",
    "data[target==0][:,0]"
   ]
  },
  {
   "cell_type": "code",
   "execution_count": 458,
   "metadata": {},
   "outputs": [
    {
     "data": {
      "text/plain": [
       "array([3.5, 3. , 3.2, 3.1, 3.6, 3.9, 3.4, 3.4, 2.9, 3.1, 3.7, 3.4, 3. ,\n",
       "       3. , 4. , 4.4, 3.9, 3.5, 3.8, 3.8, 3.4, 3.7, 3.6, 3.3, 3.4, 3. ,\n",
       "       3.4, 3.5, 3.4, 3.2, 3.1, 3.4, 4.1, 4.2, 3.1, 3.2, 3.5, 3.6, 3. ,\n",
       "       3.4, 3.5, 2.3, 3.2, 3.5, 3.8, 3. , 3.8, 3.2, 3.7, 3.3])"
      ]
     },
     "execution_count": 458,
     "metadata": {},
     "output_type": "execute_result"
    }
   ],
   "source": [
    "# получаем  второй столбец(ширина лепестка)\n",
    "data[target==0][:,1]"
   ]
  },
  {
   "cell_type": "code",
   "execution_count": 459,
   "metadata": {},
   "outputs": [
    {
     "data": {
      "text/plain": [
       "<matplotlib.collections.PathCollection at 0x7fe2faeb5860>"
      ]
     },
     "execution_count": 459,
     "metadata": {},
     "output_type": "execute_result"
    },
    {
     "data": {
      "image/png": "[encoded data removed]",
      "text/plain": [
       "<Figure size 432x288 with 1 Axes>"
      ]
     },
     "metadata": {
      "needs_background": "light"
     },
     "output_type": "display_data"
    }
   ],
   "source": [
    "plt.scatter(data[target==0][:,0], data[target==0][:,1], marker='+')"
   ]
  },
  {
   "cell_type": "code",
   "execution_count": 460,
   "metadata": {},
   "outputs": [
    {
     "data": {
      "text/plain": [
       "<matplotlib.collections.PathCollection at 0x7fe2fae8cef0>"
      ]
     },
     "execution_count": 460,
     "metadata": {},
     "output_type": "execute_result"
    },
    {
     "data": {
      "image/png": "[encoded data removed]",
      "text/plain": [
       "<Figure size 432x288 with 1 Axes>"
      ]
     },
     "metadata": {
      "needs_background": "light"
     },
     "output_type": "display_data"
    }
   ],
   "source": [
    "# добавляем  на график 2-й класс\n",
    "plt.scatter(data[target==0][:,0], data[target==0][:,1], marker='+')\n",
    "plt.scatter(data[target==1][:,0], data[target==1][:,1], marker='^')"
   ]
  },
  {
   "cell_type": "code",
   "execution_count": 461,
   "metadata": {},
   "outputs": [
    {
     "data": {
      "text/plain": [
       "<matplotlib.collections.PathCollection at 0x7fe2fadf5278>"
      ]
     },
     "execution_count": 461,
     "metadata": {},
     "output_type": "execute_result"
    },
    {
     "data": {
      "image/png": "[encoded data removed]",
      "text/plain": [
       "<Figure size 432x288 with 1 Axes>"
      ]
     },
     "metadata": {
      "needs_background": "light"
     },
     "output_type": "display_data"
    }
   ],
   "source": [
    "# Отображаем все 3 класса\n",
    "plt.scatter(data[target==0][:,0], data[target==0][:,1], marker='+')\n",
    "plt.scatter(data[target==1][:,0], data[target==1][:,1], marker='^')\n",
    "plt.scatter(data[target==2][:,0], data[target==2][:,1], marker='o')"
   ]
  },
  {
   "cell_type": "markdown",
   "metadata": {},
   "source": [
    "#### Вывод : в данном пространствек признаков (0 и 1) мы не смиожем разделить 2 и 3 класс"
   ]
  },
  {
   "cell_type": "markdown",
   "metadata": {},
   "source": [
    "#### Берем 2 и 3 признаки"
   ]
  },
  {
   "cell_type": "code",
   "execution_count": 462,
   "metadata": {},
   "outputs": [
    {
     "data": {
      "text/plain": [
       "<matplotlib.collections.PathCollection at 0x7fe2fad53940>"
      ]
     },
     "execution_count": 462,
     "metadata": {},
     "output_type": "execute_result"
    },
    {
     "data": {
      "image/png": "[encoded data removed]",
      "text/plain": [
       "<Figure size 432x288 with 1 Axes>"
      ]
     },
     "metadata": {
      "needs_background": "light"
     },
     "output_type": "display_data"
    }
   ],
   "source": [
    "plt.scatter(data[target==0][:,2], data[target==0][:,3], marker='+')\n",
    "plt.scatter(data[target==1][:,2], data[target==1][:,3], marker='^')\n",
    "plt.scatter(data[target==2][:,2], data[target==2][:,3], marker='o')"
   ]
  },
  {
   "cell_type": "markdown",
   "metadata": {},
   "source": [
    "Библиотека seaborn - enhances plotting & visualization. Красивые стили. Можно на одном графике постороить все признаки попарно"
   ]
  },
  {
   "cell_type": "markdown",
   "metadata": {},
   "source": [
    "## ШАГ №2 ПОСТРОЕНИЕ МОДЕЛИ"
   ]
  },
  {
   "cell_type": "markdown",
   "metadata": {},
   "source": [
    "Как будем проверять что модель работает?"
   ]
  },
  {
   "cell_type": "markdown",
   "metadata": {},
   "source": [
    "Датасет делим на две части: часть на обучение часть на тестирование"
   ]
  },
  {
   "cell_type": "markdown",
   "metadata": {},
   "source": [
    "#### Шаг 2.0 ВЫбираем алгоритм проверки работы алгоритма"
   ]
  },
  {
   "cell_type": "markdown",
   "metadata": {},
   "source": [
    "Пробуем метод  - обучение модели на всех признаках кроме  одного \"leave one out\""
   ]
  },
  {
   "cell_type": "markdown",
   "metadata": {},
   "source": [
    "#### Шаг 2.1 ВЫбираем алгоритм"
   ]
  },
  {
   "cell_type": "code",
   "execution_count": 463,
   "metadata": {},
   "outputs": [],
   "source": [
    "from sklearn.neighbors import KNeighborsClassifier"
   ]
  },
  {
   "cell_type": "markdown",
   "metadata": {},
   "source": [
    "Это класс, поэтому мы должны создать экземпляр класса с набором параметров(гиперпараметров, изменяя которые можно добиться более высокой точности)"
   ]
  },
  {
   "cell_type": "code",
   "execution_count": 464,
   "metadata": {},
   "outputs": [],
   "source": [
    "cl = KNeighborsClassifier(n_neighbors=3) "
   ]
  },
  {
   "cell_type": "markdown",
   "metadata": {},
   "source": [
    "####  Шаг 2.2  Поводим обучение модели работает одинакова на любых алгоритмах"
   ]
  },
  {
   "cell_type": "code",
   "execution_count": 465,
   "metadata": {},
   "outputs": [
    {
     "data": {
      "text/plain": [
       "KNeighborsClassifier(algorithm='auto', leaf_size=30, metric='minkowski',\n",
       "           metric_params=None, n_jobs=None, n_neighbors=3, p=2,\n",
       "           weights='uniform')"
      ]
     },
     "execution_count": 465,
     "metadata": {},
     "output_type": "execute_result"
    }
   ],
   "source": [
    "# на вход передаем массив признаков(дата) и массив классов(таргет), размерность должна совпадать\n",
    "cl.fit(data[1:], target[1:])  #learning without the first element"
   ]
  },
  {
   "cell_type": "markdown",
   "metadata": {},
   "source": [
    "####  Шаг 2.3  Предсказание"
   ]
  },
  {
   "cell_type": "code",
   "execution_count": 466,
   "metadata": {},
   "outputs": [
    {
     "data": {
      "text/plain": [
       "array([0])"
      ]
     },
     "execution_count": 466,
     "metadata": {},
     "output_type": "execute_result"
    }
   ],
   "source": [
    "# predict - ждет на входе набор значений\n",
    "# используем 0-й объект , который не включили в обучение\n",
    "cl.predict([data[0]])  #using the element that left out from the learning process\n",
    "#returns prediction in array form"
   ]
  },
  {
   "cell_type": "code",
   "execution_count": 467,
   "metadata": {},
   "outputs": [],
   "source": [
    "# такак как 0-й объекти действительно относился к 0-му классу , значит наша модель сработала со 100% результатом\n",
    "#(точность=100%)"
   ]
  },
  {
   "cell_type": "markdown",
   "metadata": {},
   "source": [
    "#### Конец предсказания"
   ]
  },
  {
   "cell_type": "markdown",
   "metadata": {},
   "source": [
    "#### Вопрос какая точность нашей модели в целом? Как ее определить? Какие метрики использовать?"
   ]
  },
  {
   "cell_type": "markdown",
   "metadata": {},
   "source": [
    "Самый простой вариант посчитать сколько значений угадали. в скольких  ошиблись и посчитать в % соотношении"
   ]
  },
  {
   "cell_type": "markdown",
   "metadata": {},
   "source": [
    "### Класический метод тестированияточности  моделей - КРОСС-ВАЛИДАЦИЯ(завышает оценку -это минус,  но не чувствителен к overfitting- переобучении модели(например реагирование  на выбросы)"
   ]
  },
  {
   "cell_type": "markdown",
   "metadata": {},
   "source": [
    "###  МЕТОД КРОСС-ВАЛИДАЦИИ"
   ]
  },
  {
   "cell_type": "markdown",
   "metadata": {},
   "source": [
    "<img src ='./crossvalidation.png'>"
   ]
  },
  {
   "cell_type": "markdown",
   "metadata": {},
   "source": [
    "#### Шаг №1 Выбираем модель реализовующу кросс-валидацию"
   ]
  },
  {
   "cell_type": "code",
   "execution_count": 468,
   "metadata": {},
   "outputs": [],
   "source": [
    "from sklearn.model_selection import KFold"
   ]
  },
  {
   "cell_type": "markdown",
   "metadata": {},
   "source": [
    "### Example"
   ]
  },
  {
   "cell_type": "code",
   "execution_count": 469,
   "metadata": {},
   "outputs": [],
   "source": [
    "import numpy as np"
   ]
  },
  {
   "cell_type": "code",
   "execution_count": 470,
   "metadata": {},
   "outputs": [
    {
     "data": {
      "text/plain": [
       "array([0, 1, 2, 3, 4, 5, 6, 7, 8, 9])"
      ]
     },
     "execution_count": 470,
     "metadata": {},
     "output_type": "execute_result"
    }
   ],
   "source": [
    "a = np.arange(10)\n",
    "a"
   ]
  },
  {
   "cell_type": "code",
   "execution_count": 471,
   "metadata": {},
   "outputs": [],
   "source": [
    "kf = KFold(n_splits=5)  #five subsets (training set + test set), сколько итераций(разбиений)"
   ]
  },
  {
   "cell_type": "code",
   "execution_count": 472,
   "metadata": {},
   "outputs": [],
   "source": [
    "# Просматриваем разбиение массива в 5 итерациях (БЕРЕМ % потому как это  соответствует распределению данных 20(тест)/80(обучение))"
   ]
  },
  {
   "cell_type": "code",
   "execution_count": 473,
   "metadata": {},
   "outputs": [
    {
     "name": "stdout",
     "output_type": "stream",
     "text": [
      "[2 3 4 5 6 7 8 9] [0 1]\n",
      "[0 1 4 5 6 7 8 9] [2 3]\n",
      "[0 1 2 3 6 7 8 9] [4 5]\n",
      "[0 1 2 3 4 5 8 9] [6 7]\n",
      "[0 1 2 3 4 5 6 7] [8 9]\n"
     ]
    }
   ],
   "source": [
    "for tr, ts in kf.split(a):   #tr = training set, ts = test set, but tr and ts are lists of index\n",
    "    print(tr, ts)"
   ]
  },
  {
   "cell_type": "markdown",
   "metadata": {},
   "source": [
    "##### Но для нашего iris датасета использование кросс-валидации проблемное. Наша тестовая выборка может попасть в один класс  и для в обучающем датасете останется мало значений этого класса  "
   ]
  },
  {
   "cell_type": "markdown",
   "metadata": {},
   "source": [
    "#### Чтобы данные  брались для кросс-валидации не подряд а случайным образом используем гипер параметр shuffle=True"
   ]
  },
  {
   "cell_type": "code",
   "execution_count": 474,
   "metadata": {},
   "outputs": [],
   "source": [
    "kf = KFold(n_splits=5, shuffle=True)  #shuffle returns randomised test sets, fits better"
   ]
  },
  {
   "cell_type": "code",
   "execution_count": 475,
   "metadata": {},
   "outputs": [
    {
     "name": "stdout",
     "output_type": "stream",
     "text": [
      "[0 1 2 3 4 5 6 9] [7 8]\n",
      "[0 1 2 5 6 7 8 9] [3 4]\n",
      "[0 3 4 5 6 7 8 9] [1 2]\n",
      "[1 2 3 4 5 6 7 8] [0 9]\n",
      "[0 1 2 3 4 7 8 9] [5 6]\n"
     ]
    }
   ],
   "source": [
    "for tr, ts in kf.split(a):  #tr = training set, ts = test set, but tr and ts are lists of index\n",
    "    print(tr, ts)"
   ]
  },
  {
   "cell_type": "code",
   "execution_count": 476,
   "metadata": {},
   "outputs": [],
   "source": [
    "#  можем посмотреть  разбивку нашего датасета\n",
    "#for tr, ts in kf.split(data):  \n",
    "#       print(tr, ts)"
   ]
  },
  {
   "cell_type": "markdown",
   "metadata": {},
   "source": [
    "## ШАГ №2А ПОСТРОЕНИЕ МОДЕЛИ И АНАЛИЗ ОШИБОК С ИСПОЛЬЗОВАНИЕМ КРОСС-ВАЛИДАЦИИ"
   ]
  },
  {
   "cell_type": "code",
   "execution_count": 477,
   "metadata": {},
   "outputs": [],
   "source": [
    "errors=[]\n",
    "for tr, ts in kf.split(data): #tr = training set, ts = test set, but tr and ts are lists of index   \n",
    "    cl.fit(data[tr], target[tr])\n",
    "    errors.append(sum(target[ts] != cl.predict(data[ts])))  # получаем массивы(для каждой итерации) False-True \n",
    "    # и складываем True(1)"
   ]
  },
  {
   "cell_type": "code",
   "execution_count": 478,
   "metadata": {},
   "outputs": [
    {
     "data": {
      "text/plain": [
       "[1, 2, 0, 1, 1]"
      ]
     },
     "execution_count": 478,
     "metadata": {},
     "output_type": "execute_result"
    }
   ],
   "source": [
    "errors"
   ]
  },
  {
   "cell_type": "markdown",
   "metadata": {},
   "source": [
    "#### что мы видим в итоге? Каждый из объектов благодаря кросс-валидации побывал в тестовой выборке. соответственнно за 5 итераций все 150 объектов были в тестовом датасете и соответственно  доля ошибок  (2+1+1+1+1)/150 = 0,04 или 4% и ТОЧНОСТЬ 96%"
   ]
  },
  {
   "cell_type": "code",
   "execution_count": 479,
   "metadata": {},
   "outputs": [
    {
     "data": {
      "text/plain": [
       "array([  0,   2,   3,   7,   8,  18,  20,  27,  29,  32,  34,  37,  47,\n",
       "        54,  59,  66,  79,  81,  82,  84,  95,  97, 111, 116, 119, 122,\n",
       "       126, 134, 143, 144])"
      ]
     },
     "execution_count": 479,
     "metadata": {},
     "output_type": "execute_result"
    }
   ],
   "source": [
    "ts # индекс тестовых элементов в дата сете (30 шт)"
   ]
  },
  {
   "cell_type": "code",
   "execution_count": 480,
   "metadata": {},
   "outputs": [
    {
     "data": {
      "text/plain": [
       "array([0, 0, 0, 0, 0, 0, 0, 0, 0, 0, 0, 0, 0, 1, 1, 1, 1, 1, 1, 1, 1, 1,\n",
       "       2, 2, 2, 2, 2, 2, 2, 2])"
      ]
     },
     "execution_count": 480,
     "metadata": {},
     "output_type": "execute_result"
    }
   ],
   "source": [
    "target[ts] # значения элементов - классов  для тестовых данных"
   ]
  },
  {
   "cell_type": "code",
   "execution_count": 481,
   "metadata": {},
   "outputs": [
    {
     "data": {
      "text/plain": [
       "array([0, 0, 0, 0, 0, 0, 0, 0, 0, 0, 0, 0, 0, 1, 1, 1, 1, 1, 1, 1, 1, 1,\n",
       "       2, 2, 1, 2, 2, 2, 2, 2])"
      ]
     },
     "execution_count": 481,
     "metadata": {},
     "output_type": "execute_result"
    }
   ],
   "source": [
    "cl.predict(data[ts]) # предсказанные значения классов"
   ]
  },
  {
   "cell_type": "code",
   "execution_count": 482,
   "metadata": {},
   "outputs": [
    {
     "data": {
      "text/plain": [
       "array([False, False, False, False, False, False, False, False, False,\n",
       "       False, False, False, False, False, False, False, False, False,\n",
       "       False, False, False, False, False, False,  True, False, False,\n",
       "       False, False, False])"
      ]
     },
     "execution_count": 482,
     "metadata": {},
     "output_type": "execute_result"
    }
   ],
   "source": [
    "target[ts] != cl.predict(data[ts])"
   ]
  },
  {
   "cell_type": "markdown",
   "metadata": {},
   "source": [
    "#### В случае низких результатов точности предсказная можно полпробовать подстроить гипперпараметры в текущей модели или выбрать другую модель"
   ]
  },
  {
   "cell_type": "markdown",
   "metadata": {},
   "source": [
    "## ШАГ №3  ПОДСТРОЙКА ГИПЕРПАРАМЕТРОВ"
   ]
  },
  {
   "cell_type": "code",
   "execution_count": 483,
   "metadata": {},
   "outputs": [],
   "source": [
    "# list of hiperparams:\n",
    "#KNeighborsClassifier(algorithm='auto', leaf_size=30, metric='minkowski',\n",
    "#           metric_params=None, n_jobs=None, n_neighbors=3, p=2,\n",
    "#           weights='uniform')"
   ]
  },
  {
   "cell_type": "markdown",
   "metadata": {},
   "source": [
    "#### Change quantity n_neighbors"
   ]
  },
  {
   "cell_type": "code",
   "execution_count": 484,
   "metadata": {},
   "outputs": [
    {
     "data": {
      "text/plain": [
       "[<matplotlib.lines.Line2D at 0x7fe2facd0a58>]"
      ]
     },
     "execution_count": 484,
     "metadata": {},
     "output_type": "execute_result"
    },
    {
     "data": {
      "image/png": "[encoded data removed]",
      "text/plain": [
       "<Figure size 432x288 with 1 Axes>"
      ]
     },
     "metadata": {
      "needs_background": "light"
     },
     "output_type": "display_data"
    }
   ],
   "source": [
    "#changing hypper-parametres for KNeighborsClassifier:\n",
    "gl_errors = []\n",
    "for i in range(1, 50):\n",
    "    errors = 0\n",
    "    cl = KNeighborsClassifier(n_neighbors=i)\n",
    "    for tr, ts in kf.split(data):\n",
    "        cl.fit(data[tr], target[tr])\n",
    "        errors += sum(target[ts] != cl.predict(data[ts]))\n",
    "    gl_errors.append(100 - errors/len(data) * 100)\n",
    "# строим  график ТОЧНОСТИ работы нашей модели с измененными гипперпараметрами        \n",
    "plt.plot(gl_errors)\n"
   ]
  },
  {
   "cell_type": "markdown",
   "metadata": {},
   "source": [
    "## ШАГ №4  ПОДБОР МОДЕЛИ"
   ]
  },
  {
   "cell_type": "markdown",
   "metadata": {},
   "source": [
    "### Классификатор на основе деревьев решений Decision Trees"
   ]
  },
  {
   "cell_type": "code",
   "execution_count": 485,
   "metadata": {},
   "outputs": [],
   "source": [
    "from sklearn.tree import DecisionTreeClassifier"
   ]
  },
  {
   "cell_type": "code",
   "execution_count": 486,
   "metadata": {},
   "outputs": [],
   "source": [
    "dt = DecisionTreeClassifier()"
   ]
  },
  {
   "cell_type": "markdown",
   "metadata": {},
   "source": [
    "##### Пробуем метод - обучение модели на всех признаках кроме одного \"leave one out\""
   ]
  },
  {
   "cell_type": "code",
   "execution_count": 487,
   "metadata": {},
   "outputs": [
    {
     "data": {
      "text/plain": [
       "DecisionTreeClassifier(class_weight=None, criterion='gini', max_depth=None,\n",
       "            max_features=None, max_leaf_nodes=None,\n",
       "            min_impurity_decrease=0.0, min_impurity_split=None,\n",
       "            min_samples_leaf=1, min_samples_split=2,\n",
       "            min_weight_fraction_leaf=0.0, presort=False, random_state=None,\n",
       "            splitter='best')"
      ]
     },
     "execution_count": 487,
     "metadata": {},
     "output_type": "execute_result"
    }
   ],
   "source": [
    "dt.fit(data[1:], target[1:])\n"
   ]
  },
  {
   "cell_type": "code",
   "execution_count": 488,
   "metadata": {},
   "outputs": [
    {
     "data": {
      "text/plain": [
       "array([0])"
      ]
     },
     "execution_count": 488,
     "metadata": {},
     "output_type": "execute_result"
    }
   ],
   "source": [
    "dt.predict([data[0]])"
   ]
  },
  {
   "cell_type": "markdown",
   "metadata": {},
   "source": [
    "#### Пробуем Кросс-валидацию"
   ]
  },
  {
   "cell_type": "code",
   "execution_count": 489,
   "metadata": {},
   "outputs": [],
   "source": [
    "errors = 0\n",
    "for tr, ts in kf.split(data):   \n",
    "    dt.fit(data[tr], target[tr])\n",
    "    errors += sum(target[ts] != dt.predict(data[ts]))"
   ]
  },
  {
   "cell_type": "code",
   "execution_count": 490,
   "metadata": {},
   "outputs": [
    {
     "data": {
      "text/plain": [
       "6"
      ]
     },
     "execution_count": 490,
     "metadata": {},
     "output_type": "execute_result"
    }
   ],
   "source": [
    "errors"
   ]
  },
  {
   "cell_type": "markdown",
   "metadata": {},
   "source": [
    "#### И так 10 ошибок из 150 = 0,0667  или 6,67% ю Тоесть ТОЧНОСТЬ 93,33%"
   ]
  },
  {
   "cell_type": "markdown",
   "metadata": {},
   "source": [
    "kNN fits better"
   ]
  },
  {
   "cell_type": "markdown",
   "metadata": {},
   "source": [
    "#### Пробуем визуализировать дерево решений"
   ]
  },
  {
   "cell_type": "code",
   "execution_count": 491,
   "metadata": {},
   "outputs": [],
   "source": [
    "import graphviz"
   ]
  },
  {
   "cell_type": "code",
   "execution_count": 492,
   "metadata": {},
   "outputs": [
    {
     "data": {
      "text/plain": [
       "'iris.pdf'"
      ]
     },
     "execution_count": 492,
     "metadata": {},
     "output_type": "execute_result"
    }
   ],
   "source": [
    "import sklearn.tree\n",
    "dot_data = sklearn.tree.export_graphviz(dt, out_file=None)\n",
    "graph = graphviz.Source(dot_data)\n",
    "graph.render('iris')  #returns pdf file with a decision tree visualization\n"
   ]
  },
  {
   "cell_type": "markdown",
   "metadata": {},
   "source": [
    "#### В рассмотренных выше примера мы совершенное не использовали следующий инструмент- Проектува́ння озна́к (англ. feature engineering) — це процес застосування знань предметної галузі для створення ознак, які забезпечують роботу алгоритмів машинного навчання."
   ]
  },
  {
   "cell_type": "markdown",
   "metadata": {},
   "source": [
    "Например использование  вместо длины и ширины цветка, отношение  длинны к ширине. Получим меньшее количество признаков и возможно о но будет более устойчивым  к  задачам  ML"
   ]
  },
  {
   "cell_type": "code",
   "execution_count": 493,
   "metadata": {},
   "outputs": [
    {
     "data": {
      "text/plain": [
       "array([1.45714286, 1.63333333, 1.46875   , 1.48387097, 1.38888889,\n",
       "       1.38461538, 1.35294118, 1.47058824, 1.51724138, 1.58064516,\n",
       "       1.45945946, 1.41176471, 1.6       , 1.43333333, 1.45      ,\n",
       "       1.29545455, 1.38461538, 1.45714286, 1.5       , 1.34210526,\n",
       "       1.58823529, 1.37837838, 1.27777778, 1.54545455, 1.41176471,\n",
       "       1.66666667, 1.47058824, 1.48571429, 1.52941176, 1.46875   ,\n",
       "       1.5483871 , 1.58823529, 1.26829268, 1.30952381, 1.58064516,\n",
       "       1.5625    , 1.57142857, 1.36111111, 1.46666667, 1.5       ,\n",
       "       1.42857143, 1.95652174, 1.375     , 1.42857143, 1.34210526,\n",
       "       1.6       , 1.34210526, 1.4375    , 1.43243243, 1.51515152,\n",
       "       2.1875    , 2.        , 2.22580645, 2.39130435, 2.32142857,\n",
       "       2.03571429, 1.90909091, 2.04166667, 2.27586207, 1.92592593,\n",
       "       2.5       , 1.96666667, 2.72727273, 2.10344828, 1.93103448,\n",
       "       2.16129032, 1.86666667, 2.14814815, 2.81818182, 2.24      ,\n",
       "       1.84375   , 2.17857143, 2.52      , 2.17857143, 2.20689655,\n",
       "       2.2       , 2.42857143, 2.23333333, 2.06896552, 2.19230769,\n",
       "       2.29166667, 2.29166667, 2.14814815, 2.22222222, 1.8       ,\n",
       "       1.76470588, 2.16129032, 2.73913043, 1.86666667, 2.2       ,\n",
       "       2.11538462, 2.03333333, 2.23076923, 2.17391304, 2.07407407,\n",
       "       1.9       , 1.96551724, 2.13793103, 2.04      , 2.03571429,\n",
       "       1.90909091, 2.14814815, 2.36666667, 2.17241379, 2.16666667,\n",
       "       2.53333333, 1.96      , 2.51724138, 2.68      , 2.        ,\n",
       "       2.03125   , 2.37037037, 2.26666667, 2.28      , 2.07142857,\n",
       "       2.        , 2.16666667, 2.02631579, 2.96153846, 2.72727273,\n",
       "       2.15625   , 2.        , 2.75      , 2.33333333, 2.03030303,\n",
       "       2.25      , 2.21428571, 2.03333333, 2.28571429, 2.4       ,\n",
       "       2.64285714, 2.07894737, 2.28571429, 2.25      , 2.34615385,\n",
       "       2.56666667, 1.85294118, 2.06451613, 2.        , 2.22580645,\n",
       "       2.16129032, 2.22580645, 2.14814815, 2.125     , 2.03030303,\n",
       "       2.23333333, 2.52      , 2.16666667, 1.82352941, 1.96666667])"
      ]
     },
     "execution_count": 493,
     "metadata": {},
     "output_type": "execute_result"
    }
   ],
   "source": [
    "data[:,0]/data[:,1]"
   ]
  },
  {
   "cell_type": "code",
   "execution_count": 494,
   "metadata": {},
   "outputs": [
    {
     "data": {
      "text/plain": [
       "<matplotlib.collections.PathCollection at 0x7fe2faca8cf8>"
      ]
     },
     "execution_count": 494,
     "metadata": {},
     "output_type": "execute_result"
    },
    {
     "data": {
      "image/png": "[encoded data removed]",
      "text/plain": [
       "<Figure size 432x288 with 1 Axes>"
      ]
     },
     "metadata": {
      "needs_background": "light"
     },
     "output_type": "display_data"
    }
   ],
   "source": [
    "plt.scatter(data[target==0][:,0]/data[target==0][:,1], data[target==0][:,2]/data[target==0][:,3], marker='+')\n",
    "plt.scatter(data[target==1][:,0]/data[target==1][:,1], data[target==1][:,2]/data[target==1][:,3], marker='^')\n",
    "plt.scatter(data[target==2][:,0]/data[target==2][:,1], data[target==2][:,2]/data[target==2][:,3], marker='o')"
   ]
  },
  {
   "cell_type": "markdown",
   "metadata": {},
   "source": [
    "## Regression"
   ]
  },
  {
   "cell_type": "markdown",
   "metadata": {},
   "source": [
    "Расссматриваем классический датасет с параметрами недвижимости, по которым необходимо обучить модель для предсказания цен на недвижимость"
   ]
  },
  {
   "cell_type": "code",
   "execution_count": 495,
   "metadata": {},
   "outputs": [
    {
     "name": "stdout",
     "output_type": "stream",
     "text": [
      ".. _boston_dataset:\n",
      "\n",
      "Boston house prices dataset\n",
      "---------------------------\n",
      "\n",
      "**Data Set Characteristics:**  \n",
      "\n",
      "    :Number of Instances: 506 \n",
      "\n",
      "    :Number of Attributes: 13 numeric/categorical predictive. Median Value (attribute 14) is usually the target.\n",
      "\n",
      "    :Attribute Information (in order):\n",
      "        - CRIM     per capita crime rate by town\n",
      "        - ZN       proportion of residential land zoned for lots over 25,000 sq.ft.\n",
      "        - INDUS    proportion of non-retail business acres per town\n",
      "        - CHAS     Charles River dummy variable (= 1 if tract bounds river; 0 otherwise)\n",
      "        - NOX      nitric oxides concentration (parts per 10 million)\n",
      "        - RM       average number of rooms per dwelling\n",
      "        - AGE      proportion of owner-occupied units built prior to 1940\n",
      "        - DIS      weighted distances to five Boston employment centres\n",
      "        - RAD      index of accessibility to radial highways\n",
      "        - TAX      full-value property-tax rate per $10,000\n",
      "        - PTRATIO  pupil-teacher ratio by town\n",
      "        - B        1000(Bk - 0.63)^2 where Bk is the proportion of blacks by town\n",
      "        - LSTAT    % lower status of the population\n",
      "        - MEDV     Median value of owner-occupied homes in $1000's\n",
      "\n",
      "    :Missing Attribute Values: None\n",
      "\n",
      "    :Creator: Harrison, D. and Rubinfeld, D.L.\n",
      "\n",
      "This is a copy of UCI ML housing dataset.\n",
      "https://archive.ics.uci.edu/ml/machine-learning-databases/housing/\n",
      "\n",
      "\n",
      "This dataset was taken from the StatLib library which is maintained at Carnegie Mellon University.\n",
      "\n",
      "The Boston house-price data of Harrison, D. and Rubinfeld, D.L. 'Hedonic\n",
      "prices and the demand for clean air', J. Environ. Economics & Management,\n",
      "vol.5, 81-102, 1978.   Used in Belsley, Kuh & Welsch, 'Regression diagnostics\n",
      "...', Wiley, 1980.   N.B. Various transformations are used in the table on\n",
      "pages 244-261 of the latter.\n",
      "\n",
      "The Boston house-price data has been used in many machine learning papers that address regression\n",
      "problems.   \n",
      "     \n",
      ".. topic:: References\n",
      "\n",
      "   - Belsley, Kuh & Welsch, 'Regression diagnostics: Identifying Influential Data and Sources of Collinearity', Wiley, 1980. 244-261.\n",
      "   - Quinlan,R. (1993). Combining Instance-Based and Model-Based Learning. In Proceedings on the Tenth International Conference of Machine Learning, 236-243, University of Massachusetts, Amherst. Morgan Kaufmann.\n",
      "\n"
     ]
    }
   ],
   "source": [
    "boston = sklearn.datasets.load_boston()\n",
    "print(boston.DESCR)"
   ]
  },
  {
   "cell_type": "code",
   "execution_count": 496,
   "metadata": {},
   "outputs": [],
   "source": [
    "data = boston.data\n",
    "target = boston.target"
   ]
  },
  {
   "cell_type": "code",
   "execution_count": 497,
   "metadata": {},
   "outputs": [
    {
     "data": {
      "text/plain": [
       "(506, 13)"
      ]
     },
     "execution_count": 497,
     "metadata": {},
     "output_type": "execute_result"
    }
   ],
   "source": [
    "data.shape"
   ]
  },
  {
   "cell_type": "code",
   "execution_count": 498,
   "metadata": {},
   "outputs": [
    {
     "data": {
      "text/plain": [
       "(506,)"
      ]
     },
     "execution_count": 498,
     "metadata": {},
     "output_type": "execute_result"
    }
   ],
   "source": [
    "target.shape"
   ]
  },
  {
   "cell_type": "markdown",
   "metadata": {},
   "source": [
    "### Используем классическую ЛИНЕЙНУЮ РЕГРЕСИЮ. Метод наименьших квадратов в 12 -мерном пространстве"
   ]
  },
  {
   "cell_type": "markdown",
   "metadata": {},
   "source": [
    "Так как мы имеем большое количество значений и 12 параметров визуализация не имеет смысла"
   ]
  },
  {
   "cell_type": "markdown",
   "metadata": {},
   "source": [
    "##### Пробуем метод - обучение модели на всех признаках кроме одного \"leave one out\""
   ]
  },
  {
   "cell_type": "code",
   "execution_count": 499,
   "metadata": {},
   "outputs": [],
   "source": [
    "from sklearn.linear_model import LinearRegression"
   ]
  },
  {
   "cell_type": "code",
   "execution_count": 500,
   "metadata": {},
   "outputs": [
    {
     "data": {
      "text/plain": [
       "array([30.10720655])"
      ]
     },
     "execution_count": 500,
     "metadata": {},
     "output_type": "execute_result"
    }
   ],
   "source": [
    "from sklearn.linear_model import LinearRegression\n",
    "lr = LinearRegression()\n",
    "lr.fit(data[1:], target[1:]) # используем для обучения все данные и таргеты без о-го\n",
    "lr.predict([data[0]])  #shows prediction for 0-element"
   ]
  },
  {
   "cell_type": "code",
   "execution_count": 501,
   "metadata": {},
   "outputs": [
    {
     "data": {
      "text/plain": [
       "24.0"
      ]
     },
     "execution_count": 501,
     "metadata": {},
     "output_type": "execute_result"
    }
   ],
   "source": [
    "target[0]  #shows real data for 0-element"
   ]
  },
  {
   "cell_type": "code",
   "execution_count": 502,
   "metadata": {},
   "outputs": [
    {
     "data": {
      "text/plain": [
       "array([6.10720655])"
      ]
     },
     "execution_count": 502,
     "metadata": {},
     "output_type": "execute_result"
    }
   ],
   "source": [
    "abs(lr.predict([data[0]]) - target[0])  #returns abs error"
   ]
  },
  {
   "cell_type": "markdown",
   "metadata": {},
   "source": [
    "#### Как  видим  ошибка значительна"
   ]
  },
  {
   "cell_type": "markdown",
   "metadata": {},
   "source": [
    "#### Пробуем Кросс-валидацию KFold"
   ]
  },
  {
   "cell_type": "markdown",
   "metadata": {},
   "source": [
    "В данном случае ошибку считаем не на равно/неравно(точное совпадение крайне  редко), а считаем разность"
   ]
  },
  {
   "cell_type": "code",
   "execution_count": 512,
   "metadata": {},
   "outputs": [],
   "source": [
    "errors = []\n",
    "for tr, ts in kf.split(data):   \n",
    "    lr.fit(data[tr], target[tr])\n",
    "    errors.extend(list(np.abs(lr.predict(data[ts]) - target[ts])))"
   ]
  },
  {
   "cell_type": "code",
   "execution_count": 507,
   "metadata": {},
   "outputs": [
    {
     "data": {
      "text/plain": [
       "[[5.374111567454644,\n",
       "  2.4782776523175514,\n",
       "  1.3274517745943228,\n",
       "  0.097306010003404,\n",
       "  1.8804750490244686,\n",
       "  1.395091194552144,\n",
       "  0.2001811904690669,\n",
       "  0.21188457455873078,\n",
       "  3.4139752393756915,\n",
       "  4.493477590539907,\n",
       "  1.5509640204999933,\n",
       "  0.12276785198218221,\n",
       "  0.02432459282577426,\n",
       "  0.6230366092748589,\n",
       "  3.0889038145308305,\n",
       "  2.1567703356220953,\n",
       "  0.4213672158539481,\n",
       "  7.36673068268021,\n",
       "  2.3995126382848895,\n",
       "  0.7893681310054355,\n",
       "  2.1808848449558127,\n",
       "  0.5841183463501842,\n",
       "  3.9719960701454156,\n",
       "  0.07689785864527465,\n",
       "  1.7790017802022255,\n",
       "  2.2949671760344437,\n",
       "  3.4453744694210418,\n",
       "  1.0901471622150716,\n",
       "  5.2173220319505695,\n",
       "  1.7847423996352703,\n",
       "  5.363711345990721,\n",
       "  1.0251864446549224,\n",
       "  8.724588410064626,\n",
       "  5.356202288086582,\n",
       "  0.24964253513973134,\n",
       "  3.8315269062126163,\n",
       "  2.662369746030773,\n",
       "  2.368618205923479,\n",
       "  0.0975070587922815,\n",
       "  3.3869601755882677,\n",
       "  9.93144356078605,\n",
       "  0.8366712369335332,\n",
       "  11.211705876837016,\n",
       "  1.645822492073524,\n",
       "  3.4685976832143837,\n",
       "  1.0720785524409138,\n",
       "  1.2361954900076313,\n",
       "  1.679459559868608,\n",
       "  2.300335655913127,\n",
       "  4.833769842708893,\n",
       "  12.856198415934962,\n",
       "  7.571242144335876,\n",
       "  5.240478235174308,\n",
       "  4.138541884888117,\n",
       "  1.9582719916882567,\n",
       "  5.31764902497277,\n",
       "  0.12727354752727038,\n",
       "  3.364407606355769,\n",
       "  4.337034675644663,\n",
       "  2.4275205747318758,\n",
       "  1.9436044210151309,\n",
       "  1.914270678125547,\n",
       "  0.48172749305049933,\n",
       "  0.6092632324046043,\n",
       "  0.9188927453863442,\n",
       "  0.6261921593893867,\n",
       "  3.7753144288037817,\n",
       "  1.275090271626759,\n",
       "  13.78205678510232,\n",
       "  12.519069056925666,\n",
       "  13.846579093035967,\n",
       "  4.063868534673654,\n",
       "  6.080148835732803,\n",
       "  2.42474851843283,\n",
       "  1.655616015393628,\n",
       "  6.86116984460258,\n",
       "  4.444852977667081,\n",
       "  4.711823068543719,\n",
       "  3.6298008936065784,\n",
       "  2.5807365724504514,\n",
       "  6.172804670564677,\n",
       "  3.194452174240638,\n",
       "  5.454208097939116,\n",
       "  2.7589281853611816,\n",
       "  3.667033697525591,\n",
       "  2.5082293350918814,\n",
       "  5.171725828630821,\n",
       "  3.0130763547292734,\n",
       "  3.9599553921539226,\n",
       "  0.037253928439785255,\n",
       "  0.5444414385747436,\n",
       "  0.11596291252767443,\n",
       "  1.519345231215862,\n",
       "  2.5841596778686906,\n",
       "  0.22937117944309904,\n",
       "  0.0007331500735396901,\n",
       "  1.3054980944760395,\n",
       "  1.8746179219236971,\n",
       "  3.7721016816583983,\n",
       "  2.1090390358640256,\n",
       "  4.231282231521806,\n",
       "  4.595097181267153],\n",
       " [5.893395351494679,\n",
       "  7.3950038616380915,\n",
       "  2.708473652645445,\n",
       "  1.0613026428712296,\n",
       "  0.6858820778601817,\n",
       "  0.6630976442707084,\n",
       "  1.4187200635328097,\n",
       "  0.44230720272578417,\n",
       "  0.9861159805017685,\n",
       "  1.4431278329406414,\n",
       "  2.0645622351854804,\n",
       "  0.8548723048428073,\n",
       "  0.5577591928345207,\n",
       "  2.0932059443580755,\n",
       "  1.767321363762079,\n",
       "  0.9327326749163412,\n",
       "  1.5534605275175437,\n",
       "  2.6472000847988326,\n",
       "  2.603580515533764,\n",
       "  0.3952424498984328,\n",
       "  1.2700362321205958,\n",
       "  4.707411146568365,\n",
       "  5.441942854585836,\n",
       "  5.716233801371512,\n",
       "  3.507353135557576,\n",
       "  2.932536594894227,\n",
       "  0.1894170334704306,\n",
       "  0.2966368888443647,\n",
       "  0.2972170492150603,\n",
       "  3.1504894592970842,\n",
       "  0.5015950306964143,\n",
       "  2.424390685885541,\n",
       "  1.0570521667659492,\n",
       "  1.0372136666700857,\n",
       "  2.541920650212994,\n",
       "  0.2593822074405896,\n",
       "  7.413730572908133,\n",
       "  0.2833748923000119,\n",
       "  0.6647861350387423,\n",
       "  1.879895235485769,\n",
       "  3.7083371275363746,\n",
       "  13.60826233269131,\n",
       "  3.9588136599761405,\n",
       "  1.6543244625124913,\n",
       "  5.977618425842632,\n",
       "  2.85995034121229,\n",
       "  4.829630466483913,\n",
       "  2.156082520307951,\n",
       "  4.486754727918392,\n",
       "  6.373376810022165,\n",
       "  0.42720391180784745,\n",
       "  4.212423984350558,\n",
       "  0.3465421343422612,\n",
       "  4.096081885594522,\n",
       "  0.5333005086779643,\n",
       "  1.9652699100536992,\n",
       "  4.870763595555719,\n",
       "  0.2288001637479411,\n",
       "  0.5681250145533241,\n",
       "  5.595383855787077,\n",
       "  4.191633508226886,\n",
       "  2.390755781611272,\n",
       "  0.2654693424183563,\n",
       "  0.4101196058932608,\n",
       "  2.6888369615555483,\n",
       "  4.3390580073629685,\n",
       "  1.4350156098309768,\n",
       "  2.199800797127363,\n",
       "  3.0772542449202263,\n",
       "  0.33038413542191947,\n",
       "  0.08824245317132906,\n",
       "  6.239568301985894,\n",
       "  4.233453858447827,\n",
       "  29.19812367066393,\n",
       "  19.637824629276356,\n",
       "  26.30297299105761,\n",
       "  7.5505783663508765,\n",
       "  3.6491025762201144,\n",
       "  7.020831046317799,\n",
       "  0.08903810294060577,\n",
       "  4.805537767653242,\n",
       "  10.909941154972266,\n",
       "  0.005046376553710985,\n",
       "  4.62253188425764,\n",
       "  3.6261258497083517,\n",
       "  16.462034367990583,\n",
       "  6.581200502713116,\n",
       "  1.7598634524850905,\n",
       "  3.715740028751757,\n",
       "  4.761122675337299,\n",
       "  4.346404075415617,\n",
       "  2.117407657286714,\n",
       "  2.6473107465905485,\n",
       "  5.547209414867959,\n",
       "  1.6327647721240446,\n",
       "  4.382636869058443,\n",
       "  3.1007977216334375,\n",
       "  0.6299383677120041,\n",
       "  3.830107152322057,\n",
       "  5.330959359080943,\n",
       "  10.08364351944819],\n",
       " [4.6543854500724,\n",
       "  5.301341021587451,\n",
       "  1.1674938511690307,\n",
       "  0.7881032337466927,\n",
       "  0.9747427520780292,\n",
       "  1.6375466584094411,\n",
       "  3.4215708865470447,\n",
       "  2.3847503434893653,\n",
       "  0.8501487824471177,\n",
       "  6.08227926540105,\n",
       "  0.4098623801229486,\n",
       "  1.451693414990764,\n",
       "  6.361261713760204,\n",
       "  0.20840732152996466,\n",
       "  3.627932051911568,\n",
       "  4.247606853956306,\n",
       "  9.394757781673398,\n",
       "  0.4056703503377861,\n",
       "  6.8018321538102775,\n",
       "  2.2082589881121244,\n",
       "  4.690498142838052,\n",
       "  1.0183551198909377,\n",
       "  1.474646788914363,\n",
       "  0.0968830798158038,\n",
       "  2.291847058745594,\n",
       "  0.7407389134083004,\n",
       "  8.039245469614926,\n",
       "  8.90126711188762,\n",
       "  0.418744964675561,\n",
       "  2.54698114171995,\n",
       "  5.424613888180442,\n",
       "  1.2069144649329644,\n",
       "  8.498664633703584,\n",
       "  1.557696592760827,\n",
       "  5.110123249595787,\n",
       "  0.5902742435504607,\n",
       "  5.627226996648325,\n",
       "  0.35357655125082843,\n",
       "  2.591618309591265,\n",
       "  13.271906397034172,\n",
       "  1.6013223206738658,\n",
       "  11.87316248012543,\n",
       "  4.751741561639555,\n",
       "  3.464623485483564,\n",
       "  3.4832674261230743,\n",
       "  5.40867807288809,\n",
       "  0.8823195835917943,\n",
       "  0.07403618745357576,\n",
       "  0.9899470455341657,\n",
       "  10.050204648539506,\n",
       "  4.568999272861063,\n",
       "  1.0782760591542413,\n",
       "  1.9154350391865869,\n",
       "  3.6338341237020373,\n",
       "  1.2391821393901878,\n",
       "  7.2564230354175905,\n",
       "  1.4648428541105432,\n",
       "  4.8444173703573625,\n",
       "  2.8999333649159738,\n",
       "  2.487267587878204,\n",
       "  4.931093920992296,\n",
       "  0.9273452627107623,\n",
       "  0.9690827117135932,\n",
       "  0.4821995406345252,\n",
       "  0.5195717289377555,\n",
       "  1.4272464721257236,\n",
       "  5.055174967317992,\n",
       "  3.929972000091283,\n",
       "  5.164584769857392,\n",
       "  3.8011510038866696,\n",
       "  3.965487641347888,\n",
       "  7.426069168420144,\n",
       "  0.8710337133298536,\n",
       "  5.576331146245995,\n",
       "  5.916662222893647,\n",
       "  6.237982779046414,\n",
       "  4.900681558186189,\n",
       "  7.145527583422009,\n",
       "  7.90661244281209,\n",
       "  0.5222815997012056,\n",
       "  12.02203967832778,\n",
       "  3.696605577752793,\n",
       "  4.100711901284281,\n",
       "  5.714299242728144,\n",
       "  0.2605028634827935,\n",
       "  2.6947872768027548,\n",
       "  3.7559092317028657,\n",
       "  4.350949843534776,\n",
       "  4.357025352320054,\n",
       "  0.2747780692217354,\n",
       "  2.128902034177191,\n",
       "  0.24170923650200393,\n",
       "  2.7048225355441016,\n",
       "  0.7211966230476925,\n",
       "  2.986231249605096,\n",
       "  0.12129863347855085,\n",
       "  2.8331439188917535,\n",
       "  0.21497468030099753,\n",
       "  0.9199318183920511,\n",
       "  0.3526056917539808,\n",
       "  0.9445259642445869],\n",
       " [3.6524793132340285,\n",
       "  3.0955494219356403,\n",
       "  7.525214505702685,\n",
       "  4.004050418786051,\n",
       "  0.8456803891262581,\n",
       "  4.313868167109149,\n",
       "  0.03335158657773185,\n",
       "  4.947314544471741,\n",
       "  0.007810015357780031,\n",
       "  2.710251811259621,\n",
       "  1.5146135987060099,\n",
       "  3.6662528002261894,\n",
       "  2.7705263558724127,\n",
       "  1.5375532109920904,\n",
       "  2.3514155554444827,\n",
       "  9.287541229562603,\n",
       "  1.059553422449504,\n",
       "  1.0929334357762457,\n",
       "  0.44377021333139766,\n",
       "  0.9215085451414637,\n",
       "  1.3936293834925344,\n",
       "  0.4005491753877308,\n",
       "  0.8916511426123535,\n",
       "  1.2695282881044037,\n",
       "  1.3664015831398117,\n",
       "  1.8604773053219468,\n",
       "  1.9880585863801912,\n",
       "  0.28325067396527714,\n",
       "  1.2742640532690892,\n",
       "  0.5798454361994949,\n",
       "  1.993734550601161,\n",
       "  11.552263618968228,\n",
       "  2.1951783600460395,\n",
       "  0.7107035437203848,\n",
       "  4.8834742485996046,\n",
       "  1.4186204200452295,\n",
       "  3.328901367713023,\n",
       "  3.018973534267065,\n",
       "  0.5823097097416756,\n",
       "  7.671382906208397,\n",
       "  7.579157797502862,\n",
       "  5.87274377292384,\n",
       "  6.05630411193405,\n",
       "  5.267052315953755,\n",
       "  1.1824442537334043,\n",
       "  1.9692631321520935,\n",
       "  6.376650080848137,\n",
       "  6.047202289537893,\n",
       "  5.466906269440933,\n",
       "  1.399717507504164,\n",
       "  3.85591647194061,\n",
       "  0.7345176767859876,\n",
       "  1.9579172731328924,\n",
       "  3.287103541070806,\n",
       "  0.48129119600582015,\n",
       "  4.381304929390289,\n",
       "  0.792512353510535,\n",
       "  1.8008518045427842,\n",
       "  0.4224675473051107,\n",
       "  0.2314210933004901,\n",
       "  2.501790421403939,\n",
       "  3.9450117513572884,\n",
       "  4.132130621799789,\n",
       "  0.3754576161217571,\n",
       "  1.6040996005906116,\n",
       "  0.20443025345490184,\n",
       "  1.8860786275539567,\n",
       "  0.1858600208957455,\n",
       "  0.044313016515904025,\n",
       "  1.5417749540927375,\n",
       "  3.775324221711525,\n",
       "  2.827727468366863,\n",
       "  3.8364865986861325,\n",
       "  3.0483925002468375,\n",
       "  1.9054910159780007,\n",
       "  2.5739279602039815,\n",
       "  2.0543331425887033,\n",
       "  4.170940082433223,\n",
       "  16.781593880997583,\n",
       "  6.3730789092156215,\n",
       "  14.135931105554562,\n",
       "  8.401674181036821,\n",
       "  10.550084797433058,\n",
       "  4.753431644776505,\n",
       "  3.0314239178010816,\n",
       "  1.4990164303152476,\n",
       "  0.1521627088612636,\n",
       "  0.010296890653886948,\n",
       "  0.3401952199810445,\n",
       "  1.4891244201980456,\n",
       "  2.441803324527495,\n",
       "  2.2286070157762197,\n",
       "  2.353583315495957,\n",
       "  0.8004530275875972,\n",
       "  4.189386543225623,\n",
       "  2.547418834244155,\n",
       "  3.630748991279706,\n",
       "  1.3658302674177456,\n",
       "  4.835655815860147,\n",
       "  6.808886693867375,\n",
       "  0.7038730982577199],\n",
       " [0.40993633950673924,\n",
       "  0.33908476169505164,\n",
       "  0.19978107042561888,\n",
       "  2.0439027898192315,\n",
       "  0.29452197062232344,\n",
       "  4.93407568363709,\n",
       "  1.0479336835241675,\n",
       "  0.7797217486855779,\n",
       "  1.1628011971727794,\n",
       "  2.945392375194153,\n",
       "  7.62677481947696,\n",
       "  1.85508963159932,\n",
       "  3.0776752093176754,\n",
       "  2.3431759277185265,\n",
       "  6.9354438955388495,\n",
       "  4.037769158298872,\n",
       "  1.7674686043488492,\n",
       "  3.425682145554589,\n",
       "  0.778193541862116,\n",
       "  1.0864798210032447,\n",
       "  1.9732718011120944,\n",
       "  2.663959335434974,\n",
       "  0.8520461578233913,\n",
       "  0.7639991739172842,\n",
       "  0.5946144480751769,\n",
       "  5.502129699542847,\n",
       "  5.357012586506386,\n",
       "  5.014564142433684,\n",
       "  2.477791859277996,\n",
       "  13.390759199867354,\n",
       "  5.487357269889678,\n",
       "  3.9822672615359025,\n",
       "  2.402825179783786,\n",
       "  4.778770981792533,\n",
       "  5.948293172418005,\n",
       "  3.5367473257143978,\n",
       "  15.018891497309099,\n",
       "  0.06725689192316153,\n",
       "  1.2666908226981732,\n",
       "  2.8031052673546633,\n",
       "  9.079613311180012,\n",
       "  6.5555426117292654,\n",
       "  0.7506813227907294,\n",
       "  0.8629422757087539,\n",
       "  2.6125497694985675,\n",
       "  0.49337923118927307,\n",
       "  3.7030167026588607,\n",
       "  0.8086480738478556,\n",
       "  0.38398595565717386,\n",
       "  0.34161664746788745,\n",
       "  3.9820728991306673,\n",
       "  3.069099555013949,\n",
       "  1.680194943426553,\n",
       "  0.2824615550883891,\n",
       "  5.188944387465284,\n",
       "  4.537453220565325,\n",
       "  5.446745019733868,\n",
       "  4.549118479278128,\n",
       "  7.280454448042892,\n",
       "  3.244148073425791,\n",
       "  6.40982527970063,\n",
       "  7.24553222700122,\n",
       "  3.0268646263625314,\n",
       "  2.520201796839576,\n",
       "  5.585905638476142,\n",
       "  2.873720624005024,\n",
       "  1.4525151724729781,\n",
       "  2.252393967623725,\n",
       "  2.66619896676033,\n",
       "  2.5491534934055835,\n",
       "  1.0971846705441912,\n",
       "  2.518544353743639,\n",
       "  2.8239949242923856,\n",
       "  2.5362342485443357,\n",
       "  24.731117464968193,\n",
       "  3.817873796331332,\n",
       "  2.7163988142142053,\n",
       "  1.3701795354692798,\n",
       "  2.9425506318158803,\n",
       "  3.387894304744684,\n",
       "  6.729962706120279,\n",
       "  7.027713897674147,\n",
       "  8.356344580845256,\n",
       "  1.7940249127657069,\n",
       "  4.965603246943464,\n",
       "  0.06747676204953734,\n",
       "  2.2406395300700117,\n",
       "  0.09184998606787431,\n",
       "  2.769521617245587,\n",
       "  4.415314835074252,\n",
       "  1.723849779958682,\n",
       "  0.9503080235866079,\n",
       "  3.864747049094124,\n",
       "  4.107482347509798,\n",
       "  0.7357472448255855,\n",
       "  1.3053561990100846,\n",
       "  4.171521942487699,\n",
       "  3.95028546071649,\n",
       "  0.8278449449448004,\n",
       "  0.0036839960473855626,\n",
       "  0.7087104967930564]]"
      ]
     },
     "execution_count": 507,
     "metadata": {},
     "output_type": "execute_result"
    }
   ],
   "source": [
    "errors"
   ]
  },
  {
   "cell_type": "code",
   "execution_count": 513,
   "metadata": {
    "scrolled": true
   },
   "outputs": [
    {
     "data": {
      "text/plain": [
       "3.4006522644606627"
      ]
     },
     "execution_count": 513,
     "metadata": {},
     "output_type": "execute_result"
    }
   ],
   "source": [
    "np.mean(errors)  #returns mean level error"
   ]
  },
  {
   "cell_type": "code",
   "execution_count": 514,
   "metadata": {},
   "outputs": [
    {
     "data": {
      "text/plain": [
       "21.2"
      ]
     },
     "execution_count": 514,
     "metadata": {},
     "output_type": "execute_result"
    }
   ],
   "source": [
    "np.median(target)"
   ]
  },
  {
   "cell_type": "code",
   "execution_count": 515,
   "metadata": {},
   "outputs": [
    {
     "data": {
      "text/plain": [
       "16.040812568210676"
      ]
     },
     "execution_count": 515,
     "metadata": {},
     "output_type": "execute_result"
    }
   ],
   "source": [
    "np.mean(errors)/np.median(target) * 100  #error percentage"
   ]
  },
  {
   "cell_type": "markdown",
   "metadata": {},
   "source": [
    "##### ошибка 14% и следовательно точнось 86%, не очень хорошо"
   ]
  },
  {
   "cell_type": "markdown",
   "metadata": {},
   "source": [
    "##### возможно для ошибки лучше брать среднее, а не медиану"
   ]
  },
  {
   "cell_type": "code",
   "execution_count": null,
   "metadata": {},
   "outputs": [],
   "source": []
  }
 ],
 "metadata": {
  "kernelspec": {
   "display_name": "Python 3",
   "language": "python",
   "name": "python3"
  },
  "language_info": {
   "codemirror_mode": {
    "name": "ipython",
    "version": 3
   },
   "file_extension": ".py",
   "mimetype": "text/x-python",
   "name": "python",
   "nbconvert_exporter": "python",
   "pygments_lexer": "ipython3",
   "version": "3.6.6"
  }
 },
 "nbformat": 4,
 "nbformat_minor": 2
}
