{
 "cells": [
  {
   "cell_type": "markdown",
   "metadata": {},
   "source": [
    "#### Пепцетрон"
   ]
  },
  {
   "cell_type": "code",
   "execution_count": 1,
   "metadata": {},
   "outputs": [],
   "source": [
    "import numpy as np"
   ]
  },
  {
   "cell_type": "markdown",
   "metadata": {},
   "source": [
    "#### Make Class as sklearn with  methods fit and predict for task classification"
   ]
  },
  {
   "cell_type": "code",
   "execution_count": null,
   "metadata": {},
   "outputs": [],
   "source": [
    "###  Модель работает только для бинарной классификации (-1,1)\n",
    "class Perceptron:\n",
    "    def __init__(self,eta=0.01,n=10):\n",
    "        # eta- коэф. скорости обучения, n - к-во итераций\n",
    "        self.eta = eta\n",
    "        self.n = n\n",
    "   def net_input(self, x):\n",
    "        return x @ self.w + self.b   # @-> умножение матриц\n",
    "\n",
    "    def predict(self, x):\n",
    "        return np.where(self.net_input(x) > 0, 1, -1)\t\n",
    "        \n",
    "    def fit(self,x,y):\n",
    "        # x-вектор признаков(матрица) массив numpy ,y- классы(вектор ответов) из -1 или 1\n",
    "        # w масссив весов,  количество, столько сколько и х\n",
    "        self.w = np.zeros(x.shape[1])\n",
    "        self.b=0\n",
    "        self.errors = []\n",
    "        # Далее процесс обучения в количестве  итераций (n)\n",
    "        #Обучение по паре вход/выход значений. Расчитываем угадали выход или нет и двигать вес\n",
    "        # x_- строка набор признаков, y_ - конкретное значение признака\n",
    "        for i in range(self.n):\n",
    "            errors = 0\n",
    "            for x_, y_ in zip(x, y):\n",
    "                update = y_ - self.predict(x_)\n",
    "                self.w += self.eta * (update * x_)\n",
    "                self.b += self.eta * update\n",
    "                errors += y_ != self.predict(x_)\n",
    "            self.errors.append(errors)"
   ]
  }
 ],
 "metadata": {
  "kernelspec": {
   "display_name": "Python 3",
   "language": "python",
   "name": "python3"
  },
  "language_info": {
   "codemirror_mode": {
    "name": "ipython",
    "version": 3
   },
   "file_extension": ".py",
   "mimetype": "text/x-python",
   "name": "python",
   "nbconvert_exporter": "python",
   "pygments_lexer": "ipython3",
   "version": "3.6.6"
  }
 },
 "nbformat": 4,
 "nbformat_minor": 2
}
